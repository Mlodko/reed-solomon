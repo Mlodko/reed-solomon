{
  "cells": [
    {
      "cell_type": "code",
      "execution_count": null,
      "id": "6a35828d-7c01-4451-b1c8-a313b307b27d",
      "metadata": {
        "id": "6a35828d-7c01-4451-b1c8-a313b307b27d"
      },
      "outputs": [],
      "source": [
        "# Run this cell first\n",
        "\n",
        "!git clone https://github.com/Mlodko/reed-solomon.git\n",
        "%cd reed-solomon"
      ]
    },
    {
      "cell_type": "code",
      "source": [
        "from rs import RSCoder, binary_format\n",
        "\n",
        "n = 255 # @param {type:\"slider\", min:0, max:255, step:1}\n",
        "k = 223 # @param {type:\"slider\", min:0, max:255, step:1}\n",
        "input = \"\" # @param {type:\"string\", placeholder:\"Enter a message to be encoded\"}\n",
        "\n",
        "coder = RSCoder(255,223)\n",
        "print(f\"Unencoded message:\\n\\tBinary representation: \\n{binary_format(input)}\")\n",
        "print(\"\\n=========================================\\n\")\n",
        "encoded = coder.encode(input)\n",
        "print(f\"Encoded message:\\n\\tBinary representation: \\n{binary_format(encoded)}\")\n",
        "print(\"\\n=========================================\\n\")\n",
        "print(f\"Decoded message:\\n\\tBinary representation: \\n{binary_format(coder.decode(encoded))}\")"
      ],
      "metadata": {
        "id": "RBAYnDe6j8Ws"
      },
      "id": "RBAYnDe6j8Ws",
      "execution_count": null,
      "outputs": []
    }
  ],
  "metadata": {
    "kernelspec": {
      "display_name": "Python 3 (ipykernel)",
      "language": "python",
      "name": "python3"
    },
    "language_info": {
      "codemirror_mode": {
        "name": "ipython",
        "version": 3
      },
      "file_extension": ".py",
      "mimetype": "text/x-python",
      "name": "python",
      "nbconvert_exporter": "python",
      "pygments_lexer": "ipython3",
      "version": "3.13.2"
    },
    "colab": {
      "provenance": []
    }
  },
  "nbformat": 4,
  "nbformat_minor": 5
}