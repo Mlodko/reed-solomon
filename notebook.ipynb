{
  "cells": [
    {
      "cell_type": "code",
      "execution_count": 1,
      "id": "6a35828d-7c01-4451-b1c8-a313b307b27d",
      "metadata": {
        "colab": {
          "base_uri": "https://localhost:8080/"
        },
        "id": "6a35828d-7c01-4451-b1c8-a313b307b27d",
        "outputId": "8b45034f-796d-4c16-9c38-8819cf04b32b"
      },
      "outputs": [
        {
          "output_type": "stream",
          "name": "stdout",
          "text": [
            "/content/reed-solomon\n"
          ]
        }
      ],
      "source": [
        "# Run this cell first\n",
        "\n",
        "!git clone https://github.com/Mlodko/reed-solomon.git\n",
        "%cd reed-solomon"
      ]
    },
    {
      "cell_type": "code",
      "source": [
        "# Install and test rich output\n",
        "%pip install rich"
      ],
      "metadata": {
        "id": "aJczogKjmvtS",
        "outputId": "faf72740-772e-45fa-925c-47ca08c8ce7a",
        "colab": {
          "base_uri": "https://localhost:8080/"
        }
      },
      "id": "aJczogKjmvtS",
      "execution_count": 3,
      "outputs": [
        {
          "output_type": "stream",
          "name": "stdout",
          "text": [
            "Requirement already satisfied: rich in /usr/local/lib/python3.11/dist-packages (13.9.4)\n",
            "Requirement already satisfied: markdown-it-py>=2.2.0 in /usr/local/lib/python3.11/dist-packages (from rich) (3.0.0)\n",
            "Requirement already satisfied: pygments<3.0.0,>=2.13.0 in /usr/local/lib/python3.11/dist-packages (from rich) (2.19.1)\n",
            "Requirement already satisfied: mdurl~=0.1 in /usr/local/lib/python3.11/dist-packages (from markdown-it-py>=2.2.0->rich) (0.1.2)\n"
          ]
        }
      ]
    },
    {
      "cell_type": "code",
      "source": [
        "from rs import RSCoder, binary_format\n",
        "from rich.console import Console\n",
        "from rich.text import Text\n",
        "import math\n",
        "import random\n",
        "import sys\n",
        "\n",
        "COLOR_BG = \"plum2\"\n",
        "COLOR_PAD = \"bright_black\"\n",
        "COLOR_MSG = \"green\"\n",
        "COLOR_PARITY = \"steel_blue\"\n",
        "STYLE_COMMON = f\"bold on {COLOR_BG}\"\n",
        "COLOR_CHECK_OK = \"bright_green bold\"\n",
        "COLOR_CHECK_FAIL = \"red bold\"\n",
        "COLOR_ERROR = \"bold red\"\n",
        "\n",
        "\n",
        "n = 255  # @param {type:\"slider\", min:1, max:255, step:1}\n",
        "k = 223  # @param {type:\"slider\", min:1, max:254, step:1}\n",
        "input = \"  Lorem ipsum dolor sit amet, consectetur adipiscing elit. Phasellus euismod vehicula felis, ac porta lectus eleifend a. Praesent mauris orci, hendrerit non odio eget, interdum placerat enim. Maecenas ante purus, tempor et vulputate ut, dignissim quis ante. Etiam sollicitudin mattis justo in bibendum. Nam arcu erat, lobortis eget quam vitae, aliquet ullamcorper turpis. Mauris a elit vitae nunc porttitor commodo vitae ut sem. Praesent tristique enim et scelerisque lobortis. Curabitur luctus imperdiet libero, et malesuada sem tincidunt vel. Sed a dui justo.  Maecenas tempor neque nibh, ut tempus augue malesuada a.\"  # @param {type:\"string\", placeholder:\"Enter a message to be encoded\"}\n",
        "errors_per_block = 17 # @param {type:\"slider\", min:0, max:255, step:1}\n",
        "\n",
        "\n",
        "def introduce_errors(encoded_blocks, errors_per_block=2):\n",
        "    \"\"\"Introduces errors while avoiding problematic field values.\"\"\"\n",
        "    corrupted_blocks = []\n",
        "    all_error_positions = []\n",
        "\n",
        "    # Avoid values that would create field elements without inverses\n",
        "    SAFE_ERROR_VALUES = [1, 2, 3, 4, 5]\n",
        "\n",
        "    for block in encoded_blocks:\n",
        "        block_chars = list(block)\n",
        "        error_positions = random.sample(range(len(block_chars)), min(errors_per_block, len(block_chars)))\n",
        "        all_error_positions.append(error_positions)\n",
        "\n",
        "        for pos in error_positions:\n",
        "            current_val = ord(block_chars[pos])\n",
        "            # Make sure we avoid creating value 255\n",
        "            while True:\n",
        "                error_val = random.choice(SAFE_ERROR_VALUES)\n",
        "                if (current_val + error_val) % 256 != 255:\n",
        "                    break\n",
        "\n",
        "            block_chars[pos] = chr((current_val + error_val) % 256)\n",
        "\n",
        "        corrupted_blocks.append(''.join(block_chars))\n",
        "\n",
        "    return corrupted_blocks, all_error_positions\n",
        "\n",
        "def binary_format_highlighted(data, error_positions=None):\n",
        "    \"\"\"Create a formatted hex representation with optional error highlighting.\"\"\"\n",
        "    bytes_array = [ord(c) for c in data]\n",
        "    binary_strings = []\n",
        "\n",
        "    for i, byte in enumerate(bytes_array):\n",
        "        if error_positions and i in error_positions:\n",
        "            binary_strings.append(f\"ERROR:{format(byte, '02X')}\")\n",
        "        else:\n",
        "            binary_strings.append(format(byte, '02X'))\n",
        "\n",
        "    rows = []\n",
        "    for i in range(0, len(binary_strings), 16):\n",
        "        row = binary_strings[i:i+16]\n",
        "        rows.append(' '.join(row))\n",
        "\n",
        "    return '\\n'.join(rows)\n",
        "\n",
        "def print_highlighted_binary(binary_str, console):\n",
        "    \"\"\"Prints binary representation with error highlighting.\"\"\"\n",
        "    text = Text()\n",
        "    lines = binary_str.strip().splitlines()\n",
        "\n",
        "    for line in lines:\n",
        "        tokens = line.split()\n",
        "        for i, token in enumerate(tokens):\n",
        "            if token.startswith(\"ERROR:\"):\n",
        "                text.append(token[6:], COLOR_ERROR)\n",
        "            else:\n",
        "                text.append(token)\n",
        "\n",
        "            if i < len(tokens) - 1:\n",
        "                text.append(\" \")\n",
        "\n",
        "        if line != lines[-1]:\n",
        "            text.append(\"\\n\")\n",
        "\n",
        "    console.print(text)\n",
        "\n",
        "coder = RSCoder(n, k)\n",
        "console = Console(highlight=False)\n",
        "\n",
        "input_char_length = len(input)\n",
        "input_blocks = [input[i:i + k] for i in range(0, input_char_length, k)]\n",
        "\n",
        "encoded_blocks = [coder.encode(block) for block in input_blocks]\n",
        "\n",
        "encoded_blocks_corrupted, error_positions = introduce_errors(encoded_blocks, errors_per_block)\n",
        "\n",
        "decoded_blocks = []\n",
        "for i, encoded_block in enumerate(encoded_blocks_corrupted):\n",
        "    decoded_block = coder.decode(bytes(encoded_block, 'latin1'))\n",
        "    decoded_blocks.append(decoded_block[:len(input_blocks[i])])\n",
        "\n",
        "decoded = ''.join(decoded_blocks)\n",
        "\n",
        "bin_input = binary_format(input)\n",
        "bin_decoded = binary_format(decoded)\n",
        "bin_input_blocks = [binary_format(block) for block in input_blocks]\n",
        "bin_encoded_blocks = [binary_format(block) for block in encoded_blocks_corrupted]\n",
        "\n",
        "highlighted_blocks = []\n",
        "\n",
        "for block, encoded_block in zip(input_blocks, encoded_blocks):\n",
        "    pad_len = k - len(block)\n",
        "    byte_lines = binary_format(encoded_block).strip().splitlines()\n",
        "    byte_tokens = [b for line in byte_lines for b in line.strip().split()]\n",
        "\n",
        "    text = Text()\n",
        "\n",
        "    for i, byte in enumerate(byte_tokens):\n",
        "        if i < pad_len:\n",
        "            style = f\"{COLOR_PAD} {STYLE_COMMON}\"\n",
        "        elif i < k:\n",
        "            style = f\"{COLOR_MSG} {STYLE_COMMON}\"\n",
        "        else:\n",
        "            style = f\"{COLOR_PARITY} {STYLE_COMMON}\"\n",
        "\n",
        "        text.append(byte, style)\n",
        "        text.append(\" \" if (i + 1) % 16 else \"\\n\", f\"on {COLOR_BG}\")\n",
        "\n",
        "    highlighted_blocks.append(text)\n",
        "\n",
        "bin_input_pretty = Text(bin_input)\n",
        "bin_input_pretty.stylize(f\"{COLOR_MSG} bold\", 0, len(bin_input))\n",
        "\n",
        "bin_decoded_pretty = Text(bin_decoded)\n",
        "start = bin_decoded.find(bin_input)\n",
        "if start != -1:\n",
        "    bin_decoded_pretty.stylize(f\"{COLOR_MSG} bold\", start, start + len(bin_input))\n",
        "\n",
        "block_count = math.ceil(input_char_length / k)\n",
        "encoded_char_length = block_count * n\n",
        "padding_char_length = block_count * k - input_char_length\n",
        "parity_char_length = block_count * (n - k)\n",
        "\n",
        "console.print(\"\\n===============================================\")\n",
        "console.print(\"DECODING RESULTS:\")\n",
        "console.print(\"===============================================\")\n",
        "\n",
        "console.print(\"\\nUnencoded message:\\n\\tBinary representation:\")\n",
        "console.print(bin_input_pretty)\n",
        "console.print(f\"Character (byte) length: {input_char_length}\")\n",
        "\n",
        "console.print(\"\\n=========================================\\n\")\n",
        "console.print(\"Encoded message:\\n\\tBinary representation:\")\n",
        "for block in highlighted_blocks:\n",
        "    console.print(block + \"\\n\")\n",
        "\n",
        "\n",
        "console.print(f\"Total byte length (block_count × n): [{COLOR_BG}]{encoded_char_length}[/{COLOR_BG}]\")\n",
        "console.print(f\"Padding byte length (block_count × k - input_chars): [{COLOR_PAD}]{padding_char_length}[/{COLOR_PAD}]\")\n",
        "console.print(f\"Message byte length: [{COLOR_MSG}]{input_char_length}[/{COLOR_MSG}]\")\n",
        "console.print(f\"Parity byte length (block_count × (n - k)): [{COLOR_PARITY}]{parity_char_length}[/{COLOR_PARITY}]\")\n",
        "\n",
        "console.print(\"\\n===============================================\")\n",
        "console.print(\"Corrupted message (errors in red):\")\n",
        "for i, (block, positions) in enumerate(zip(encoded_blocks_corrupted, error_positions)):\n",
        "    highlighted_binary = binary_format_highlighted(block, positions)\n",
        "    print_highlighted_binary(highlighted_binary, console)\n",
        "\n",
        "console.print(\"\\n=========================================\\n\")\n",
        "console.print(\"Decoded message:\\n\\tBinary representation:\")\n",
        "console.print(bin_decoded_pretty)\n",
        "\n",
        "console.print(\"\\n=========================================\\n\")\n",
        "console.print(\"Decoding validity check:\")\n",
        "if decoded == input:\n",
        "  console.print(f\"[{COLOR_CHECK_OK}]✓ [OK] Decoded message matches input[/{COLOR_CHECK_OK}]\")\n",
        "else:\n",
        "    console.print(f\"[{COLOR_CHECK_FAIL}]✗ [FAIL] Decoded message doesn't match input[/{COLOR_CHECK_FAIL}]\")\n",
        "    console.print(f\"\\tInput message: {input}\\n\\tDecoded message: {decoded}\")\n"
      ],
      "metadata": {
        "colab": {
          "base_uri": "https://localhost:8080/",
          "height": 1000
        },
        "id": "RBAYnDe6j8Ws",
        "outputId": "061ecf9b-290a-4b6b-ca46-6a472776e550",
        "cellView": "form"
      },
      "id": "RBAYnDe6j8Ws",
      "execution_count": 2,
      "outputs": [
        {
          "output_type": "display_data",
          "data": {
            "text/plain": [
              "\n",
              "===============================================\n"
            ],
            "text/html": [
              "<pre style=\"white-space:pre;overflow-x:auto;line-height:normal;font-family:Menlo,'DejaVu Sans Mono',consolas,'Courier New',monospace\">\n",
              "===============================================\n",
              "</pre>\n"
            ]
          },
          "metadata": {}
        },
        {
          "output_type": "display_data",
          "data": {
            "text/plain": [
              "DECODING RESULTS:\n"
            ],
            "text/html": [
              "<pre style=\"white-space:pre;overflow-x:auto;line-height:normal;font-family:Menlo,'DejaVu Sans Mono',consolas,'Courier New',monospace\">DECODING RESULTS:\n",
              "</pre>\n"
            ]
          },
          "metadata": {}
        },
        {
          "output_type": "display_data",
          "data": {
            "text/plain": [
              "===============================================\n"
            ],
            "text/html": [
              "<pre style=\"white-space:pre;overflow-x:auto;line-height:normal;font-family:Menlo,'DejaVu Sans Mono',consolas,'Courier New',monospace\">===============================================\n",
              "</pre>\n"
            ]
          },
          "metadata": {}
        },
        {
          "output_type": "display_data",
          "data": {
            "text/plain": [
              "\n",
              "Unencoded message:\n",
              "        Binary representation:\n"
            ],
            "text/html": [
              "<pre style=\"white-space:pre;overflow-x:auto;line-height:normal;font-family:Menlo,'DejaVu Sans Mono',consolas,'Courier New',monospace\">\n",
              "Unencoded message:\n",
              "        Binary representation:\n",
              "</pre>\n"
            ]
          },
          "metadata": {}
        },
        {
          "output_type": "display_data",
          "data": {
            "text/plain": [
              "\u001b[1;32m20 20 4C 6F 72 65 6D 20 69 70 73 75 6D 20 64 6F\u001b[0m\n",
              "\u001b[1;32m6C 6F 72 20 73 69 74 20 61 6D 65 74 2C 20 63 6F\u001b[0m\n",
              "\u001b[1;32m6E 73 65 63 74 65 74 75 72 20 61 64 69 70 69 73\u001b[0m\n",
              "\u001b[1;32m63 69 6E 67 20 65 6C 69 74 2E 20 50 68 61 73 65\u001b[0m\n",
              "\u001b[1;32m6C 6C 75 73 20 65 75 69 73 6D 6F 64 20 76 65 68\u001b[0m\n",
              "\u001b[1;32m69 63 75 6C 61 20 66 65 6C 69 73 2C 20 61 63 20\u001b[0m\n",
              "\u001b[1;32m70 6F 72 74 61 20 6C 65 63 74 75 73 20 65 6C 65\u001b[0m\n",
              "\u001b[1;32m69 66 65 6E 64 20 61 2E 20 50 72 61 65 73 65 6E\u001b[0m\n",
              "\u001b[1;32m74 20 6D 61 75 72 69 73 20 6F 72 63 69 2C 20 68\u001b[0m\n",
              "\u001b[1;32m65 6E 64 72 65 72 69 74 20 6E 6F 6E 20 6F 64 69\u001b[0m\n",
              "\u001b[1;32m6F 20 65 67 65 74 2C 20 69 6E 74 65 72 64 75 6D\u001b[0m\n",
              "\u001b[1;32m20 70 6C 61 63 65 72 61 74 20 65 6E 69 6D 2E 20\u001b[0m\n",
              "\u001b[1;32m4D 61 65 63 65 6E 61 73 20 61 6E 74 65 20 70 75\u001b[0m\n",
              "\u001b[1;32m72 75 73 2C 20 74 65 6D 70 6F 72 20 65 74 20 76\u001b[0m\n",
              "\u001b[1;32m75 6C 70 75 74 61 74 65 20 75 74 2C 20 64 69 67\u001b[0m\n",
              "\u001b[1;32m6E 69 73 73 69 6D 20 71 75 69 73 20 61 6E 74 65\u001b[0m\n",
              "\u001b[1;32m2E 20 45 74 69 61 6D 20 73 6F 6C 6C 69 63 69 74\u001b[0m\n",
              "\u001b[1;32m75 64 69 6E 20 6D 61 74 74 69 73 20 6A 75 73 74\u001b[0m\n",
              "\u001b[1;32m6F 20 69 6E 20 62 69 62 65 6E 64 75 6D 2E 20 4E\u001b[0m\n",
              "\u001b[1;32m61 6D 20 61 72 63 75 20 65 72 61 74 2C 20 6C 6F\u001b[0m\n",
              "\u001b[1;32m62 6F 72 74 69 73 20 65 67 65 74 20 71 75 61 6D\u001b[0m\n",
              "\u001b[1;32m20 76 69 74 61 65 2C 20 61 6C 69 71 75 65 74 20\u001b[0m\n",
              "\u001b[1;32m75 6C 6C 61 6D 63 6F 72 70 65 72 20 74 75 72 70\u001b[0m\n",
              "\u001b[1;32m69 73 2E 20 4D 61 75 72 69 73 20 61 20 65 6C 69\u001b[0m\n",
              "\u001b[1;32m74 20 76 69 74 61 65 20 6E 75 6E 63 20 70 6F 72\u001b[0m\n",
              "\u001b[1;32m74 74 69 74 6F 72 20 63 6F 6D 6D 6F 64 6F 20 76\u001b[0m\n",
              "\u001b[1;32m69 74 61 65 20 75 74 20 73 65 6D 2E 20 50 72 61\u001b[0m\n",
              "\u001b[1;32m65 73 65 6E 74 20 74 72 69 73 74 69 71 75 65 20\u001b[0m\n",
              "\u001b[1;32m65 6E 69 6D 20 65 74 20 73 63 65 6C 65 72 69 73\u001b[0m\n",
              "\u001b[1;32m71 75 65 20 6C 6F 62 6F 72 74 69 73 2E 20 43 75\u001b[0m\n",
              "\u001b[1;32m72 61 62 69 74 75 72 20 6C 75 63 74 75 73 20 69\u001b[0m\n",
              "\u001b[1;32m6D 70 65 72 64 69 65 74 20 6C 69 62 65 72 6F 2C\u001b[0m\n",
              "\u001b[1;32m20 65 74 20 6D 61 6C 65 73 75 61 64 61 20 73 65\u001b[0m\n",
              "\u001b[1;32m6D 20 74 69 6E 63 69 64 75 6E 74 20 76 65 6C 2E\u001b[0m\n",
              "\u001b[1;32m20 53 65 64 20 61 20 64 75 69 20 6A 75 73 74 6F\u001b[0m\n",
              "\u001b[1;32m2E 20 20 4D 61 65 63 65 6E 61 73 20 74 65 6D 70\u001b[0m\n",
              "\u001b[1;32m6F 72 20 6E 65 71 75 65 20 6E 69 62 68 2C 20 75\u001b[0m\n",
              "\u001b[1;32m74 20 74 65 6D 70 75 73 20 61 75 67 75 65 20 6D\u001b[0m\n",
              "\u001b[1;32m61 6C 65 73 75 61 64 61 20 61 2E\u001b[0m\n"
            ],
            "text/html": [
              "<pre style=\"white-space:pre;overflow-x:auto;line-height:normal;font-family:Menlo,'DejaVu Sans Mono',consolas,'Courier New',monospace\"><span style=\"color: #008000; text-decoration-color: #008000; font-weight: bold\">20 20 4C 6F 72 65 6D 20 69 70 73 75 6D 20 64 6F</span>\n",
              "<span style=\"color: #008000; text-decoration-color: #008000; font-weight: bold\">6C 6F 72 20 73 69 74 20 61 6D 65 74 2C 20 63 6F</span>\n",
              "<span style=\"color: #008000; text-decoration-color: #008000; font-weight: bold\">6E 73 65 63 74 65 74 75 72 20 61 64 69 70 69 73</span>\n",
              "<span style=\"color: #008000; text-decoration-color: #008000; font-weight: bold\">63 69 6E 67 20 65 6C 69 74 2E 20 50 68 61 73 65</span>\n",
              "<span style=\"color: #008000; text-decoration-color: #008000; font-weight: bold\">6C 6C 75 73 20 65 75 69 73 6D 6F 64 20 76 65 68</span>\n",
              "<span style=\"color: #008000; text-decoration-color: #008000; font-weight: bold\">69 63 75 6C 61 20 66 65 6C 69 73 2C 20 61 63 20</span>\n",
              "<span style=\"color: #008000; text-decoration-color: #008000; font-weight: bold\">70 6F 72 74 61 20 6C 65 63 74 75 73 20 65 6C 65</span>\n",
              "<span style=\"color: #008000; text-decoration-color: #008000; font-weight: bold\">69 66 65 6E 64 20 61 2E 20 50 72 61 65 73 65 6E</span>\n",
              "<span style=\"color: #008000; text-decoration-color: #008000; font-weight: bold\">74 20 6D 61 75 72 69 73 20 6F 72 63 69 2C 20 68</span>\n",
              "<span style=\"color: #008000; text-decoration-color: #008000; font-weight: bold\">65 6E 64 72 65 72 69 74 20 6E 6F 6E 20 6F 64 69</span>\n",
              "<span style=\"color: #008000; text-decoration-color: #008000; font-weight: bold\">6F 20 65 67 65 74 2C 20 69 6E 74 65 72 64 75 6D</span>\n",
              "<span style=\"color: #008000; text-decoration-color: #008000; font-weight: bold\">20 70 6C 61 63 65 72 61 74 20 65 6E 69 6D 2E 20</span>\n",
              "<span style=\"color: #008000; text-decoration-color: #008000; font-weight: bold\">4D 61 65 63 65 6E 61 73 20 61 6E 74 65 20 70 75</span>\n",
              "<span style=\"color: #008000; text-decoration-color: #008000; font-weight: bold\">72 75 73 2C 20 74 65 6D 70 6F 72 20 65 74 20 76</span>\n",
              "<span style=\"color: #008000; text-decoration-color: #008000; font-weight: bold\">75 6C 70 75 74 61 74 65 20 75 74 2C 20 64 69 67</span>\n",
              "<span style=\"color: #008000; text-decoration-color: #008000; font-weight: bold\">6E 69 73 73 69 6D 20 71 75 69 73 20 61 6E 74 65</span>\n",
              "<span style=\"color: #008000; text-decoration-color: #008000; font-weight: bold\">2E 20 45 74 69 61 6D 20 73 6F 6C 6C 69 63 69 74</span>\n",
              "<span style=\"color: #008000; text-decoration-color: #008000; font-weight: bold\">75 64 69 6E 20 6D 61 74 74 69 73 20 6A 75 73 74</span>\n",
              "<span style=\"color: #008000; text-decoration-color: #008000; font-weight: bold\">6F 20 69 6E 20 62 69 62 65 6E 64 75 6D 2E 20 4E</span>\n",
              "<span style=\"color: #008000; text-decoration-color: #008000; font-weight: bold\">61 6D 20 61 72 63 75 20 65 72 61 74 2C 20 6C 6F</span>\n",
              "<span style=\"color: #008000; text-decoration-color: #008000; font-weight: bold\">62 6F 72 74 69 73 20 65 67 65 74 20 71 75 61 6D</span>\n",
              "<span style=\"color: #008000; text-decoration-color: #008000; font-weight: bold\">20 76 69 74 61 65 2C 20 61 6C 69 71 75 65 74 20</span>\n",
              "<span style=\"color: #008000; text-decoration-color: #008000; font-weight: bold\">75 6C 6C 61 6D 63 6F 72 70 65 72 20 74 75 72 70</span>\n",
              "<span style=\"color: #008000; text-decoration-color: #008000; font-weight: bold\">69 73 2E 20 4D 61 75 72 69 73 20 61 20 65 6C 69</span>\n",
              "<span style=\"color: #008000; text-decoration-color: #008000; font-weight: bold\">74 20 76 69 74 61 65 20 6E 75 6E 63 20 70 6F 72</span>\n",
              "<span style=\"color: #008000; text-decoration-color: #008000; font-weight: bold\">74 74 69 74 6F 72 20 63 6F 6D 6D 6F 64 6F 20 76</span>\n",
              "<span style=\"color: #008000; text-decoration-color: #008000; font-weight: bold\">69 74 61 65 20 75 74 20 73 65 6D 2E 20 50 72 61</span>\n",
              "<span style=\"color: #008000; text-decoration-color: #008000; font-weight: bold\">65 73 65 6E 74 20 74 72 69 73 74 69 71 75 65 20</span>\n",
              "<span style=\"color: #008000; text-decoration-color: #008000; font-weight: bold\">65 6E 69 6D 20 65 74 20 73 63 65 6C 65 72 69 73</span>\n",
              "<span style=\"color: #008000; text-decoration-color: #008000; font-weight: bold\">71 75 65 20 6C 6F 62 6F 72 74 69 73 2E 20 43 75</span>\n",
              "<span style=\"color: #008000; text-decoration-color: #008000; font-weight: bold\">72 61 62 69 74 75 72 20 6C 75 63 74 75 73 20 69</span>\n",
              "<span style=\"color: #008000; text-decoration-color: #008000; font-weight: bold\">6D 70 65 72 64 69 65 74 20 6C 69 62 65 72 6F 2C</span>\n",
              "<span style=\"color: #008000; text-decoration-color: #008000; font-weight: bold\">20 65 74 20 6D 61 6C 65 73 75 61 64 61 20 73 65</span>\n",
              "<span style=\"color: #008000; text-decoration-color: #008000; font-weight: bold\">6D 20 74 69 6E 63 69 64 75 6E 74 20 76 65 6C 2E</span>\n",
              "<span style=\"color: #008000; text-decoration-color: #008000; font-weight: bold\">20 53 65 64 20 61 20 64 75 69 20 6A 75 73 74 6F</span>\n",
              "<span style=\"color: #008000; text-decoration-color: #008000; font-weight: bold\">2E 20 20 4D 61 65 63 65 6E 61 73 20 74 65 6D 70</span>\n",
              "<span style=\"color: #008000; text-decoration-color: #008000; font-weight: bold\">6F 72 20 6E 65 71 75 65 20 6E 69 62 68 2C 20 75</span>\n",
              "<span style=\"color: #008000; text-decoration-color: #008000; font-weight: bold\">74 20 74 65 6D 70 75 73 20 61 75 67 75 65 20 6D</span>\n",
              "<span style=\"color: #008000; text-decoration-color: #008000; font-weight: bold\">61 6C 65 73 75 61 64 61 20 61 2E</span>\n",
              "</pre>\n"
            ]
          },
          "metadata": {}
        },
        {
          "output_type": "display_data",
          "data": {
            "text/plain": [
              "Character (byte) length: 619\n"
            ],
            "text/html": [
              "<pre style=\"white-space:pre;overflow-x:auto;line-height:normal;font-family:Menlo,'DejaVu Sans Mono',consolas,'Courier New',monospace\">Character (byte) length: 619\n",
              "</pre>\n"
            ]
          },
          "metadata": {}
        },
        {
          "output_type": "display_data",
          "data": {
            "text/plain": [
              "\n",
              "=========================================\n",
              "\n"
            ],
            "text/html": [
              "<pre style=\"white-space:pre;overflow-x:auto;line-height:normal;font-family:Menlo,'DejaVu Sans Mono',consolas,'Courier New',monospace\">\n",
              "=========================================\n",
              "\n",
              "</pre>\n"
            ]
          },
          "metadata": {}
        },
        {
          "output_type": "display_data",
          "data": {
            "text/plain": [
              "Encoded message:\n",
              "        Binary representation:\n"
            ],
            "text/html": [
              "<pre style=\"white-space:pre;overflow-x:auto;line-height:normal;font-family:Menlo,'DejaVu Sans Mono',consolas,'Courier New',monospace\">Encoded message:\n",
              "        Binary representation:\n",
              "</pre>\n"
            ]
          },
          "metadata": {}
        },
        {
          "output_type": "display_data",
          "data": {
            "text/plain": [
              "\u001b[1;32;48;5;183m20\u001b[0m\u001b[48;5;183m \u001b[0m\u001b[1;32;48;5;183m20\u001b[0m\u001b[48;5;183m \u001b[0m\u001b[1;32;48;5;183m4C\u001b[0m\u001b[48;5;183m \u001b[0m\u001b[1;32;48;5;183m6F\u001b[0m\u001b[48;5;183m \u001b[0m\u001b[1;32;48;5;183m72\u001b[0m\u001b[48;5;183m \u001b[0m\u001b[1;32;48;5;183m65\u001b[0m\u001b[48;5;183m \u001b[0m\u001b[1;32;48;5;183m6D\u001b[0m\u001b[48;5;183m \u001b[0m\u001b[1;32;48;5;183m20\u001b[0m\u001b[48;5;183m \u001b[0m\u001b[1;32;48;5;183m69\u001b[0m\u001b[48;5;183m \u001b[0m\u001b[1;32;48;5;183m70\u001b[0m\u001b[48;5;183m \u001b[0m\u001b[1;32;48;5;183m73\u001b[0m\u001b[48;5;183m \u001b[0m\u001b[1;32;48;5;183m75\u001b[0m\u001b[48;5;183m \u001b[0m\u001b[1;32;48;5;183m6D\u001b[0m\u001b[48;5;183m \u001b[0m\u001b[1;32;48;5;183m20\u001b[0m\u001b[48;5;183m \u001b[0m\u001b[1;32;48;5;183m64\u001b[0m\u001b[48;5;183m \u001b[0m\u001b[1;32;48;5;183m6F\u001b[0m\n",
              "\u001b[1;32;48;5;183m6C\u001b[0m\u001b[48;5;183m \u001b[0m\u001b[1;32;48;5;183m6F\u001b[0m\u001b[48;5;183m \u001b[0m\u001b[1;32;48;5;183m72\u001b[0m\u001b[48;5;183m \u001b[0m\u001b[1;32;48;5;183m20\u001b[0m\u001b[48;5;183m \u001b[0m\u001b[1;32;48;5;183m73\u001b[0m\u001b[48;5;183m \u001b[0m\u001b[1;32;48;5;183m69\u001b[0m\u001b[48;5;183m \u001b[0m\u001b[1;32;48;5;183m74\u001b[0m\u001b[48;5;183m \u001b[0m\u001b[1;32;48;5;183m20\u001b[0m\u001b[48;5;183m \u001b[0m\u001b[1;32;48;5;183m61\u001b[0m\u001b[48;5;183m \u001b[0m\u001b[1;32;48;5;183m6D\u001b[0m\u001b[48;5;183m \u001b[0m\u001b[1;32;48;5;183m65\u001b[0m\u001b[48;5;183m \u001b[0m\u001b[1;32;48;5;183m74\u001b[0m\u001b[48;5;183m \u001b[0m\u001b[1;32;48;5;183m2C\u001b[0m\u001b[48;5;183m \u001b[0m\u001b[1;32;48;5;183m20\u001b[0m\u001b[48;5;183m \u001b[0m\u001b[1;32;48;5;183m63\u001b[0m\u001b[48;5;183m \u001b[0m\u001b[1;32;48;5;183m6F\u001b[0m\n",
              "\u001b[1;32;48;5;183m6E\u001b[0m\u001b[48;5;183m \u001b[0m\u001b[1;32;48;5;183m73\u001b[0m\u001b[48;5;183m \u001b[0m\u001b[1;32;48;5;183m65\u001b[0m\u001b[48;5;183m \u001b[0m\u001b[1;32;48;5;183m63\u001b[0m\u001b[48;5;183m \u001b[0m\u001b[1;32;48;5;183m74\u001b[0m\u001b[48;5;183m \u001b[0m\u001b[1;32;48;5;183m65\u001b[0m\u001b[48;5;183m \u001b[0m\u001b[1;32;48;5;183m74\u001b[0m\u001b[48;5;183m \u001b[0m\u001b[1;32;48;5;183m75\u001b[0m\u001b[48;5;183m \u001b[0m\u001b[1;32;48;5;183m72\u001b[0m\u001b[48;5;183m \u001b[0m\u001b[1;32;48;5;183m20\u001b[0m\u001b[48;5;183m \u001b[0m\u001b[1;32;48;5;183m61\u001b[0m\u001b[48;5;183m \u001b[0m\u001b[1;32;48;5;183m64\u001b[0m\u001b[48;5;183m \u001b[0m\u001b[1;32;48;5;183m69\u001b[0m\u001b[48;5;183m \u001b[0m\u001b[1;32;48;5;183m70\u001b[0m\u001b[48;5;183m \u001b[0m\u001b[1;32;48;5;183m69\u001b[0m\u001b[48;5;183m \u001b[0m\u001b[1;32;48;5;183m73\u001b[0m\n",
              "\u001b[1;32;48;5;183m63\u001b[0m\u001b[48;5;183m \u001b[0m\u001b[1;32;48;5;183m69\u001b[0m\u001b[48;5;183m \u001b[0m\u001b[1;32;48;5;183m6E\u001b[0m\u001b[48;5;183m \u001b[0m\u001b[1;32;48;5;183m67\u001b[0m\u001b[48;5;183m \u001b[0m\u001b[1;32;48;5;183m20\u001b[0m\u001b[48;5;183m \u001b[0m\u001b[1;32;48;5;183m65\u001b[0m\u001b[48;5;183m \u001b[0m\u001b[1;32;48;5;183m6C\u001b[0m\u001b[48;5;183m \u001b[0m\u001b[1;32;48;5;183m69\u001b[0m\u001b[48;5;183m \u001b[0m\u001b[1;32;48;5;183m74\u001b[0m\u001b[48;5;183m \u001b[0m\u001b[1;32;48;5;183m2E\u001b[0m\u001b[48;5;183m \u001b[0m\u001b[1;32;48;5;183m20\u001b[0m\u001b[48;5;183m \u001b[0m\u001b[1;32;48;5;183m50\u001b[0m\u001b[48;5;183m \u001b[0m\u001b[1;32;48;5;183m68\u001b[0m\u001b[48;5;183m \u001b[0m\u001b[1;32;48;5;183m61\u001b[0m\u001b[48;5;183m \u001b[0m\u001b[1;32;48;5;183m73\u001b[0m\u001b[48;5;183m \u001b[0m\u001b[1;32;48;5;183m65\u001b[0m\n",
              "\u001b[1;32;48;5;183m6C\u001b[0m\u001b[48;5;183m \u001b[0m\u001b[1;32;48;5;183m6C\u001b[0m\u001b[48;5;183m \u001b[0m\u001b[1;32;48;5;183m75\u001b[0m\u001b[48;5;183m \u001b[0m\u001b[1;32;48;5;183m73\u001b[0m\u001b[48;5;183m \u001b[0m\u001b[1;32;48;5;183m20\u001b[0m\u001b[48;5;183m \u001b[0m\u001b[1;32;48;5;183m65\u001b[0m\u001b[48;5;183m \u001b[0m\u001b[1;32;48;5;183m75\u001b[0m\u001b[48;5;183m \u001b[0m\u001b[1;32;48;5;183m69\u001b[0m\u001b[48;5;183m \u001b[0m\u001b[1;32;48;5;183m73\u001b[0m\u001b[48;5;183m \u001b[0m\u001b[1;32;48;5;183m6D\u001b[0m\u001b[48;5;183m \u001b[0m\u001b[1;32;48;5;183m6F\u001b[0m\u001b[48;5;183m \u001b[0m\u001b[1;32;48;5;183m64\u001b[0m\u001b[48;5;183m \u001b[0m\u001b[1;32;48;5;183m20\u001b[0m\u001b[48;5;183m \u001b[0m\u001b[1;32;48;5;183m76\u001b[0m\u001b[48;5;183m \u001b[0m\u001b[1;32;48;5;183m65\u001b[0m\u001b[48;5;183m \u001b[0m\u001b[1;32;48;5;183m68\u001b[0m\n",
              "\u001b[1;32;48;5;183m69\u001b[0m\u001b[48;5;183m \u001b[0m\u001b[1;32;48;5;183m63\u001b[0m\u001b[48;5;183m \u001b[0m\u001b[1;32;48;5;183m75\u001b[0m\u001b[48;5;183m \u001b[0m\u001b[1;32;48;5;183m6C\u001b[0m\u001b[48;5;183m \u001b[0m\u001b[1;32;48;5;183m61\u001b[0m\u001b[48;5;183m \u001b[0m\u001b[1;32;48;5;183m20\u001b[0m\u001b[48;5;183m \u001b[0m\u001b[1;32;48;5;183m66\u001b[0m\u001b[48;5;183m \u001b[0m\u001b[1;32;48;5;183m65\u001b[0m\u001b[48;5;183m \u001b[0m\u001b[1;32;48;5;183m6C\u001b[0m\u001b[48;5;183m \u001b[0m\u001b[1;32;48;5;183m69\u001b[0m\u001b[48;5;183m \u001b[0m\u001b[1;32;48;5;183m73\u001b[0m\u001b[48;5;183m \u001b[0m\u001b[1;32;48;5;183m2C\u001b[0m\u001b[48;5;183m \u001b[0m\u001b[1;32;48;5;183m20\u001b[0m\u001b[48;5;183m \u001b[0m\u001b[1;32;48;5;183m61\u001b[0m\u001b[48;5;183m \u001b[0m\u001b[1;32;48;5;183m63\u001b[0m\u001b[48;5;183m \u001b[0m\u001b[1;32;48;5;183m20\u001b[0m\n",
              "\u001b[1;32;48;5;183m70\u001b[0m\u001b[48;5;183m \u001b[0m\u001b[1;32;48;5;183m6F\u001b[0m\u001b[48;5;183m \u001b[0m\u001b[1;32;48;5;183m72\u001b[0m\u001b[48;5;183m \u001b[0m\u001b[1;32;48;5;183m74\u001b[0m\u001b[48;5;183m \u001b[0m\u001b[1;32;48;5;183m61\u001b[0m\u001b[48;5;183m \u001b[0m\u001b[1;32;48;5;183m20\u001b[0m\u001b[48;5;183m \u001b[0m\u001b[1;32;48;5;183m6C\u001b[0m\u001b[48;5;183m \u001b[0m\u001b[1;32;48;5;183m65\u001b[0m\u001b[48;5;183m \u001b[0m\u001b[1;32;48;5;183m63\u001b[0m\u001b[48;5;183m \u001b[0m\u001b[1;32;48;5;183m74\u001b[0m\u001b[48;5;183m \u001b[0m\u001b[1;32;48;5;183m75\u001b[0m\u001b[48;5;183m \u001b[0m\u001b[1;32;48;5;183m73\u001b[0m\u001b[48;5;183m \u001b[0m\u001b[1;32;48;5;183m20\u001b[0m\u001b[48;5;183m \u001b[0m\u001b[1;32;48;5;183m65\u001b[0m\u001b[48;5;183m \u001b[0m\u001b[1;32;48;5;183m6C\u001b[0m\u001b[48;5;183m \u001b[0m\u001b[1;32;48;5;183m65\u001b[0m\n",
              "\u001b[1;32;48;5;183m69\u001b[0m\u001b[48;5;183m \u001b[0m\u001b[1;32;48;5;183m66\u001b[0m\u001b[48;5;183m \u001b[0m\u001b[1;32;48;5;183m65\u001b[0m\u001b[48;5;183m \u001b[0m\u001b[1;32;48;5;183m6E\u001b[0m\u001b[48;5;183m \u001b[0m\u001b[1;32;48;5;183m64\u001b[0m\u001b[48;5;183m \u001b[0m\u001b[1;32;48;5;183m20\u001b[0m\u001b[48;5;183m \u001b[0m\u001b[1;32;48;5;183m61\u001b[0m\u001b[48;5;183m \u001b[0m\u001b[1;32;48;5;183m2E\u001b[0m\u001b[48;5;183m \u001b[0m\u001b[1;32;48;5;183m20\u001b[0m\u001b[48;5;183m \u001b[0m\u001b[1;32;48;5;183m50\u001b[0m\u001b[48;5;183m \u001b[0m\u001b[1;32;48;5;183m72\u001b[0m\u001b[48;5;183m \u001b[0m\u001b[1;32;48;5;183m61\u001b[0m\u001b[48;5;183m \u001b[0m\u001b[1;32;48;5;183m65\u001b[0m\u001b[48;5;183m \u001b[0m\u001b[1;32;48;5;183m73\u001b[0m\u001b[48;5;183m \u001b[0m\u001b[1;32;48;5;183m65\u001b[0m\u001b[48;5;183m \u001b[0m\u001b[1;32;48;5;183m6E\u001b[0m\n",
              "\u001b[1;32;48;5;183m74\u001b[0m\u001b[48;5;183m \u001b[0m\u001b[1;32;48;5;183m20\u001b[0m\u001b[48;5;183m \u001b[0m\u001b[1;32;48;5;183m6D\u001b[0m\u001b[48;5;183m \u001b[0m\u001b[1;32;48;5;183m61\u001b[0m\u001b[48;5;183m \u001b[0m\u001b[1;32;48;5;183m75\u001b[0m\u001b[48;5;183m \u001b[0m\u001b[1;32;48;5;183m72\u001b[0m\u001b[48;5;183m \u001b[0m\u001b[1;32;48;5;183m69\u001b[0m\u001b[48;5;183m \u001b[0m\u001b[1;32;48;5;183m73\u001b[0m\u001b[48;5;183m \u001b[0m\u001b[1;32;48;5;183m20\u001b[0m\u001b[48;5;183m \u001b[0m\u001b[1;32;48;5;183m6F\u001b[0m\u001b[48;5;183m \u001b[0m\u001b[1;32;48;5;183m72\u001b[0m\u001b[48;5;183m \u001b[0m\u001b[1;32;48;5;183m63\u001b[0m\u001b[48;5;183m \u001b[0m\u001b[1;32;48;5;183m69\u001b[0m\u001b[48;5;183m \u001b[0m\u001b[1;32;48;5;183m2C\u001b[0m\u001b[48;5;183m \u001b[0m\u001b[1;32;48;5;183m20\u001b[0m\u001b[48;5;183m \u001b[0m\u001b[1;32;48;5;183m68\u001b[0m\n",
              "\u001b[1;32;48;5;183m65\u001b[0m\u001b[48;5;183m \u001b[0m\u001b[1;32;48;5;183m6E\u001b[0m\u001b[48;5;183m \u001b[0m\u001b[1;32;48;5;183m64\u001b[0m\u001b[48;5;183m \u001b[0m\u001b[1;32;48;5;183m72\u001b[0m\u001b[48;5;183m \u001b[0m\u001b[1;32;48;5;183m65\u001b[0m\u001b[48;5;183m \u001b[0m\u001b[1;32;48;5;183m72\u001b[0m\u001b[48;5;183m \u001b[0m\u001b[1;32;48;5;183m69\u001b[0m\u001b[48;5;183m \u001b[0m\u001b[1;32;48;5;183m74\u001b[0m\u001b[48;5;183m \u001b[0m\u001b[1;32;48;5;183m20\u001b[0m\u001b[48;5;183m \u001b[0m\u001b[1;32;48;5;183m6E\u001b[0m\u001b[48;5;183m \u001b[0m\u001b[1;32;48;5;183m6F\u001b[0m\u001b[48;5;183m \u001b[0m\u001b[1;32;48;5;183m6E\u001b[0m\u001b[48;5;183m \u001b[0m\u001b[1;32;48;5;183m20\u001b[0m\u001b[48;5;183m \u001b[0m\u001b[1;32;48;5;183m6F\u001b[0m\u001b[48;5;183m \u001b[0m\u001b[1;32;48;5;183m64\u001b[0m\u001b[48;5;183m \u001b[0m\u001b[1;32;48;5;183m69\u001b[0m\n",
              "\u001b[1;32;48;5;183m6F\u001b[0m\u001b[48;5;183m \u001b[0m\u001b[1;32;48;5;183m20\u001b[0m\u001b[48;5;183m \u001b[0m\u001b[1;32;48;5;183m65\u001b[0m\u001b[48;5;183m \u001b[0m\u001b[1;32;48;5;183m67\u001b[0m\u001b[48;5;183m \u001b[0m\u001b[1;32;48;5;183m65\u001b[0m\u001b[48;5;183m \u001b[0m\u001b[1;32;48;5;183m74\u001b[0m\u001b[48;5;183m \u001b[0m\u001b[1;32;48;5;183m2C\u001b[0m\u001b[48;5;183m \u001b[0m\u001b[1;32;48;5;183m20\u001b[0m\u001b[48;5;183m \u001b[0m\u001b[1;32;48;5;183m69\u001b[0m\u001b[48;5;183m \u001b[0m\u001b[1;32;48;5;183m6E\u001b[0m\u001b[48;5;183m \u001b[0m\u001b[1;32;48;5;183m74\u001b[0m\u001b[48;5;183m \u001b[0m\u001b[1;32;48;5;183m65\u001b[0m\u001b[48;5;183m \u001b[0m\u001b[1;32;48;5;183m72\u001b[0m\u001b[48;5;183m \u001b[0m\u001b[1;32;48;5;183m64\u001b[0m\u001b[48;5;183m \u001b[0m\u001b[1;32;48;5;183m75\u001b[0m\u001b[48;5;183m \u001b[0m\u001b[1;32;48;5;183m6D\u001b[0m\n",
              "\u001b[1;32;48;5;183m20\u001b[0m\u001b[48;5;183m \u001b[0m\u001b[1;32;48;5;183m70\u001b[0m\u001b[48;5;183m \u001b[0m\u001b[1;32;48;5;183m6C\u001b[0m\u001b[48;5;183m \u001b[0m\u001b[1;32;48;5;183m61\u001b[0m\u001b[48;5;183m \u001b[0m\u001b[1;32;48;5;183m63\u001b[0m\u001b[48;5;183m \u001b[0m\u001b[1;32;48;5;183m65\u001b[0m\u001b[48;5;183m \u001b[0m\u001b[1;32;48;5;183m72\u001b[0m\u001b[48;5;183m \u001b[0m\u001b[1;32;48;5;183m61\u001b[0m\u001b[48;5;183m \u001b[0m\u001b[1;32;48;5;183m74\u001b[0m\u001b[48;5;183m \u001b[0m\u001b[1;32;48;5;183m20\u001b[0m\u001b[48;5;183m \u001b[0m\u001b[1;32;48;5;183m65\u001b[0m\u001b[48;5;183m \u001b[0m\u001b[1;32;48;5;183m6E\u001b[0m\u001b[48;5;183m \u001b[0m\u001b[1;32;48;5;183m69\u001b[0m\u001b[48;5;183m \u001b[0m\u001b[1;32;48;5;183m6D\u001b[0m\u001b[48;5;183m \u001b[0m\u001b[1;32;48;5;183m2E\u001b[0m\u001b[48;5;183m \u001b[0m\u001b[1;32;48;5;183m20\u001b[0m\n",
              "\u001b[1;32;48;5;183m4D\u001b[0m\u001b[48;5;183m \u001b[0m\u001b[1;32;48;5;183m61\u001b[0m\u001b[48;5;183m \u001b[0m\u001b[1;32;48;5;183m65\u001b[0m\u001b[48;5;183m \u001b[0m\u001b[1;32;48;5;183m63\u001b[0m\u001b[48;5;183m \u001b[0m\u001b[1;32;48;5;183m65\u001b[0m\u001b[48;5;183m \u001b[0m\u001b[1;32;48;5;183m6E\u001b[0m\u001b[48;5;183m \u001b[0m\u001b[1;32;48;5;183m61\u001b[0m\u001b[48;5;183m \u001b[0m\u001b[1;32;48;5;183m73\u001b[0m\u001b[48;5;183m \u001b[0m\u001b[1;32;48;5;183m20\u001b[0m\u001b[48;5;183m \u001b[0m\u001b[1;32;48;5;183m61\u001b[0m\u001b[48;5;183m \u001b[0m\u001b[1;32;48;5;183m6E\u001b[0m\u001b[48;5;183m \u001b[0m\u001b[1;32;48;5;183m74\u001b[0m\u001b[48;5;183m \u001b[0m\u001b[1;32;48;5;183m65\u001b[0m\u001b[48;5;183m \u001b[0m\u001b[1;32;48;5;183m20\u001b[0m\u001b[48;5;183m \u001b[0m\u001b[1;32;48;5;183m70\u001b[0m\u001b[48;5;183m \u001b[0m\u001b[1;32;48;5;183m75\u001b[0m\n",
              "\u001b[1;32;48;5;183m72\u001b[0m\u001b[48;5;183m \u001b[0m\u001b[1;32;48;5;183m75\u001b[0m\u001b[48;5;183m \u001b[0m\u001b[1;32;48;5;183m73\u001b[0m\u001b[48;5;183m \u001b[0m\u001b[1;32;48;5;183m2C\u001b[0m\u001b[48;5;183m \u001b[0m\u001b[1;32;48;5;183m20\u001b[0m\u001b[48;5;183m \u001b[0m\u001b[1;32;48;5;183m74\u001b[0m\u001b[48;5;183m \u001b[0m\u001b[1;32;48;5;183m65\u001b[0m\u001b[48;5;183m \u001b[0m\u001b[1;32;48;5;183m6D\u001b[0m\u001b[48;5;183m \u001b[0m\u001b[1;32;48;5;183m70\u001b[0m\u001b[48;5;183m \u001b[0m\u001b[1;32;48;5;183m6F\u001b[0m\u001b[48;5;183m \u001b[0m\u001b[1;32;48;5;183m72\u001b[0m\u001b[48;5;183m \u001b[0m\u001b[1;32;48;5;183m20\u001b[0m\u001b[48;5;183m \u001b[0m\u001b[1;32;48;5;183m65\u001b[0m\u001b[48;5;183m \u001b[0m\u001b[1;32;48;5;183m74\u001b[0m\u001b[48;5;183m \u001b[0m\u001b[1;32;48;5;183m20\u001b[0m\u001b[48;5;183m \u001b[0m\u001b[1;38;5;67;48;5;183mEA\u001b[0m\n",
              "\u001b[1;38;5;67;48;5;183mC1\u001b[0m\u001b[48;5;183m \u001b[0m\u001b[1;38;5;67;48;5;183mE5\u001b[0m\u001b[48;5;183m \u001b[0m\u001b[1;38;5;67;48;5;183mEE\u001b[0m\u001b[48;5;183m \u001b[0m\u001b[1;38;5;67;48;5;183mA4\u001b[0m\u001b[48;5;183m \u001b[0m\u001b[1;38;5;67;48;5;183mD9\u001b[0m\u001b[48;5;183m \u001b[0m\u001b[1;38;5;67;48;5;183mBF\u001b[0m\u001b[48;5;183m \u001b[0m\u001b[1;38;5;67;48;5;183m60\u001b[0m\u001b[48;5;183m \u001b[0m\u001b[1;38;5;67;48;5;183m9E\u001b[0m\u001b[48;5;183m \u001b[0m\u001b[1;38;5;67;48;5;183m43\u001b[0m\u001b[48;5;183m \u001b[0m\u001b[1;38;5;67;48;5;183mBA\u001b[0m\u001b[48;5;183m \u001b[0m\u001b[1;38;5;67;48;5;183m24\u001b[0m\u001b[48;5;183m \u001b[0m\u001b[1;38;5;67;48;5;183mE9\u001b[0m\u001b[48;5;183m \u001b[0m\u001b[1;38;5;67;48;5;183m62\u001b[0m\u001b[48;5;183m \u001b[0m\u001b[1;38;5;67;48;5;183mD5\u001b[0m\u001b[48;5;183m \u001b[0m\u001b[1;38;5;67;48;5;183m15\u001b[0m\u001b[48;5;183m \u001b[0m\u001b[1;38;5;67;48;5;183m18\u001b[0m\n",
              "\u001b[1;38;5;67;48;5;183mB8\u001b[0m\u001b[48;5;183m \u001b[0m\u001b[1;38;5;67;48;5;183m25\u001b[0m\u001b[48;5;183m \u001b[0m\u001b[1;38;5;67;48;5;183m30\u001b[0m\u001b[48;5;183m \u001b[0m\u001b[1;38;5;67;48;5;183m15\u001b[0m\u001b[48;5;183m \u001b[0m\u001b[1;38;5;67;48;5;183mD9\u001b[0m\u001b[48;5;183m \u001b[0m\u001b[1;38;5;67;48;5;183m5A\u001b[0m\u001b[48;5;183m \u001b[0m\u001b[1;38;5;67;48;5;183mD3\u001b[0m\u001b[48;5;183m \u001b[0m\u001b[1;38;5;67;48;5;183mDC\u001b[0m\u001b[48;5;183m \u001b[0m\u001b[1;38;5;67;48;5;183m79\u001b[0m\u001b[48;5;183m \u001b[0m\u001b[1;38;5;67;48;5;183mF8\u001b[0m\u001b[48;5;183m \u001b[0m\u001b[1;38;5;67;48;5;183mB6\u001b[0m\u001b[48;5;183m \u001b[0m\u001b[1;38;5;67;48;5;183m62\u001b[0m\u001b[48;5;183m \u001b[0m\u001b[1;38;5;67;48;5;183m3D\u001b[0m\u001b[48;5;183m \u001b[0m\u001b[1;38;5;67;48;5;183m7F\u001b[0m\u001b[48;5;183m \u001b[0m\u001b[1;38;5;67;48;5;183m39\u001b[0m\u001b[48;5;183m \u001b[0m\n",
              "\n"
            ],
            "text/html": [
              "<pre style=\"white-space:pre;overflow-x:auto;line-height:normal;font-family:Menlo,'DejaVu Sans Mono',consolas,'Courier New',monospace\"><span style=\"color: #008000; text-decoration-color: #008000; background-color: #d7afff; font-weight: bold\">20</span><span style=\"background-color: #d7afff\"> </span><span style=\"color: #008000; text-decoration-color: #008000; background-color: #d7afff; font-weight: bold\">20</span><span style=\"background-color: #d7afff\"> </span><span style=\"color: #008000; text-decoration-color: #008000; background-color: #d7afff; font-weight: bold\">4C</span><span style=\"background-color: #d7afff\"> </span><span style=\"color: #008000; text-decoration-color: #008000; background-color: #d7afff; font-weight: bold\">6F</span><span style=\"background-color: #d7afff\"> </span><span style=\"color: #008000; text-decoration-color: #008000; background-color: #d7afff; font-weight: bold\">72</span><span style=\"background-color: #d7afff\"> </span><span style=\"color: #008000; text-decoration-color: #008000; background-color: #d7afff; font-weight: bold\">65</span><span style=\"background-color: #d7afff\"> </span><span style=\"color: #008000; text-decoration-color: #008000; background-color: #d7afff; font-weight: bold\">6D</span><span style=\"background-color: #d7afff\"> </span><span style=\"color: #008000; text-decoration-color: #008000; background-color: #d7afff; font-weight: bold\">20</span><span style=\"background-color: #d7afff\"> </span><span style=\"color: #008000; text-decoration-color: #008000; background-color: #d7afff; font-weight: bold\">69</span><span style=\"background-color: #d7afff\"> </span><span style=\"color: #008000; text-decoration-color: #008000; background-color: #d7afff; font-weight: bold\">70</span><span style=\"background-color: #d7afff\"> </span><span style=\"color: #008000; text-decoration-color: #008000; background-color: #d7afff; font-weight: bold\">73</span><span style=\"background-color: #d7afff\"> </span><span style=\"color: #008000; text-decoration-color: #008000; background-color: #d7afff; font-weight: bold\">75</span><span style=\"background-color: #d7afff\"> </span><span style=\"color: #008000; text-decoration-color: #008000; background-color: #d7afff; font-weight: bold\">6D</span><span style=\"background-color: #d7afff\"> </span><span style=\"color: #008000; text-decoration-color: #008000; background-color: #d7afff; font-weight: bold\">20</span><span style=\"background-color: #d7afff\"> </span><span style=\"color: #008000; text-decoration-color: #008000; background-color: #d7afff; font-weight: bold\">64</span><span style=\"background-color: #d7afff\"> </span><span style=\"color: #008000; text-decoration-color: #008000; background-color: #d7afff; font-weight: bold\">6F</span>\n",
              "<span style=\"color: #008000; text-decoration-color: #008000; background-color: #d7afff; font-weight: bold\">6C</span><span style=\"background-color: #d7afff\"> </span><span style=\"color: #008000; text-decoration-color: #008000; background-color: #d7afff; font-weight: bold\">6F</span><span style=\"background-color: #d7afff\"> </span><span style=\"color: #008000; text-decoration-color: #008000; background-color: #d7afff; font-weight: bold\">72</span><span style=\"background-color: #d7afff\"> </span><span style=\"color: #008000; text-decoration-color: #008000; background-color: #d7afff; font-weight: bold\">20</span><span style=\"background-color: #d7afff\"> </span><span style=\"color: #008000; text-decoration-color: #008000; background-color: #d7afff; font-weight: bold\">73</span><span style=\"background-color: #d7afff\"> </span><span style=\"color: #008000; text-decoration-color: #008000; background-color: #d7afff; font-weight: bold\">69</span><span style=\"background-color: #d7afff\"> </span><span style=\"color: #008000; text-decoration-color: #008000; background-color: #d7afff; font-weight: bold\">74</span><span style=\"background-color: #d7afff\"> </span><span style=\"color: #008000; text-decoration-color: #008000; background-color: #d7afff; font-weight: bold\">20</span><span style=\"background-color: #d7afff\"> </span><span style=\"color: #008000; text-decoration-color: #008000; background-color: #d7afff; font-weight: bold\">61</span><span style=\"background-color: #d7afff\"> </span><span style=\"color: #008000; text-decoration-color: #008000; background-color: #d7afff; font-weight: bold\">6D</span><span style=\"background-color: #d7afff\"> </span><span style=\"color: #008000; text-decoration-color: #008000; background-color: #d7afff; font-weight: bold\">65</span><span style=\"background-color: #d7afff\"> </span><span style=\"color: #008000; text-decoration-color: #008000; background-color: #d7afff; font-weight: bold\">74</span><span style=\"background-color: #d7afff\"> </span><span style=\"color: #008000; text-decoration-color: #008000; background-color: #d7afff; font-weight: bold\">2C</span><span style=\"background-color: #d7afff\"> </span><span style=\"color: #008000; text-decoration-color: #008000; background-color: #d7afff; font-weight: bold\">20</span><span style=\"background-color: #d7afff\"> </span><span style=\"color: #008000; text-decoration-color: #008000; background-color: #d7afff; font-weight: bold\">63</span><span style=\"background-color: #d7afff\"> </span><span style=\"color: #008000; text-decoration-color: #008000; background-color: #d7afff; font-weight: bold\">6F</span>\n",
              "<span style=\"color: #008000; text-decoration-color: #008000; background-color: #d7afff; font-weight: bold\">6E</span><span style=\"background-color: #d7afff\"> </span><span style=\"color: #008000; text-decoration-color: #008000; background-color: #d7afff; font-weight: bold\">73</span><span style=\"background-color: #d7afff\"> </span><span style=\"color: #008000; text-decoration-color: #008000; background-color: #d7afff; font-weight: bold\">65</span><span style=\"background-color: #d7afff\"> </span><span style=\"color: #008000; text-decoration-color: #008000; background-color: #d7afff; font-weight: bold\">63</span><span style=\"background-color: #d7afff\"> </span><span style=\"color: #008000; text-decoration-color: #008000; background-color: #d7afff; font-weight: bold\">74</span><span style=\"background-color: #d7afff\"> </span><span style=\"color: #008000; text-decoration-color: #008000; background-color: #d7afff; font-weight: bold\">65</span><span style=\"background-color: #d7afff\"> </span><span style=\"color: #008000; text-decoration-color: #008000; background-color: #d7afff; font-weight: bold\">74</span><span style=\"background-color: #d7afff\"> </span><span style=\"color: #008000; text-decoration-color: #008000; background-color: #d7afff; font-weight: bold\">75</span><span style=\"background-color: #d7afff\"> </span><span style=\"color: #008000; text-decoration-color: #008000; background-color: #d7afff; font-weight: bold\">72</span><span style=\"background-color: #d7afff\"> </span><span style=\"color: #008000; text-decoration-color: #008000; background-color: #d7afff; font-weight: bold\">20</span><span style=\"background-color: #d7afff\"> </span><span style=\"color: #008000; text-decoration-color: #008000; background-color: #d7afff; font-weight: bold\">61</span><span style=\"background-color: #d7afff\"> </span><span style=\"color: #008000; text-decoration-color: #008000; background-color: #d7afff; font-weight: bold\">64</span><span style=\"background-color: #d7afff\"> </span><span style=\"color: #008000; text-decoration-color: #008000; background-color: #d7afff; font-weight: bold\">69</span><span style=\"background-color: #d7afff\"> </span><span style=\"color: #008000; text-decoration-color: #008000; background-color: #d7afff; font-weight: bold\">70</span><span style=\"background-color: #d7afff\"> </span><span style=\"color: #008000; text-decoration-color: #008000; background-color: #d7afff; font-weight: bold\">69</span><span style=\"background-color: #d7afff\"> </span><span style=\"color: #008000; text-decoration-color: #008000; background-color: #d7afff; font-weight: bold\">73</span>\n",
              "<span style=\"color: #008000; text-decoration-color: #008000; background-color: #d7afff; font-weight: bold\">63</span><span style=\"background-color: #d7afff\"> </span><span style=\"color: #008000; text-decoration-color: #008000; background-color: #d7afff; font-weight: bold\">69</span><span style=\"background-color: #d7afff\"> </span><span style=\"color: #008000; text-decoration-color: #008000; background-color: #d7afff; font-weight: bold\">6E</span><span style=\"background-color: #d7afff\"> </span><span style=\"color: #008000; text-decoration-color: #008000; background-color: #d7afff; font-weight: bold\">67</span><span style=\"background-color: #d7afff\"> </span><span style=\"color: #008000; text-decoration-color: #008000; background-color: #d7afff; font-weight: bold\">20</span><span style=\"background-color: #d7afff\"> </span><span style=\"color: #008000; text-decoration-color: #008000; background-color: #d7afff; font-weight: bold\">65</span><span style=\"background-color: #d7afff\"> </span><span style=\"color: #008000; text-decoration-color: #008000; background-color: #d7afff; font-weight: bold\">6C</span><span style=\"background-color: #d7afff\"> </span><span style=\"color: #008000; text-decoration-color: #008000; background-color: #d7afff; font-weight: bold\">69</span><span style=\"background-color: #d7afff\"> </span><span style=\"color: #008000; text-decoration-color: #008000; background-color: #d7afff; font-weight: bold\">74</span><span style=\"background-color: #d7afff\"> </span><span style=\"color: #008000; text-decoration-color: #008000; background-color: #d7afff; font-weight: bold\">2E</span><span style=\"background-color: #d7afff\"> </span><span style=\"color: #008000; text-decoration-color: #008000; background-color: #d7afff; font-weight: bold\">20</span><span style=\"background-color: #d7afff\"> </span><span style=\"color: #008000; text-decoration-color: #008000; background-color: #d7afff; font-weight: bold\">50</span><span style=\"background-color: #d7afff\"> </span><span style=\"color: #008000; text-decoration-color: #008000; background-color: #d7afff; font-weight: bold\">68</span><span style=\"background-color: #d7afff\"> </span><span style=\"color: #008000; text-decoration-color: #008000; background-color: #d7afff; font-weight: bold\">61</span><span style=\"background-color: #d7afff\"> </span><span style=\"color: #008000; text-decoration-color: #008000; background-color: #d7afff; font-weight: bold\">73</span><span style=\"background-color: #d7afff\"> </span><span style=\"color: #008000; text-decoration-color: #008000; background-color: #d7afff; font-weight: bold\">65</span>\n",
              "<span style=\"color: #008000; text-decoration-color: #008000; background-color: #d7afff; font-weight: bold\">6C</span><span style=\"background-color: #d7afff\"> </span><span style=\"color: #008000; text-decoration-color: #008000; background-color: #d7afff; font-weight: bold\">6C</span><span style=\"background-color: #d7afff\"> </span><span style=\"color: #008000; text-decoration-color: #008000; background-color: #d7afff; font-weight: bold\">75</span><span style=\"background-color: #d7afff\"> </span><span style=\"color: #008000; text-decoration-color: #008000; background-color: #d7afff; font-weight: bold\">73</span><span style=\"background-color: #d7afff\"> </span><span style=\"color: #008000; text-decoration-color: #008000; background-color: #d7afff; font-weight: bold\">20</span><span style=\"background-color: #d7afff\"> </span><span style=\"color: #008000; text-decoration-color: #008000; background-color: #d7afff; font-weight: bold\">65</span><span style=\"background-color: #d7afff\"> </span><span style=\"color: #008000; text-decoration-color: #008000; background-color: #d7afff; font-weight: bold\">75</span><span style=\"background-color: #d7afff\"> </span><span style=\"color: #008000; text-decoration-color: #008000; background-color: #d7afff; font-weight: bold\">69</span><span style=\"background-color: #d7afff\"> </span><span style=\"color: #008000; text-decoration-color: #008000; background-color: #d7afff; font-weight: bold\">73</span><span style=\"background-color: #d7afff\"> </span><span style=\"color: #008000; text-decoration-color: #008000; background-color: #d7afff; font-weight: bold\">6D</span><span style=\"background-color: #d7afff\"> </span><span style=\"color: #008000; text-decoration-color: #008000; background-color: #d7afff; font-weight: bold\">6F</span><span style=\"background-color: #d7afff\"> </span><span style=\"color: #008000; text-decoration-color: #008000; background-color: #d7afff; font-weight: bold\">64</span><span style=\"background-color: #d7afff\"> </span><span style=\"color: #008000; text-decoration-color: #008000; background-color: #d7afff; font-weight: bold\">20</span><span style=\"background-color: #d7afff\"> </span><span style=\"color: #008000; text-decoration-color: #008000; background-color: #d7afff; font-weight: bold\">76</span><span style=\"background-color: #d7afff\"> </span><span style=\"color: #008000; text-decoration-color: #008000; background-color: #d7afff; font-weight: bold\">65</span><span style=\"background-color: #d7afff\"> </span><span style=\"color: #008000; text-decoration-color: #008000; background-color: #d7afff; font-weight: bold\">68</span>\n",
              "<span style=\"color: #008000; text-decoration-color: #008000; background-color: #d7afff; font-weight: bold\">69</span><span style=\"background-color: #d7afff\"> </span><span style=\"color: #008000; text-decoration-color: #008000; background-color: #d7afff; font-weight: bold\">63</span><span style=\"background-color: #d7afff\"> </span><span style=\"color: #008000; text-decoration-color: #008000; background-color: #d7afff; font-weight: bold\">75</span><span style=\"background-color: #d7afff\"> </span><span style=\"color: #008000; text-decoration-color: #008000; background-color: #d7afff; font-weight: bold\">6C</span><span style=\"background-color: #d7afff\"> </span><span style=\"color: #008000; text-decoration-color: #008000; background-color: #d7afff; font-weight: bold\">61</span><span style=\"background-color: #d7afff\"> </span><span style=\"color: #008000; text-decoration-color: #008000; background-color: #d7afff; font-weight: bold\">20</span><span style=\"background-color: #d7afff\"> </span><span style=\"color: #008000; text-decoration-color: #008000; background-color: #d7afff; font-weight: bold\">66</span><span style=\"background-color: #d7afff\"> </span><span style=\"color: #008000; text-decoration-color: #008000; background-color: #d7afff; font-weight: bold\">65</span><span style=\"background-color: #d7afff\"> </span><span style=\"color: #008000; text-decoration-color: #008000; background-color: #d7afff; font-weight: bold\">6C</span><span style=\"background-color: #d7afff\"> </span><span style=\"color: #008000; text-decoration-color: #008000; background-color: #d7afff; font-weight: bold\">69</span><span style=\"background-color: #d7afff\"> </span><span style=\"color: #008000; text-decoration-color: #008000; background-color: #d7afff; font-weight: bold\">73</span><span style=\"background-color: #d7afff\"> </span><span style=\"color: #008000; text-decoration-color: #008000; background-color: #d7afff; font-weight: bold\">2C</span><span style=\"background-color: #d7afff\"> </span><span style=\"color: #008000; text-decoration-color: #008000; background-color: #d7afff; font-weight: bold\">20</span><span style=\"background-color: #d7afff\"> </span><span style=\"color: #008000; text-decoration-color: #008000; background-color: #d7afff; font-weight: bold\">61</span><span style=\"background-color: #d7afff\"> </span><span style=\"color: #008000; text-decoration-color: #008000; background-color: #d7afff; font-weight: bold\">63</span><span style=\"background-color: #d7afff\"> </span><span style=\"color: #008000; text-decoration-color: #008000; background-color: #d7afff; font-weight: bold\">20</span>\n",
              "<span style=\"color: #008000; text-decoration-color: #008000; background-color: #d7afff; font-weight: bold\">70</span><span style=\"background-color: #d7afff\"> </span><span style=\"color: #008000; text-decoration-color: #008000; background-color: #d7afff; font-weight: bold\">6F</span><span style=\"background-color: #d7afff\"> </span><span style=\"color: #008000; text-decoration-color: #008000; background-color: #d7afff; font-weight: bold\">72</span><span style=\"background-color: #d7afff\"> </span><span style=\"color: #008000; text-decoration-color: #008000; background-color: #d7afff; font-weight: bold\">74</span><span style=\"background-color: #d7afff\"> </span><span style=\"color: #008000; text-decoration-color: #008000; background-color: #d7afff; font-weight: bold\">61</span><span style=\"background-color: #d7afff\"> </span><span style=\"color: #008000; text-decoration-color: #008000; background-color: #d7afff; font-weight: bold\">20</span><span style=\"background-color: #d7afff\"> </span><span style=\"color: #008000; text-decoration-color: #008000; background-color: #d7afff; font-weight: bold\">6C</span><span style=\"background-color: #d7afff\"> </span><span style=\"color: #008000; text-decoration-color: #008000; background-color: #d7afff; font-weight: bold\">65</span><span style=\"background-color: #d7afff\"> </span><span style=\"color: #008000; text-decoration-color: #008000; background-color: #d7afff; font-weight: bold\">63</span><span style=\"background-color: #d7afff\"> </span><span style=\"color: #008000; text-decoration-color: #008000; background-color: #d7afff; font-weight: bold\">74</span><span style=\"background-color: #d7afff\"> </span><span style=\"color: #008000; text-decoration-color: #008000; background-color: #d7afff; font-weight: bold\">75</span><span style=\"background-color: #d7afff\"> </span><span style=\"color: #008000; text-decoration-color: #008000; background-color: #d7afff; font-weight: bold\">73</span><span style=\"background-color: #d7afff\"> </span><span style=\"color: #008000; text-decoration-color: #008000; background-color: #d7afff; font-weight: bold\">20</span><span style=\"background-color: #d7afff\"> </span><span style=\"color: #008000; text-decoration-color: #008000; background-color: #d7afff; font-weight: bold\">65</span><span style=\"background-color: #d7afff\"> </span><span style=\"color: #008000; text-decoration-color: #008000; background-color: #d7afff; font-weight: bold\">6C</span><span style=\"background-color: #d7afff\"> </span><span style=\"color: #008000; text-decoration-color: #008000; background-color: #d7afff; font-weight: bold\">65</span>\n",
              "<span style=\"color: #008000; text-decoration-color: #008000; background-color: #d7afff; font-weight: bold\">69</span><span style=\"background-color: #d7afff\"> </span><span style=\"color: #008000; text-decoration-color: #008000; background-color: #d7afff; font-weight: bold\">66</span><span style=\"background-color: #d7afff\"> </span><span style=\"color: #008000; text-decoration-color: #008000; background-color: #d7afff; font-weight: bold\">65</span><span style=\"background-color: #d7afff\"> </span><span style=\"color: #008000; text-decoration-color: #008000; background-color: #d7afff; font-weight: bold\">6E</span><span style=\"background-color: #d7afff\"> </span><span style=\"color: #008000; text-decoration-color: #008000; background-color: #d7afff; font-weight: bold\">64</span><span style=\"background-color: #d7afff\"> </span><span style=\"color: #008000; text-decoration-color: #008000; background-color: #d7afff; font-weight: bold\">20</span><span style=\"background-color: #d7afff\"> </span><span style=\"color: #008000; text-decoration-color: #008000; background-color: #d7afff; font-weight: bold\">61</span><span style=\"background-color: #d7afff\"> </span><span style=\"color: #008000; text-decoration-color: #008000; background-color: #d7afff; font-weight: bold\">2E</span><span style=\"background-color: #d7afff\"> </span><span style=\"color: #008000; text-decoration-color: #008000; background-color: #d7afff; font-weight: bold\">20</span><span style=\"background-color: #d7afff\"> </span><span style=\"color: #008000; text-decoration-color: #008000; background-color: #d7afff; font-weight: bold\">50</span><span style=\"background-color: #d7afff\"> </span><span style=\"color: #008000; text-decoration-color: #008000; background-color: #d7afff; font-weight: bold\">72</span><span style=\"background-color: #d7afff\"> </span><span style=\"color: #008000; text-decoration-color: #008000; background-color: #d7afff; font-weight: bold\">61</span><span style=\"background-color: #d7afff\"> </span><span style=\"color: #008000; text-decoration-color: #008000; background-color: #d7afff; font-weight: bold\">65</span><span style=\"background-color: #d7afff\"> </span><span style=\"color: #008000; text-decoration-color: #008000; background-color: #d7afff; font-weight: bold\">73</span><span style=\"background-color: #d7afff\"> </span><span style=\"color: #008000; text-decoration-color: #008000; background-color: #d7afff; font-weight: bold\">65</span><span style=\"background-color: #d7afff\"> </span><span style=\"color: #008000; text-decoration-color: #008000; background-color: #d7afff; font-weight: bold\">6E</span>\n",
              "<span style=\"color: #008000; text-decoration-color: #008000; background-color: #d7afff; font-weight: bold\">74</span><span style=\"background-color: #d7afff\"> </span><span style=\"color: #008000; text-decoration-color: #008000; background-color: #d7afff; font-weight: bold\">20</span><span style=\"background-color: #d7afff\"> </span><span style=\"color: #008000; text-decoration-color: #008000; background-color: #d7afff; font-weight: bold\">6D</span><span style=\"background-color: #d7afff\"> </span><span style=\"color: #008000; text-decoration-color: #008000; background-color: #d7afff; font-weight: bold\">61</span><span style=\"background-color: #d7afff\"> </span><span style=\"color: #008000; text-decoration-color: #008000; background-color: #d7afff; font-weight: bold\">75</span><span style=\"background-color: #d7afff\"> </span><span style=\"color: #008000; text-decoration-color: #008000; background-color: #d7afff; font-weight: bold\">72</span><span style=\"background-color: #d7afff\"> </span><span style=\"color: #008000; text-decoration-color: #008000; background-color: #d7afff; font-weight: bold\">69</span><span style=\"background-color: #d7afff\"> </span><span style=\"color: #008000; text-decoration-color: #008000; background-color: #d7afff; font-weight: bold\">73</span><span style=\"background-color: #d7afff\"> </span><span style=\"color: #008000; text-decoration-color: #008000; background-color: #d7afff; font-weight: bold\">20</span><span style=\"background-color: #d7afff\"> </span><span style=\"color: #008000; text-decoration-color: #008000; background-color: #d7afff; font-weight: bold\">6F</span><span style=\"background-color: #d7afff\"> </span><span style=\"color: #008000; text-decoration-color: #008000; background-color: #d7afff; font-weight: bold\">72</span><span style=\"background-color: #d7afff\"> </span><span style=\"color: #008000; text-decoration-color: #008000; background-color: #d7afff; font-weight: bold\">63</span><span style=\"background-color: #d7afff\"> </span><span style=\"color: #008000; text-decoration-color: #008000; background-color: #d7afff; font-weight: bold\">69</span><span style=\"background-color: #d7afff\"> </span><span style=\"color: #008000; text-decoration-color: #008000; background-color: #d7afff; font-weight: bold\">2C</span><span style=\"background-color: #d7afff\"> </span><span style=\"color: #008000; text-decoration-color: #008000; background-color: #d7afff; font-weight: bold\">20</span><span style=\"background-color: #d7afff\"> </span><span style=\"color: #008000; text-decoration-color: #008000; background-color: #d7afff; font-weight: bold\">68</span>\n",
              "<span style=\"color: #008000; text-decoration-color: #008000; background-color: #d7afff; font-weight: bold\">65</span><span style=\"background-color: #d7afff\"> </span><span style=\"color: #008000; text-decoration-color: #008000; background-color: #d7afff; font-weight: bold\">6E</span><span style=\"background-color: #d7afff\"> </span><span style=\"color: #008000; text-decoration-color: #008000; background-color: #d7afff; font-weight: bold\">64</span><span style=\"background-color: #d7afff\"> </span><span style=\"color: #008000; text-decoration-color: #008000; background-color: #d7afff; font-weight: bold\">72</span><span style=\"background-color: #d7afff\"> </span><span style=\"color: #008000; text-decoration-color: #008000; background-color: #d7afff; font-weight: bold\">65</span><span style=\"background-color: #d7afff\"> </span><span style=\"color: #008000; text-decoration-color: #008000; background-color: #d7afff; font-weight: bold\">72</span><span style=\"background-color: #d7afff\"> </span><span style=\"color: #008000; text-decoration-color: #008000; background-color: #d7afff; font-weight: bold\">69</span><span style=\"background-color: #d7afff\"> </span><span style=\"color: #008000; text-decoration-color: #008000; background-color: #d7afff; font-weight: bold\">74</span><span style=\"background-color: #d7afff\"> </span><span style=\"color: #008000; text-decoration-color: #008000; background-color: #d7afff; font-weight: bold\">20</span><span style=\"background-color: #d7afff\"> </span><span style=\"color: #008000; text-decoration-color: #008000; background-color: #d7afff; font-weight: bold\">6E</span><span style=\"background-color: #d7afff\"> </span><span style=\"color: #008000; text-decoration-color: #008000; background-color: #d7afff; font-weight: bold\">6F</span><span style=\"background-color: #d7afff\"> </span><span style=\"color: #008000; text-decoration-color: #008000; background-color: #d7afff; font-weight: bold\">6E</span><span style=\"background-color: #d7afff\"> </span><span style=\"color: #008000; text-decoration-color: #008000; background-color: #d7afff; font-weight: bold\">20</span><span style=\"background-color: #d7afff\"> </span><span style=\"color: #008000; text-decoration-color: #008000; background-color: #d7afff; font-weight: bold\">6F</span><span style=\"background-color: #d7afff\"> </span><span style=\"color: #008000; text-decoration-color: #008000; background-color: #d7afff; font-weight: bold\">64</span><span style=\"background-color: #d7afff\"> </span><span style=\"color: #008000; text-decoration-color: #008000; background-color: #d7afff; font-weight: bold\">69</span>\n",
              "<span style=\"color: #008000; text-decoration-color: #008000; background-color: #d7afff; font-weight: bold\">6F</span><span style=\"background-color: #d7afff\"> </span><span style=\"color: #008000; text-decoration-color: #008000; background-color: #d7afff; font-weight: bold\">20</span><span style=\"background-color: #d7afff\"> </span><span style=\"color: #008000; text-decoration-color: #008000; background-color: #d7afff; font-weight: bold\">65</span><span style=\"background-color: #d7afff\"> </span><span style=\"color: #008000; text-decoration-color: #008000; background-color: #d7afff; font-weight: bold\">67</span><span style=\"background-color: #d7afff\"> </span><span style=\"color: #008000; text-decoration-color: #008000; background-color: #d7afff; font-weight: bold\">65</span><span style=\"background-color: #d7afff\"> </span><span style=\"color: #008000; text-decoration-color: #008000; background-color: #d7afff; font-weight: bold\">74</span><span style=\"background-color: #d7afff\"> </span><span style=\"color: #008000; text-decoration-color: #008000; background-color: #d7afff; font-weight: bold\">2C</span><span style=\"background-color: #d7afff\"> </span><span style=\"color: #008000; text-decoration-color: #008000; background-color: #d7afff; font-weight: bold\">20</span><span style=\"background-color: #d7afff\"> </span><span style=\"color: #008000; text-decoration-color: #008000; background-color: #d7afff; font-weight: bold\">69</span><span style=\"background-color: #d7afff\"> </span><span style=\"color: #008000; text-decoration-color: #008000; background-color: #d7afff; font-weight: bold\">6E</span><span style=\"background-color: #d7afff\"> </span><span style=\"color: #008000; text-decoration-color: #008000; background-color: #d7afff; font-weight: bold\">74</span><span style=\"background-color: #d7afff\"> </span><span style=\"color: #008000; text-decoration-color: #008000; background-color: #d7afff; font-weight: bold\">65</span><span style=\"background-color: #d7afff\"> </span><span style=\"color: #008000; text-decoration-color: #008000; background-color: #d7afff; font-weight: bold\">72</span><span style=\"background-color: #d7afff\"> </span><span style=\"color: #008000; text-decoration-color: #008000; background-color: #d7afff; font-weight: bold\">64</span><span style=\"background-color: #d7afff\"> </span><span style=\"color: #008000; text-decoration-color: #008000; background-color: #d7afff; font-weight: bold\">75</span><span style=\"background-color: #d7afff\"> </span><span style=\"color: #008000; text-decoration-color: #008000; background-color: #d7afff; font-weight: bold\">6D</span>\n",
              "<span style=\"color: #008000; text-decoration-color: #008000; background-color: #d7afff; font-weight: bold\">20</span><span style=\"background-color: #d7afff\"> </span><span style=\"color: #008000; text-decoration-color: #008000; background-color: #d7afff; font-weight: bold\">70</span><span style=\"background-color: #d7afff\"> </span><span style=\"color: #008000; text-decoration-color: #008000; background-color: #d7afff; font-weight: bold\">6C</span><span style=\"background-color: #d7afff\"> </span><span style=\"color: #008000; text-decoration-color: #008000; background-color: #d7afff; font-weight: bold\">61</span><span style=\"background-color: #d7afff\"> </span><span style=\"color: #008000; text-decoration-color: #008000; background-color: #d7afff; font-weight: bold\">63</span><span style=\"background-color: #d7afff\"> </span><span style=\"color: #008000; text-decoration-color: #008000; background-color: #d7afff; font-weight: bold\">65</span><span style=\"background-color: #d7afff\"> </span><span style=\"color: #008000; text-decoration-color: #008000; background-color: #d7afff; font-weight: bold\">72</span><span style=\"background-color: #d7afff\"> </span><span style=\"color: #008000; text-decoration-color: #008000; background-color: #d7afff; font-weight: bold\">61</span><span style=\"background-color: #d7afff\"> </span><span style=\"color: #008000; text-decoration-color: #008000; background-color: #d7afff; font-weight: bold\">74</span><span style=\"background-color: #d7afff\"> </span><span style=\"color: #008000; text-decoration-color: #008000; background-color: #d7afff; font-weight: bold\">20</span><span style=\"background-color: #d7afff\"> </span><span style=\"color: #008000; text-decoration-color: #008000; background-color: #d7afff; font-weight: bold\">65</span><span style=\"background-color: #d7afff\"> </span><span style=\"color: #008000; text-decoration-color: #008000; background-color: #d7afff; font-weight: bold\">6E</span><span style=\"background-color: #d7afff\"> </span><span style=\"color: #008000; text-decoration-color: #008000; background-color: #d7afff; font-weight: bold\">69</span><span style=\"background-color: #d7afff\"> </span><span style=\"color: #008000; text-decoration-color: #008000; background-color: #d7afff; font-weight: bold\">6D</span><span style=\"background-color: #d7afff\"> </span><span style=\"color: #008000; text-decoration-color: #008000; background-color: #d7afff; font-weight: bold\">2E</span><span style=\"background-color: #d7afff\"> </span><span style=\"color: #008000; text-decoration-color: #008000; background-color: #d7afff; font-weight: bold\">20</span>\n",
              "<span style=\"color: #008000; text-decoration-color: #008000; background-color: #d7afff; font-weight: bold\">4D</span><span style=\"background-color: #d7afff\"> </span><span style=\"color: #008000; text-decoration-color: #008000; background-color: #d7afff; font-weight: bold\">61</span><span style=\"background-color: #d7afff\"> </span><span style=\"color: #008000; text-decoration-color: #008000; background-color: #d7afff; font-weight: bold\">65</span><span style=\"background-color: #d7afff\"> </span><span style=\"color: #008000; text-decoration-color: #008000; background-color: #d7afff; font-weight: bold\">63</span><span style=\"background-color: #d7afff\"> </span><span style=\"color: #008000; text-decoration-color: #008000; background-color: #d7afff; font-weight: bold\">65</span><span style=\"background-color: #d7afff\"> </span><span style=\"color: #008000; text-decoration-color: #008000; background-color: #d7afff; font-weight: bold\">6E</span><span style=\"background-color: #d7afff\"> </span><span style=\"color: #008000; text-decoration-color: #008000; background-color: #d7afff; font-weight: bold\">61</span><span style=\"background-color: #d7afff\"> </span><span style=\"color: #008000; text-decoration-color: #008000; background-color: #d7afff; font-weight: bold\">73</span><span style=\"background-color: #d7afff\"> </span><span style=\"color: #008000; text-decoration-color: #008000; background-color: #d7afff; font-weight: bold\">20</span><span style=\"background-color: #d7afff\"> </span><span style=\"color: #008000; text-decoration-color: #008000; background-color: #d7afff; font-weight: bold\">61</span><span style=\"background-color: #d7afff\"> </span><span style=\"color: #008000; text-decoration-color: #008000; background-color: #d7afff; font-weight: bold\">6E</span><span style=\"background-color: #d7afff\"> </span><span style=\"color: #008000; text-decoration-color: #008000; background-color: #d7afff; font-weight: bold\">74</span><span style=\"background-color: #d7afff\"> </span><span style=\"color: #008000; text-decoration-color: #008000; background-color: #d7afff; font-weight: bold\">65</span><span style=\"background-color: #d7afff\"> </span><span style=\"color: #008000; text-decoration-color: #008000; background-color: #d7afff; font-weight: bold\">20</span><span style=\"background-color: #d7afff\"> </span><span style=\"color: #008000; text-decoration-color: #008000; background-color: #d7afff; font-weight: bold\">70</span><span style=\"background-color: #d7afff\"> </span><span style=\"color: #008000; text-decoration-color: #008000; background-color: #d7afff; font-weight: bold\">75</span>\n",
              "<span style=\"color: #008000; text-decoration-color: #008000; background-color: #d7afff; font-weight: bold\">72</span><span style=\"background-color: #d7afff\"> </span><span style=\"color: #008000; text-decoration-color: #008000; background-color: #d7afff; font-weight: bold\">75</span><span style=\"background-color: #d7afff\"> </span><span style=\"color: #008000; text-decoration-color: #008000; background-color: #d7afff; font-weight: bold\">73</span><span style=\"background-color: #d7afff\"> </span><span style=\"color: #008000; text-decoration-color: #008000; background-color: #d7afff; font-weight: bold\">2C</span><span style=\"background-color: #d7afff\"> </span><span style=\"color: #008000; text-decoration-color: #008000; background-color: #d7afff; font-weight: bold\">20</span><span style=\"background-color: #d7afff\"> </span><span style=\"color: #008000; text-decoration-color: #008000; background-color: #d7afff; font-weight: bold\">74</span><span style=\"background-color: #d7afff\"> </span><span style=\"color: #008000; text-decoration-color: #008000; background-color: #d7afff; font-weight: bold\">65</span><span style=\"background-color: #d7afff\"> </span><span style=\"color: #008000; text-decoration-color: #008000; background-color: #d7afff; font-weight: bold\">6D</span><span style=\"background-color: #d7afff\"> </span><span style=\"color: #008000; text-decoration-color: #008000; background-color: #d7afff; font-weight: bold\">70</span><span style=\"background-color: #d7afff\"> </span><span style=\"color: #008000; text-decoration-color: #008000; background-color: #d7afff; font-weight: bold\">6F</span><span style=\"background-color: #d7afff\"> </span><span style=\"color: #008000; text-decoration-color: #008000; background-color: #d7afff; font-weight: bold\">72</span><span style=\"background-color: #d7afff\"> </span><span style=\"color: #008000; text-decoration-color: #008000; background-color: #d7afff; font-weight: bold\">20</span><span style=\"background-color: #d7afff\"> </span><span style=\"color: #008000; text-decoration-color: #008000; background-color: #d7afff; font-weight: bold\">65</span><span style=\"background-color: #d7afff\"> </span><span style=\"color: #008000; text-decoration-color: #008000; background-color: #d7afff; font-weight: bold\">74</span><span style=\"background-color: #d7afff\"> </span><span style=\"color: #008000; text-decoration-color: #008000; background-color: #d7afff; font-weight: bold\">20</span><span style=\"background-color: #d7afff\"> </span><span style=\"color: #5f87af; text-decoration-color: #5f87af; background-color: #d7afff; font-weight: bold\">EA</span>\n",
              "<span style=\"color: #5f87af; text-decoration-color: #5f87af; background-color: #d7afff; font-weight: bold\">C1</span><span style=\"background-color: #d7afff\"> </span><span style=\"color: #5f87af; text-decoration-color: #5f87af; background-color: #d7afff; font-weight: bold\">E5</span><span style=\"background-color: #d7afff\"> </span><span style=\"color: #5f87af; text-decoration-color: #5f87af; background-color: #d7afff; font-weight: bold\">EE</span><span style=\"background-color: #d7afff\"> </span><span style=\"color: #5f87af; text-decoration-color: #5f87af; background-color: #d7afff; font-weight: bold\">A4</span><span style=\"background-color: #d7afff\"> </span><span style=\"color: #5f87af; text-decoration-color: #5f87af; background-color: #d7afff; font-weight: bold\">D9</span><span style=\"background-color: #d7afff\"> </span><span style=\"color: #5f87af; text-decoration-color: #5f87af; background-color: #d7afff; font-weight: bold\">BF</span><span style=\"background-color: #d7afff\"> </span><span style=\"color: #5f87af; text-decoration-color: #5f87af; background-color: #d7afff; font-weight: bold\">60</span><span style=\"background-color: #d7afff\"> </span><span style=\"color: #5f87af; text-decoration-color: #5f87af; background-color: #d7afff; font-weight: bold\">9E</span><span style=\"background-color: #d7afff\"> </span><span style=\"color: #5f87af; text-decoration-color: #5f87af; background-color: #d7afff; font-weight: bold\">43</span><span style=\"background-color: #d7afff\"> </span><span style=\"color: #5f87af; text-decoration-color: #5f87af; background-color: #d7afff; font-weight: bold\">BA</span><span style=\"background-color: #d7afff\"> </span><span style=\"color: #5f87af; text-decoration-color: #5f87af; background-color: #d7afff; font-weight: bold\">24</span><span style=\"background-color: #d7afff\"> </span><span style=\"color: #5f87af; text-decoration-color: #5f87af; background-color: #d7afff; font-weight: bold\">E9</span><span style=\"background-color: #d7afff\"> </span><span style=\"color: #5f87af; text-decoration-color: #5f87af; background-color: #d7afff; font-weight: bold\">62</span><span style=\"background-color: #d7afff\"> </span><span style=\"color: #5f87af; text-decoration-color: #5f87af; background-color: #d7afff; font-weight: bold\">D5</span><span style=\"background-color: #d7afff\"> </span><span style=\"color: #5f87af; text-decoration-color: #5f87af; background-color: #d7afff; font-weight: bold\">15</span><span style=\"background-color: #d7afff\"> </span><span style=\"color: #5f87af; text-decoration-color: #5f87af; background-color: #d7afff; font-weight: bold\">18</span>\n",
              "<span style=\"color: #5f87af; text-decoration-color: #5f87af; background-color: #d7afff; font-weight: bold\">B8</span><span style=\"background-color: #d7afff\"> </span><span style=\"color: #5f87af; text-decoration-color: #5f87af; background-color: #d7afff; font-weight: bold\">25</span><span style=\"background-color: #d7afff\"> </span><span style=\"color: #5f87af; text-decoration-color: #5f87af; background-color: #d7afff; font-weight: bold\">30</span><span style=\"background-color: #d7afff\"> </span><span style=\"color: #5f87af; text-decoration-color: #5f87af; background-color: #d7afff; font-weight: bold\">15</span><span style=\"background-color: #d7afff\"> </span><span style=\"color: #5f87af; text-decoration-color: #5f87af; background-color: #d7afff; font-weight: bold\">D9</span><span style=\"background-color: #d7afff\"> </span><span style=\"color: #5f87af; text-decoration-color: #5f87af; background-color: #d7afff; font-weight: bold\">5A</span><span style=\"background-color: #d7afff\"> </span><span style=\"color: #5f87af; text-decoration-color: #5f87af; background-color: #d7afff; font-weight: bold\">D3</span><span style=\"background-color: #d7afff\"> </span><span style=\"color: #5f87af; text-decoration-color: #5f87af; background-color: #d7afff; font-weight: bold\">DC</span><span style=\"background-color: #d7afff\"> </span><span style=\"color: #5f87af; text-decoration-color: #5f87af; background-color: #d7afff; font-weight: bold\">79</span><span style=\"background-color: #d7afff\"> </span><span style=\"color: #5f87af; text-decoration-color: #5f87af; background-color: #d7afff; font-weight: bold\">F8</span><span style=\"background-color: #d7afff\"> </span><span style=\"color: #5f87af; text-decoration-color: #5f87af; background-color: #d7afff; font-weight: bold\">B6</span><span style=\"background-color: #d7afff\"> </span><span style=\"color: #5f87af; text-decoration-color: #5f87af; background-color: #d7afff; font-weight: bold\">62</span><span style=\"background-color: #d7afff\"> </span><span style=\"color: #5f87af; text-decoration-color: #5f87af; background-color: #d7afff; font-weight: bold\">3D</span><span style=\"background-color: #d7afff\"> </span><span style=\"color: #5f87af; text-decoration-color: #5f87af; background-color: #d7afff; font-weight: bold\">7F</span><span style=\"background-color: #d7afff\"> </span><span style=\"color: #5f87af; text-decoration-color: #5f87af; background-color: #d7afff; font-weight: bold\">39</span><span style=\"background-color: #d7afff\"> </span>\n",
              "\n",
              "</pre>\n"
            ]
          },
          "metadata": {}
        },
        {
          "output_type": "display_data",
          "data": {
            "text/plain": [
              "\u001b[1;32;48;5;183m76\u001b[0m\u001b[48;5;183m \u001b[0m\u001b[1;32;48;5;183m75\u001b[0m\u001b[48;5;183m \u001b[0m\u001b[1;32;48;5;183m6C\u001b[0m\u001b[48;5;183m \u001b[0m\u001b[1;32;48;5;183m70\u001b[0m\u001b[48;5;183m \u001b[0m\u001b[1;32;48;5;183m75\u001b[0m\u001b[48;5;183m \u001b[0m\u001b[1;32;48;5;183m74\u001b[0m\u001b[48;5;183m \u001b[0m\u001b[1;32;48;5;183m61\u001b[0m\u001b[48;5;183m \u001b[0m\u001b[1;32;48;5;183m74\u001b[0m\u001b[48;5;183m \u001b[0m\u001b[1;32;48;5;183m65\u001b[0m\u001b[48;5;183m \u001b[0m\u001b[1;32;48;5;183m20\u001b[0m\u001b[48;5;183m \u001b[0m\u001b[1;32;48;5;183m75\u001b[0m\u001b[48;5;183m \u001b[0m\u001b[1;32;48;5;183m74\u001b[0m\u001b[48;5;183m \u001b[0m\u001b[1;32;48;5;183m2C\u001b[0m\u001b[48;5;183m \u001b[0m\u001b[1;32;48;5;183m20\u001b[0m\u001b[48;5;183m \u001b[0m\u001b[1;32;48;5;183m64\u001b[0m\u001b[48;5;183m \u001b[0m\u001b[1;32;48;5;183m69\u001b[0m\n",
              "\u001b[1;32;48;5;183m67\u001b[0m\u001b[48;5;183m \u001b[0m\u001b[1;32;48;5;183m6E\u001b[0m\u001b[48;5;183m \u001b[0m\u001b[1;32;48;5;183m69\u001b[0m\u001b[48;5;183m \u001b[0m\u001b[1;32;48;5;183m73\u001b[0m\u001b[48;5;183m \u001b[0m\u001b[1;32;48;5;183m73\u001b[0m\u001b[48;5;183m \u001b[0m\u001b[1;32;48;5;183m69\u001b[0m\u001b[48;5;183m \u001b[0m\u001b[1;32;48;5;183m6D\u001b[0m\u001b[48;5;183m \u001b[0m\u001b[1;32;48;5;183m20\u001b[0m\u001b[48;5;183m \u001b[0m\u001b[1;32;48;5;183m71\u001b[0m\u001b[48;5;183m \u001b[0m\u001b[1;32;48;5;183m75\u001b[0m\u001b[48;5;183m \u001b[0m\u001b[1;32;48;5;183m69\u001b[0m\u001b[48;5;183m \u001b[0m\u001b[1;32;48;5;183m73\u001b[0m\u001b[48;5;183m \u001b[0m\u001b[1;32;48;5;183m20\u001b[0m\u001b[48;5;183m \u001b[0m\u001b[1;32;48;5;183m61\u001b[0m\u001b[48;5;183m \u001b[0m\u001b[1;32;48;5;183m6E\u001b[0m\u001b[48;5;183m \u001b[0m\u001b[1;32;48;5;183m74\u001b[0m\n",
              "\u001b[1;32;48;5;183m65\u001b[0m\u001b[48;5;183m \u001b[0m\u001b[1;32;48;5;183m2E\u001b[0m\u001b[48;5;183m \u001b[0m\u001b[1;32;48;5;183m20\u001b[0m\u001b[48;5;183m \u001b[0m\u001b[1;32;48;5;183m45\u001b[0m\u001b[48;5;183m \u001b[0m\u001b[1;32;48;5;183m74\u001b[0m\u001b[48;5;183m \u001b[0m\u001b[1;32;48;5;183m69\u001b[0m\u001b[48;5;183m \u001b[0m\u001b[1;32;48;5;183m61\u001b[0m\u001b[48;5;183m \u001b[0m\u001b[1;32;48;5;183m6D\u001b[0m\u001b[48;5;183m \u001b[0m\u001b[1;32;48;5;183m20\u001b[0m\u001b[48;5;183m \u001b[0m\u001b[1;32;48;5;183m73\u001b[0m\u001b[48;5;183m \u001b[0m\u001b[1;32;48;5;183m6F\u001b[0m\u001b[48;5;183m \u001b[0m\u001b[1;32;48;5;183m6C\u001b[0m\u001b[48;5;183m \u001b[0m\u001b[1;32;48;5;183m6C\u001b[0m\u001b[48;5;183m \u001b[0m\u001b[1;32;48;5;183m69\u001b[0m\u001b[48;5;183m \u001b[0m\u001b[1;32;48;5;183m63\u001b[0m\u001b[48;5;183m \u001b[0m\u001b[1;32;48;5;183m69\u001b[0m\n",
              "\u001b[1;32;48;5;183m74\u001b[0m\u001b[48;5;183m \u001b[0m\u001b[1;32;48;5;183m75\u001b[0m\u001b[48;5;183m \u001b[0m\u001b[1;32;48;5;183m64\u001b[0m\u001b[48;5;183m \u001b[0m\u001b[1;32;48;5;183m69\u001b[0m\u001b[48;5;183m \u001b[0m\u001b[1;32;48;5;183m6E\u001b[0m\u001b[48;5;183m \u001b[0m\u001b[1;32;48;5;183m20\u001b[0m\u001b[48;5;183m \u001b[0m\u001b[1;32;48;5;183m6D\u001b[0m\u001b[48;5;183m \u001b[0m\u001b[1;32;48;5;183m61\u001b[0m\u001b[48;5;183m \u001b[0m\u001b[1;32;48;5;183m74\u001b[0m\u001b[48;5;183m \u001b[0m\u001b[1;32;48;5;183m74\u001b[0m\u001b[48;5;183m \u001b[0m\u001b[1;32;48;5;183m69\u001b[0m\u001b[48;5;183m \u001b[0m\u001b[1;32;48;5;183m73\u001b[0m\u001b[48;5;183m \u001b[0m\u001b[1;32;48;5;183m20\u001b[0m\u001b[48;5;183m \u001b[0m\u001b[1;32;48;5;183m6A\u001b[0m\u001b[48;5;183m \u001b[0m\u001b[1;32;48;5;183m75\u001b[0m\u001b[48;5;183m \u001b[0m\u001b[1;32;48;5;183m73\u001b[0m\n",
              "\u001b[1;32;48;5;183m74\u001b[0m\u001b[48;5;183m \u001b[0m\u001b[1;32;48;5;183m6F\u001b[0m\u001b[48;5;183m \u001b[0m\u001b[1;32;48;5;183m20\u001b[0m\u001b[48;5;183m \u001b[0m\u001b[1;32;48;5;183m69\u001b[0m\u001b[48;5;183m \u001b[0m\u001b[1;32;48;5;183m6E\u001b[0m\u001b[48;5;183m \u001b[0m\u001b[1;32;48;5;183m20\u001b[0m\u001b[48;5;183m \u001b[0m\u001b[1;32;48;5;183m62\u001b[0m\u001b[48;5;183m \u001b[0m\u001b[1;32;48;5;183m69\u001b[0m\u001b[48;5;183m \u001b[0m\u001b[1;32;48;5;183m62\u001b[0m\u001b[48;5;183m \u001b[0m\u001b[1;32;48;5;183m65\u001b[0m\u001b[48;5;183m \u001b[0m\u001b[1;32;48;5;183m6E\u001b[0m\u001b[48;5;183m \u001b[0m\u001b[1;32;48;5;183m64\u001b[0m\u001b[48;5;183m \u001b[0m\u001b[1;32;48;5;183m75\u001b[0m\u001b[48;5;183m \u001b[0m\u001b[1;32;48;5;183m6D\u001b[0m\u001b[48;5;183m \u001b[0m\u001b[1;32;48;5;183m2E\u001b[0m\u001b[48;5;183m \u001b[0m\u001b[1;32;48;5;183m20\u001b[0m\n",
              "\u001b[1;32;48;5;183m4E\u001b[0m\u001b[48;5;183m \u001b[0m\u001b[1;32;48;5;183m61\u001b[0m\u001b[48;5;183m \u001b[0m\u001b[1;32;48;5;183m6D\u001b[0m\u001b[48;5;183m \u001b[0m\u001b[1;32;48;5;183m20\u001b[0m\u001b[48;5;183m \u001b[0m\u001b[1;32;48;5;183m61\u001b[0m\u001b[48;5;183m \u001b[0m\u001b[1;32;48;5;183m72\u001b[0m\u001b[48;5;183m \u001b[0m\u001b[1;32;48;5;183m63\u001b[0m\u001b[48;5;183m \u001b[0m\u001b[1;32;48;5;183m75\u001b[0m\u001b[48;5;183m \u001b[0m\u001b[1;32;48;5;183m20\u001b[0m\u001b[48;5;183m \u001b[0m\u001b[1;32;48;5;183m65\u001b[0m\u001b[48;5;183m \u001b[0m\u001b[1;32;48;5;183m72\u001b[0m\u001b[48;5;183m \u001b[0m\u001b[1;32;48;5;183m61\u001b[0m\u001b[48;5;183m \u001b[0m\u001b[1;32;48;5;183m74\u001b[0m\u001b[48;5;183m \u001b[0m\u001b[1;32;48;5;183m2C\u001b[0m\u001b[48;5;183m \u001b[0m\u001b[1;32;48;5;183m20\u001b[0m\u001b[48;5;183m \u001b[0m\u001b[1;32;48;5;183m6C\u001b[0m\n",
              "\u001b[1;32;48;5;183m6F\u001b[0m\u001b[48;5;183m \u001b[0m\u001b[1;32;48;5;183m62\u001b[0m\u001b[48;5;183m \u001b[0m\u001b[1;32;48;5;183m6F\u001b[0m\u001b[48;5;183m \u001b[0m\u001b[1;32;48;5;183m72\u001b[0m\u001b[48;5;183m \u001b[0m\u001b[1;32;48;5;183m74\u001b[0m\u001b[48;5;183m \u001b[0m\u001b[1;32;48;5;183m69\u001b[0m\u001b[48;5;183m \u001b[0m\u001b[1;32;48;5;183m73\u001b[0m\u001b[48;5;183m \u001b[0m\u001b[1;32;48;5;183m20\u001b[0m\u001b[48;5;183m \u001b[0m\u001b[1;32;48;5;183m65\u001b[0m\u001b[48;5;183m \u001b[0m\u001b[1;32;48;5;183m67\u001b[0m\u001b[48;5;183m \u001b[0m\u001b[1;32;48;5;183m65\u001b[0m\u001b[48;5;183m \u001b[0m\u001b[1;32;48;5;183m74\u001b[0m\u001b[48;5;183m \u001b[0m\u001b[1;32;48;5;183m20\u001b[0m\u001b[48;5;183m \u001b[0m\u001b[1;32;48;5;183m71\u001b[0m\u001b[48;5;183m \u001b[0m\u001b[1;32;48;5;183m75\u001b[0m\u001b[48;5;183m \u001b[0m\u001b[1;32;48;5;183m61\u001b[0m\n",
              "\u001b[1;32;48;5;183m6D\u001b[0m\u001b[48;5;183m \u001b[0m\u001b[1;32;48;5;183m20\u001b[0m\u001b[48;5;183m \u001b[0m\u001b[1;32;48;5;183m76\u001b[0m\u001b[48;5;183m \u001b[0m\u001b[1;32;48;5;183m69\u001b[0m\u001b[48;5;183m \u001b[0m\u001b[1;32;48;5;183m74\u001b[0m\u001b[48;5;183m \u001b[0m\u001b[1;32;48;5;183m61\u001b[0m\u001b[48;5;183m \u001b[0m\u001b[1;32;48;5;183m65\u001b[0m\u001b[48;5;183m \u001b[0m\u001b[1;32;48;5;183m2C\u001b[0m\u001b[48;5;183m \u001b[0m\u001b[1;32;48;5;183m20\u001b[0m\u001b[48;5;183m \u001b[0m\u001b[1;32;48;5;183m61\u001b[0m\u001b[48;5;183m \u001b[0m\u001b[1;32;48;5;183m6C\u001b[0m\u001b[48;5;183m \u001b[0m\u001b[1;32;48;5;183m69\u001b[0m\u001b[48;5;183m \u001b[0m\u001b[1;32;48;5;183m71\u001b[0m\u001b[48;5;183m \u001b[0m\u001b[1;32;48;5;183m75\u001b[0m\u001b[48;5;183m \u001b[0m\u001b[1;32;48;5;183m65\u001b[0m\u001b[48;5;183m \u001b[0m\u001b[1;32;48;5;183m74\u001b[0m\n",
              "\u001b[1;32;48;5;183m20\u001b[0m\u001b[48;5;183m \u001b[0m\u001b[1;32;48;5;183m75\u001b[0m\u001b[48;5;183m \u001b[0m\u001b[1;32;48;5;183m6C\u001b[0m\u001b[48;5;183m \u001b[0m\u001b[1;32;48;5;183m6C\u001b[0m\u001b[48;5;183m \u001b[0m\u001b[1;32;48;5;183m61\u001b[0m\u001b[48;5;183m \u001b[0m\u001b[1;32;48;5;183m6D\u001b[0m\u001b[48;5;183m \u001b[0m\u001b[1;32;48;5;183m63\u001b[0m\u001b[48;5;183m \u001b[0m\u001b[1;32;48;5;183m6F\u001b[0m\u001b[48;5;183m \u001b[0m\u001b[1;32;48;5;183m72\u001b[0m\u001b[48;5;183m \u001b[0m\u001b[1;32;48;5;183m70\u001b[0m\u001b[48;5;183m \u001b[0m\u001b[1;32;48;5;183m65\u001b[0m\u001b[48;5;183m \u001b[0m\u001b[1;32;48;5;183m72\u001b[0m\u001b[48;5;183m \u001b[0m\u001b[1;32;48;5;183m20\u001b[0m\u001b[48;5;183m \u001b[0m\u001b[1;32;48;5;183m74\u001b[0m\u001b[48;5;183m \u001b[0m\u001b[1;32;48;5;183m75\u001b[0m\u001b[48;5;183m \u001b[0m\u001b[1;32;48;5;183m72\u001b[0m\n",
              "\u001b[1;32;48;5;183m70\u001b[0m\u001b[48;5;183m \u001b[0m\u001b[1;32;48;5;183m69\u001b[0m\u001b[48;5;183m \u001b[0m\u001b[1;32;48;5;183m73\u001b[0m\u001b[48;5;183m \u001b[0m\u001b[1;32;48;5;183m2E\u001b[0m\u001b[48;5;183m \u001b[0m\u001b[1;32;48;5;183m20\u001b[0m\u001b[48;5;183m \u001b[0m\u001b[1;32;48;5;183m4D\u001b[0m\u001b[48;5;183m \u001b[0m\u001b[1;32;48;5;183m61\u001b[0m\u001b[48;5;183m \u001b[0m\u001b[1;32;48;5;183m75\u001b[0m\u001b[48;5;183m \u001b[0m\u001b[1;32;48;5;183m72\u001b[0m\u001b[48;5;183m \u001b[0m\u001b[1;32;48;5;183m69\u001b[0m\u001b[48;5;183m \u001b[0m\u001b[1;32;48;5;183m73\u001b[0m\u001b[48;5;183m \u001b[0m\u001b[1;32;48;5;183m20\u001b[0m\u001b[48;5;183m \u001b[0m\u001b[1;32;48;5;183m61\u001b[0m\u001b[48;5;183m \u001b[0m\u001b[1;32;48;5;183m20\u001b[0m\u001b[48;5;183m \u001b[0m\u001b[1;32;48;5;183m65\u001b[0m\u001b[48;5;183m \u001b[0m\u001b[1;32;48;5;183m6C\u001b[0m\n",
              "\u001b[1;32;48;5;183m69\u001b[0m\u001b[48;5;183m \u001b[0m\u001b[1;32;48;5;183m74\u001b[0m\u001b[48;5;183m \u001b[0m\u001b[1;32;48;5;183m20\u001b[0m\u001b[48;5;183m \u001b[0m\u001b[1;32;48;5;183m76\u001b[0m\u001b[48;5;183m \u001b[0m\u001b[1;32;48;5;183m69\u001b[0m\u001b[48;5;183m \u001b[0m\u001b[1;32;48;5;183m74\u001b[0m\u001b[48;5;183m \u001b[0m\u001b[1;32;48;5;183m61\u001b[0m\u001b[48;5;183m \u001b[0m\u001b[1;32;48;5;183m65\u001b[0m\u001b[48;5;183m \u001b[0m\u001b[1;32;48;5;183m20\u001b[0m\u001b[48;5;183m \u001b[0m\u001b[1;32;48;5;183m6E\u001b[0m\u001b[48;5;183m \u001b[0m\u001b[1;32;48;5;183m75\u001b[0m\u001b[48;5;183m \u001b[0m\u001b[1;32;48;5;183m6E\u001b[0m\u001b[48;5;183m \u001b[0m\u001b[1;32;48;5;183m63\u001b[0m\u001b[48;5;183m \u001b[0m\u001b[1;32;48;5;183m20\u001b[0m\u001b[48;5;183m \u001b[0m\u001b[1;32;48;5;183m70\u001b[0m\u001b[48;5;183m \u001b[0m\u001b[1;32;48;5;183m6F\u001b[0m\n",
              "\u001b[1;32;48;5;183m72\u001b[0m\u001b[48;5;183m \u001b[0m\u001b[1;32;48;5;183m74\u001b[0m\u001b[48;5;183m \u001b[0m\u001b[1;32;48;5;183m74\u001b[0m\u001b[48;5;183m \u001b[0m\u001b[1;32;48;5;183m69\u001b[0m\u001b[48;5;183m \u001b[0m\u001b[1;32;48;5;183m74\u001b[0m\u001b[48;5;183m \u001b[0m\u001b[1;32;48;5;183m6F\u001b[0m\u001b[48;5;183m \u001b[0m\u001b[1;32;48;5;183m72\u001b[0m\u001b[48;5;183m \u001b[0m\u001b[1;32;48;5;183m20\u001b[0m\u001b[48;5;183m \u001b[0m\u001b[1;32;48;5;183m63\u001b[0m\u001b[48;5;183m \u001b[0m\u001b[1;32;48;5;183m6F\u001b[0m\u001b[48;5;183m \u001b[0m\u001b[1;32;48;5;183m6D\u001b[0m\u001b[48;5;183m \u001b[0m\u001b[1;32;48;5;183m6D\u001b[0m\u001b[48;5;183m \u001b[0m\u001b[1;32;48;5;183m6F\u001b[0m\u001b[48;5;183m \u001b[0m\u001b[1;32;48;5;183m64\u001b[0m\u001b[48;5;183m \u001b[0m\u001b[1;32;48;5;183m6F\u001b[0m\u001b[48;5;183m \u001b[0m\u001b[1;32;48;5;183m20\u001b[0m\n",
              "\u001b[1;32;48;5;183m76\u001b[0m\u001b[48;5;183m \u001b[0m\u001b[1;32;48;5;183m69\u001b[0m\u001b[48;5;183m \u001b[0m\u001b[1;32;48;5;183m74\u001b[0m\u001b[48;5;183m \u001b[0m\u001b[1;32;48;5;183m61\u001b[0m\u001b[48;5;183m \u001b[0m\u001b[1;32;48;5;183m65\u001b[0m\u001b[48;5;183m \u001b[0m\u001b[1;32;48;5;183m20\u001b[0m\u001b[48;5;183m \u001b[0m\u001b[1;32;48;5;183m75\u001b[0m\u001b[48;5;183m \u001b[0m\u001b[1;32;48;5;183m74\u001b[0m\u001b[48;5;183m \u001b[0m\u001b[1;32;48;5;183m20\u001b[0m\u001b[48;5;183m \u001b[0m\u001b[1;32;48;5;183m73\u001b[0m\u001b[48;5;183m \u001b[0m\u001b[1;32;48;5;183m65\u001b[0m\u001b[48;5;183m \u001b[0m\u001b[1;32;48;5;183m6D\u001b[0m\u001b[48;5;183m \u001b[0m\u001b[1;32;48;5;183m2E\u001b[0m\u001b[48;5;183m \u001b[0m\u001b[1;32;48;5;183m20\u001b[0m\u001b[48;5;183m \u001b[0m\u001b[1;32;48;5;183m50\u001b[0m\u001b[48;5;183m \u001b[0m\u001b[1;32;48;5;183m72\u001b[0m\n",
              "\u001b[1;32;48;5;183m61\u001b[0m\u001b[48;5;183m \u001b[0m\u001b[1;32;48;5;183m65\u001b[0m\u001b[48;5;183m \u001b[0m\u001b[1;32;48;5;183m73\u001b[0m\u001b[48;5;183m \u001b[0m\u001b[1;32;48;5;183m65\u001b[0m\u001b[48;5;183m \u001b[0m\u001b[1;32;48;5;183m6E\u001b[0m\u001b[48;5;183m \u001b[0m\u001b[1;32;48;5;183m74\u001b[0m\u001b[48;5;183m \u001b[0m\u001b[1;32;48;5;183m20\u001b[0m\u001b[48;5;183m \u001b[0m\u001b[1;32;48;5;183m74\u001b[0m\u001b[48;5;183m \u001b[0m\u001b[1;32;48;5;183m72\u001b[0m\u001b[48;5;183m \u001b[0m\u001b[1;32;48;5;183m69\u001b[0m\u001b[48;5;183m \u001b[0m\u001b[1;32;48;5;183m73\u001b[0m\u001b[48;5;183m \u001b[0m\u001b[1;32;48;5;183m74\u001b[0m\u001b[48;5;183m \u001b[0m\u001b[1;32;48;5;183m69\u001b[0m\u001b[48;5;183m \u001b[0m\u001b[1;32;48;5;183m71\u001b[0m\u001b[48;5;183m \u001b[0m\u001b[1;32;48;5;183m75\u001b[0m\u001b[48;5;183m \u001b[0m\u001b[1;38;5;67;48;5;183m36\u001b[0m\n",
              "\u001b[1;38;5;67;48;5;183mA2\u001b[0m\u001b[48;5;183m \u001b[0m\u001b[1;38;5;67;48;5;183mBA\u001b[0m\u001b[48;5;183m \u001b[0m\u001b[1;38;5;67;48;5;183m23\u001b[0m\u001b[48;5;183m \u001b[0m\u001b[1;38;5;67;48;5;183m90\u001b[0m\u001b[48;5;183m \u001b[0m\u001b[1;38;5;67;48;5;183mD8\u001b[0m\u001b[48;5;183m \u001b[0m\u001b[1;38;5;67;48;5;183m10\u001b[0m\u001b[48;5;183m \u001b[0m\u001b[1;38;5;67;48;5;183m6E\u001b[0m\u001b[48;5;183m \u001b[0m\u001b[1;38;5;67;48;5;183m78\u001b[0m\u001b[48;5;183m \u001b[0m\u001b[1;38;5;67;48;5;183mBC\u001b[0m\u001b[48;5;183m \u001b[0m\u001b[1;38;5;67;48;5;183m2F\u001b[0m\u001b[48;5;183m \u001b[0m\u001b[1;38;5;67;48;5;183m4C\u001b[0m\u001b[48;5;183m \u001b[0m\u001b[1;38;5;67;48;5;183m2C\u001b[0m\u001b[48;5;183m \u001b[0m\u001b[1;38;5;67;48;5;183m52\u001b[0m\u001b[48;5;183m \u001b[0m\u001b[1;38;5;67;48;5;183mA2\u001b[0m\u001b[48;5;183m \u001b[0m\u001b[1;38;5;67;48;5;183m74\u001b[0m\u001b[48;5;183m \u001b[0m\u001b[1;38;5;67;48;5;183m7A\u001b[0m\n",
              "\u001b[1;38;5;67;48;5;183m98\u001b[0m\u001b[48;5;183m \u001b[0m\u001b[1;38;5;67;48;5;183m65\u001b[0m\u001b[48;5;183m \u001b[0m\u001b[1;38;5;67;48;5;183m97\u001b[0m\u001b[48;5;183m \u001b[0m\u001b[1;38;5;67;48;5;183m2E\u001b[0m\u001b[48;5;183m \u001b[0m\u001b[1;38;5;67;48;5;183mED\u001b[0m\u001b[48;5;183m \u001b[0m\u001b[1;38;5;67;48;5;183mB2\u001b[0m\u001b[48;5;183m \u001b[0m\u001b[1;38;5;67;48;5;183m80\u001b[0m\u001b[48;5;183m \u001b[0m\u001b[1;38;5;67;48;5;183mB0\u001b[0m\u001b[48;5;183m \u001b[0m\u001b[1;38;5;67;48;5;183mC0\u001b[0m\u001b[48;5;183m \u001b[0m\u001b[1;38;5;67;48;5;183m5A\u001b[0m\u001b[48;5;183m \u001b[0m\u001b[1;38;5;67;48;5;183m8F\u001b[0m\u001b[48;5;183m \u001b[0m\u001b[1;38;5;67;48;5;183m0E\u001b[0m\u001b[48;5;183m \u001b[0m\u001b[1;38;5;67;48;5;183mF2\u001b[0m\u001b[48;5;183m \u001b[0m\u001b[1;38;5;67;48;5;183m04\u001b[0m\u001b[48;5;183m \u001b[0m\u001b[1;38;5;67;48;5;183m8B\u001b[0m\u001b[48;5;183m \u001b[0m\n",
              "\n"
            ],
            "text/html": [
              "<pre style=\"white-space:pre;overflow-x:auto;line-height:normal;font-family:Menlo,'DejaVu Sans Mono',consolas,'Courier New',monospace\"><span style=\"color: #008000; text-decoration-color: #008000; background-color: #d7afff; font-weight: bold\">76</span><span style=\"background-color: #d7afff\"> </span><span style=\"color: #008000; text-decoration-color: #008000; background-color: #d7afff; font-weight: bold\">75</span><span style=\"background-color: #d7afff\"> </span><span style=\"color: #008000; text-decoration-color: #008000; background-color: #d7afff; font-weight: bold\">6C</span><span style=\"background-color: #d7afff\"> </span><span style=\"color: #008000; text-decoration-color: #008000; background-color: #d7afff; font-weight: bold\">70</span><span style=\"background-color: #d7afff\"> </span><span style=\"color: #008000; text-decoration-color: #008000; background-color: #d7afff; font-weight: bold\">75</span><span style=\"background-color: #d7afff\"> </span><span style=\"color: #008000; text-decoration-color: #008000; background-color: #d7afff; font-weight: bold\">74</span><span style=\"background-color: #d7afff\"> </span><span style=\"color: #008000; text-decoration-color: #008000; background-color: #d7afff; font-weight: bold\">61</span><span style=\"background-color: #d7afff\"> </span><span style=\"color: #008000; text-decoration-color: #008000; background-color: #d7afff; font-weight: bold\">74</span><span style=\"background-color: #d7afff\"> </span><span style=\"color: #008000; text-decoration-color: #008000; background-color: #d7afff; font-weight: bold\">65</span><span style=\"background-color: #d7afff\"> </span><span style=\"color: #008000; text-decoration-color: #008000; background-color: #d7afff; font-weight: bold\">20</span><span style=\"background-color: #d7afff\"> </span><span style=\"color: #008000; text-decoration-color: #008000; background-color: #d7afff; font-weight: bold\">75</span><span style=\"background-color: #d7afff\"> </span><span style=\"color: #008000; text-decoration-color: #008000; background-color: #d7afff; font-weight: bold\">74</span><span style=\"background-color: #d7afff\"> </span><span style=\"color: #008000; text-decoration-color: #008000; background-color: #d7afff; font-weight: bold\">2C</span><span style=\"background-color: #d7afff\"> </span><span style=\"color: #008000; text-decoration-color: #008000; background-color: #d7afff; font-weight: bold\">20</span><span style=\"background-color: #d7afff\"> </span><span style=\"color: #008000; text-decoration-color: #008000; background-color: #d7afff; font-weight: bold\">64</span><span style=\"background-color: #d7afff\"> </span><span style=\"color: #008000; text-decoration-color: #008000; background-color: #d7afff; font-weight: bold\">69</span>\n",
              "<span style=\"color: #008000; text-decoration-color: #008000; background-color: #d7afff; font-weight: bold\">67</span><span style=\"background-color: #d7afff\"> </span><span style=\"color: #008000; text-decoration-color: #008000; background-color: #d7afff; font-weight: bold\">6E</span><span style=\"background-color: #d7afff\"> </span><span style=\"color: #008000; text-decoration-color: #008000; background-color: #d7afff; font-weight: bold\">69</span><span style=\"background-color: #d7afff\"> </span><span style=\"color: #008000; text-decoration-color: #008000; background-color: #d7afff; font-weight: bold\">73</span><span style=\"background-color: #d7afff\"> </span><span style=\"color: #008000; text-decoration-color: #008000; background-color: #d7afff; font-weight: bold\">73</span><span style=\"background-color: #d7afff\"> </span><span style=\"color: #008000; text-decoration-color: #008000; background-color: #d7afff; font-weight: bold\">69</span><span style=\"background-color: #d7afff\"> </span><span style=\"color: #008000; text-decoration-color: #008000; background-color: #d7afff; font-weight: bold\">6D</span><span style=\"background-color: #d7afff\"> </span><span style=\"color: #008000; text-decoration-color: #008000; background-color: #d7afff; font-weight: bold\">20</span><span style=\"background-color: #d7afff\"> </span><span style=\"color: #008000; text-decoration-color: #008000; background-color: #d7afff; font-weight: bold\">71</span><span style=\"background-color: #d7afff\"> </span><span style=\"color: #008000; text-decoration-color: #008000; background-color: #d7afff; font-weight: bold\">75</span><span style=\"background-color: #d7afff\"> </span><span style=\"color: #008000; text-decoration-color: #008000; background-color: #d7afff; font-weight: bold\">69</span><span style=\"background-color: #d7afff\"> </span><span style=\"color: #008000; text-decoration-color: #008000; background-color: #d7afff; font-weight: bold\">73</span><span style=\"background-color: #d7afff\"> </span><span style=\"color: #008000; text-decoration-color: #008000; background-color: #d7afff; font-weight: bold\">20</span><span style=\"background-color: #d7afff\"> </span><span style=\"color: #008000; text-decoration-color: #008000; background-color: #d7afff; font-weight: bold\">61</span><span style=\"background-color: #d7afff\"> </span><span style=\"color: #008000; text-decoration-color: #008000; background-color: #d7afff; font-weight: bold\">6E</span><span style=\"background-color: #d7afff\"> </span><span style=\"color: #008000; text-decoration-color: #008000; background-color: #d7afff; font-weight: bold\">74</span>\n",
              "<span style=\"color: #008000; text-decoration-color: #008000; background-color: #d7afff; font-weight: bold\">65</span><span style=\"background-color: #d7afff\"> </span><span style=\"color: #008000; text-decoration-color: #008000; background-color: #d7afff; font-weight: bold\">2E</span><span style=\"background-color: #d7afff\"> </span><span style=\"color: #008000; text-decoration-color: #008000; background-color: #d7afff; font-weight: bold\">20</span><span style=\"background-color: #d7afff\"> </span><span style=\"color: #008000; text-decoration-color: #008000; background-color: #d7afff; font-weight: bold\">45</span><span style=\"background-color: #d7afff\"> </span><span style=\"color: #008000; text-decoration-color: #008000; background-color: #d7afff; font-weight: bold\">74</span><span style=\"background-color: #d7afff\"> </span><span style=\"color: #008000; text-decoration-color: #008000; background-color: #d7afff; font-weight: bold\">69</span><span style=\"background-color: #d7afff\"> </span><span style=\"color: #008000; text-decoration-color: #008000; background-color: #d7afff; font-weight: bold\">61</span><span style=\"background-color: #d7afff\"> </span><span style=\"color: #008000; text-decoration-color: #008000; background-color: #d7afff; font-weight: bold\">6D</span><span style=\"background-color: #d7afff\"> </span><span style=\"color: #008000; text-decoration-color: #008000; background-color: #d7afff; font-weight: bold\">20</span><span style=\"background-color: #d7afff\"> </span><span style=\"color: #008000; text-decoration-color: #008000; background-color: #d7afff; font-weight: bold\">73</span><span style=\"background-color: #d7afff\"> </span><span style=\"color: #008000; text-decoration-color: #008000; background-color: #d7afff; font-weight: bold\">6F</span><span style=\"background-color: #d7afff\"> </span><span style=\"color: #008000; text-decoration-color: #008000; background-color: #d7afff; font-weight: bold\">6C</span><span style=\"background-color: #d7afff\"> </span><span style=\"color: #008000; text-decoration-color: #008000; background-color: #d7afff; font-weight: bold\">6C</span><span style=\"background-color: #d7afff\"> </span><span style=\"color: #008000; text-decoration-color: #008000; background-color: #d7afff; font-weight: bold\">69</span><span style=\"background-color: #d7afff\"> </span><span style=\"color: #008000; text-decoration-color: #008000; background-color: #d7afff; font-weight: bold\">63</span><span style=\"background-color: #d7afff\"> </span><span style=\"color: #008000; text-decoration-color: #008000; background-color: #d7afff; font-weight: bold\">69</span>\n",
              "<span style=\"color: #008000; text-decoration-color: #008000; background-color: #d7afff; font-weight: bold\">74</span><span style=\"background-color: #d7afff\"> </span><span style=\"color: #008000; text-decoration-color: #008000; background-color: #d7afff; font-weight: bold\">75</span><span style=\"background-color: #d7afff\"> </span><span style=\"color: #008000; text-decoration-color: #008000; background-color: #d7afff; font-weight: bold\">64</span><span style=\"background-color: #d7afff\"> </span><span style=\"color: #008000; text-decoration-color: #008000; background-color: #d7afff; font-weight: bold\">69</span><span style=\"background-color: #d7afff\"> </span><span style=\"color: #008000; text-decoration-color: #008000; background-color: #d7afff; font-weight: bold\">6E</span><span style=\"background-color: #d7afff\"> </span><span style=\"color: #008000; text-decoration-color: #008000; background-color: #d7afff; font-weight: bold\">20</span><span style=\"background-color: #d7afff\"> </span><span style=\"color: #008000; text-decoration-color: #008000; background-color: #d7afff; font-weight: bold\">6D</span><span style=\"background-color: #d7afff\"> </span><span style=\"color: #008000; text-decoration-color: #008000; background-color: #d7afff; font-weight: bold\">61</span><span style=\"background-color: #d7afff\"> </span><span style=\"color: #008000; text-decoration-color: #008000; background-color: #d7afff; font-weight: bold\">74</span><span style=\"background-color: #d7afff\"> </span><span style=\"color: #008000; text-decoration-color: #008000; background-color: #d7afff; font-weight: bold\">74</span><span style=\"background-color: #d7afff\"> </span><span style=\"color: #008000; text-decoration-color: #008000; background-color: #d7afff; font-weight: bold\">69</span><span style=\"background-color: #d7afff\"> </span><span style=\"color: #008000; text-decoration-color: #008000; background-color: #d7afff; font-weight: bold\">73</span><span style=\"background-color: #d7afff\"> </span><span style=\"color: #008000; text-decoration-color: #008000; background-color: #d7afff; font-weight: bold\">20</span><span style=\"background-color: #d7afff\"> </span><span style=\"color: #008000; text-decoration-color: #008000; background-color: #d7afff; font-weight: bold\">6A</span><span style=\"background-color: #d7afff\"> </span><span style=\"color: #008000; text-decoration-color: #008000; background-color: #d7afff; font-weight: bold\">75</span><span style=\"background-color: #d7afff\"> </span><span style=\"color: #008000; text-decoration-color: #008000; background-color: #d7afff; font-weight: bold\">73</span>\n",
              "<span style=\"color: #008000; text-decoration-color: #008000; background-color: #d7afff; font-weight: bold\">74</span><span style=\"background-color: #d7afff\"> </span><span style=\"color: #008000; text-decoration-color: #008000; background-color: #d7afff; font-weight: bold\">6F</span><span style=\"background-color: #d7afff\"> </span><span style=\"color: #008000; text-decoration-color: #008000; background-color: #d7afff; font-weight: bold\">20</span><span style=\"background-color: #d7afff\"> </span><span style=\"color: #008000; text-decoration-color: #008000; background-color: #d7afff; font-weight: bold\">69</span><span style=\"background-color: #d7afff\"> </span><span style=\"color: #008000; text-decoration-color: #008000; background-color: #d7afff; font-weight: bold\">6E</span><span style=\"background-color: #d7afff\"> </span><span style=\"color: #008000; text-decoration-color: #008000; background-color: #d7afff; font-weight: bold\">20</span><span style=\"background-color: #d7afff\"> </span><span style=\"color: #008000; text-decoration-color: #008000; background-color: #d7afff; font-weight: bold\">62</span><span style=\"background-color: #d7afff\"> </span><span style=\"color: #008000; text-decoration-color: #008000; background-color: #d7afff; font-weight: bold\">69</span><span style=\"background-color: #d7afff\"> </span><span style=\"color: #008000; text-decoration-color: #008000; background-color: #d7afff; font-weight: bold\">62</span><span style=\"background-color: #d7afff\"> </span><span style=\"color: #008000; text-decoration-color: #008000; background-color: #d7afff; font-weight: bold\">65</span><span style=\"background-color: #d7afff\"> </span><span style=\"color: #008000; text-decoration-color: #008000; background-color: #d7afff; font-weight: bold\">6E</span><span style=\"background-color: #d7afff\"> </span><span style=\"color: #008000; text-decoration-color: #008000; background-color: #d7afff; font-weight: bold\">64</span><span style=\"background-color: #d7afff\"> </span><span style=\"color: #008000; text-decoration-color: #008000; background-color: #d7afff; font-weight: bold\">75</span><span style=\"background-color: #d7afff\"> </span><span style=\"color: #008000; text-decoration-color: #008000; background-color: #d7afff; font-weight: bold\">6D</span><span style=\"background-color: #d7afff\"> </span><span style=\"color: #008000; text-decoration-color: #008000; background-color: #d7afff; font-weight: bold\">2E</span><span style=\"background-color: #d7afff\"> </span><span style=\"color: #008000; text-decoration-color: #008000; background-color: #d7afff; font-weight: bold\">20</span>\n",
              "<span style=\"color: #008000; text-decoration-color: #008000; background-color: #d7afff; font-weight: bold\">4E</span><span style=\"background-color: #d7afff\"> </span><span style=\"color: #008000; text-decoration-color: #008000; background-color: #d7afff; font-weight: bold\">61</span><span style=\"background-color: #d7afff\"> </span><span style=\"color: #008000; text-decoration-color: #008000; background-color: #d7afff; font-weight: bold\">6D</span><span style=\"background-color: #d7afff\"> </span><span style=\"color: #008000; text-decoration-color: #008000; background-color: #d7afff; font-weight: bold\">20</span><span style=\"background-color: #d7afff\"> </span><span style=\"color: #008000; text-decoration-color: #008000; background-color: #d7afff; font-weight: bold\">61</span><span style=\"background-color: #d7afff\"> </span><span style=\"color: #008000; text-decoration-color: #008000; background-color: #d7afff; font-weight: bold\">72</span><span style=\"background-color: #d7afff\"> </span><span style=\"color: #008000; text-decoration-color: #008000; background-color: #d7afff; font-weight: bold\">63</span><span style=\"background-color: #d7afff\"> </span><span style=\"color: #008000; text-decoration-color: #008000; background-color: #d7afff; font-weight: bold\">75</span><span style=\"background-color: #d7afff\"> </span><span style=\"color: #008000; text-decoration-color: #008000; background-color: #d7afff; font-weight: bold\">20</span><span style=\"background-color: #d7afff\"> </span><span style=\"color: #008000; text-decoration-color: #008000; background-color: #d7afff; font-weight: bold\">65</span><span style=\"background-color: #d7afff\"> </span><span style=\"color: #008000; text-decoration-color: #008000; background-color: #d7afff; font-weight: bold\">72</span><span style=\"background-color: #d7afff\"> </span><span style=\"color: #008000; text-decoration-color: #008000; background-color: #d7afff; font-weight: bold\">61</span><span style=\"background-color: #d7afff\"> </span><span style=\"color: #008000; text-decoration-color: #008000; background-color: #d7afff; font-weight: bold\">74</span><span style=\"background-color: #d7afff\"> </span><span style=\"color: #008000; text-decoration-color: #008000; background-color: #d7afff; font-weight: bold\">2C</span><span style=\"background-color: #d7afff\"> </span><span style=\"color: #008000; text-decoration-color: #008000; background-color: #d7afff; font-weight: bold\">20</span><span style=\"background-color: #d7afff\"> </span><span style=\"color: #008000; text-decoration-color: #008000; background-color: #d7afff; font-weight: bold\">6C</span>\n",
              "<span style=\"color: #008000; text-decoration-color: #008000; background-color: #d7afff; font-weight: bold\">6F</span><span style=\"background-color: #d7afff\"> </span><span style=\"color: #008000; text-decoration-color: #008000; background-color: #d7afff; font-weight: bold\">62</span><span style=\"background-color: #d7afff\"> </span><span style=\"color: #008000; text-decoration-color: #008000; background-color: #d7afff; font-weight: bold\">6F</span><span style=\"background-color: #d7afff\"> </span><span style=\"color: #008000; text-decoration-color: #008000; background-color: #d7afff; font-weight: bold\">72</span><span style=\"background-color: #d7afff\"> </span><span style=\"color: #008000; text-decoration-color: #008000; background-color: #d7afff; font-weight: bold\">74</span><span style=\"background-color: #d7afff\"> </span><span style=\"color: #008000; text-decoration-color: #008000; background-color: #d7afff; font-weight: bold\">69</span><span style=\"background-color: #d7afff\"> </span><span style=\"color: #008000; text-decoration-color: #008000; background-color: #d7afff; font-weight: bold\">73</span><span style=\"background-color: #d7afff\"> </span><span style=\"color: #008000; text-decoration-color: #008000; background-color: #d7afff; font-weight: bold\">20</span><span style=\"background-color: #d7afff\"> </span><span style=\"color: #008000; text-decoration-color: #008000; background-color: #d7afff; font-weight: bold\">65</span><span style=\"background-color: #d7afff\"> </span><span style=\"color: #008000; text-decoration-color: #008000; background-color: #d7afff; font-weight: bold\">67</span><span style=\"background-color: #d7afff\"> </span><span style=\"color: #008000; text-decoration-color: #008000; background-color: #d7afff; font-weight: bold\">65</span><span style=\"background-color: #d7afff\"> </span><span style=\"color: #008000; text-decoration-color: #008000; background-color: #d7afff; font-weight: bold\">74</span><span style=\"background-color: #d7afff\"> </span><span style=\"color: #008000; text-decoration-color: #008000; background-color: #d7afff; font-weight: bold\">20</span><span style=\"background-color: #d7afff\"> </span><span style=\"color: #008000; text-decoration-color: #008000; background-color: #d7afff; font-weight: bold\">71</span><span style=\"background-color: #d7afff\"> </span><span style=\"color: #008000; text-decoration-color: #008000; background-color: #d7afff; font-weight: bold\">75</span><span style=\"background-color: #d7afff\"> </span><span style=\"color: #008000; text-decoration-color: #008000; background-color: #d7afff; font-weight: bold\">61</span>\n",
              "<span style=\"color: #008000; text-decoration-color: #008000; background-color: #d7afff; font-weight: bold\">6D</span><span style=\"background-color: #d7afff\"> </span><span style=\"color: #008000; text-decoration-color: #008000; background-color: #d7afff; font-weight: bold\">20</span><span style=\"background-color: #d7afff\"> </span><span style=\"color: #008000; text-decoration-color: #008000; background-color: #d7afff; font-weight: bold\">76</span><span style=\"background-color: #d7afff\"> </span><span style=\"color: #008000; text-decoration-color: #008000; background-color: #d7afff; font-weight: bold\">69</span><span style=\"background-color: #d7afff\"> </span><span style=\"color: #008000; text-decoration-color: #008000; background-color: #d7afff; font-weight: bold\">74</span><span style=\"background-color: #d7afff\"> </span><span style=\"color: #008000; text-decoration-color: #008000; background-color: #d7afff; font-weight: bold\">61</span><span style=\"background-color: #d7afff\"> </span><span style=\"color: #008000; text-decoration-color: #008000; background-color: #d7afff; font-weight: bold\">65</span><span style=\"background-color: #d7afff\"> </span><span style=\"color: #008000; text-decoration-color: #008000; background-color: #d7afff; font-weight: bold\">2C</span><span style=\"background-color: #d7afff\"> </span><span style=\"color: #008000; text-decoration-color: #008000; background-color: #d7afff; font-weight: bold\">20</span><span style=\"background-color: #d7afff\"> </span><span style=\"color: #008000; text-decoration-color: #008000; background-color: #d7afff; font-weight: bold\">61</span><span style=\"background-color: #d7afff\"> </span><span style=\"color: #008000; text-decoration-color: #008000; background-color: #d7afff; font-weight: bold\">6C</span><span style=\"background-color: #d7afff\"> </span><span style=\"color: #008000; text-decoration-color: #008000; background-color: #d7afff; font-weight: bold\">69</span><span style=\"background-color: #d7afff\"> </span><span style=\"color: #008000; text-decoration-color: #008000; background-color: #d7afff; font-weight: bold\">71</span><span style=\"background-color: #d7afff\"> </span><span style=\"color: #008000; text-decoration-color: #008000; background-color: #d7afff; font-weight: bold\">75</span><span style=\"background-color: #d7afff\"> </span><span style=\"color: #008000; text-decoration-color: #008000; background-color: #d7afff; font-weight: bold\">65</span><span style=\"background-color: #d7afff\"> </span><span style=\"color: #008000; text-decoration-color: #008000; background-color: #d7afff; font-weight: bold\">74</span>\n",
              "<span style=\"color: #008000; text-decoration-color: #008000; background-color: #d7afff; font-weight: bold\">20</span><span style=\"background-color: #d7afff\"> </span><span style=\"color: #008000; text-decoration-color: #008000; background-color: #d7afff; font-weight: bold\">75</span><span style=\"background-color: #d7afff\"> </span><span style=\"color: #008000; text-decoration-color: #008000; background-color: #d7afff; font-weight: bold\">6C</span><span style=\"background-color: #d7afff\"> </span><span style=\"color: #008000; text-decoration-color: #008000; background-color: #d7afff; font-weight: bold\">6C</span><span style=\"background-color: #d7afff\"> </span><span style=\"color: #008000; text-decoration-color: #008000; background-color: #d7afff; font-weight: bold\">61</span><span style=\"background-color: #d7afff\"> </span><span style=\"color: #008000; text-decoration-color: #008000; background-color: #d7afff; font-weight: bold\">6D</span><span style=\"background-color: #d7afff\"> </span><span style=\"color: #008000; text-decoration-color: #008000; background-color: #d7afff; font-weight: bold\">63</span><span style=\"background-color: #d7afff\"> </span><span style=\"color: #008000; text-decoration-color: #008000; background-color: #d7afff; font-weight: bold\">6F</span><span style=\"background-color: #d7afff\"> </span><span style=\"color: #008000; text-decoration-color: #008000; background-color: #d7afff; font-weight: bold\">72</span><span style=\"background-color: #d7afff\"> </span><span style=\"color: #008000; text-decoration-color: #008000; background-color: #d7afff; font-weight: bold\">70</span><span style=\"background-color: #d7afff\"> </span><span style=\"color: #008000; text-decoration-color: #008000; background-color: #d7afff; font-weight: bold\">65</span><span style=\"background-color: #d7afff\"> </span><span style=\"color: #008000; text-decoration-color: #008000; background-color: #d7afff; font-weight: bold\">72</span><span style=\"background-color: #d7afff\"> </span><span style=\"color: #008000; text-decoration-color: #008000; background-color: #d7afff; font-weight: bold\">20</span><span style=\"background-color: #d7afff\"> </span><span style=\"color: #008000; text-decoration-color: #008000; background-color: #d7afff; font-weight: bold\">74</span><span style=\"background-color: #d7afff\"> </span><span style=\"color: #008000; text-decoration-color: #008000; background-color: #d7afff; font-weight: bold\">75</span><span style=\"background-color: #d7afff\"> </span><span style=\"color: #008000; text-decoration-color: #008000; background-color: #d7afff; font-weight: bold\">72</span>\n",
              "<span style=\"color: #008000; text-decoration-color: #008000; background-color: #d7afff; font-weight: bold\">70</span><span style=\"background-color: #d7afff\"> </span><span style=\"color: #008000; text-decoration-color: #008000; background-color: #d7afff; font-weight: bold\">69</span><span style=\"background-color: #d7afff\"> </span><span style=\"color: #008000; text-decoration-color: #008000; background-color: #d7afff; font-weight: bold\">73</span><span style=\"background-color: #d7afff\"> </span><span style=\"color: #008000; text-decoration-color: #008000; background-color: #d7afff; font-weight: bold\">2E</span><span style=\"background-color: #d7afff\"> </span><span style=\"color: #008000; text-decoration-color: #008000; background-color: #d7afff; font-weight: bold\">20</span><span style=\"background-color: #d7afff\"> </span><span style=\"color: #008000; text-decoration-color: #008000; background-color: #d7afff; font-weight: bold\">4D</span><span style=\"background-color: #d7afff\"> </span><span style=\"color: #008000; text-decoration-color: #008000; background-color: #d7afff; font-weight: bold\">61</span><span style=\"background-color: #d7afff\"> </span><span style=\"color: #008000; text-decoration-color: #008000; background-color: #d7afff; font-weight: bold\">75</span><span style=\"background-color: #d7afff\"> </span><span style=\"color: #008000; text-decoration-color: #008000; background-color: #d7afff; font-weight: bold\">72</span><span style=\"background-color: #d7afff\"> </span><span style=\"color: #008000; text-decoration-color: #008000; background-color: #d7afff; font-weight: bold\">69</span><span style=\"background-color: #d7afff\"> </span><span style=\"color: #008000; text-decoration-color: #008000; background-color: #d7afff; font-weight: bold\">73</span><span style=\"background-color: #d7afff\"> </span><span style=\"color: #008000; text-decoration-color: #008000; background-color: #d7afff; font-weight: bold\">20</span><span style=\"background-color: #d7afff\"> </span><span style=\"color: #008000; text-decoration-color: #008000; background-color: #d7afff; font-weight: bold\">61</span><span style=\"background-color: #d7afff\"> </span><span style=\"color: #008000; text-decoration-color: #008000; background-color: #d7afff; font-weight: bold\">20</span><span style=\"background-color: #d7afff\"> </span><span style=\"color: #008000; text-decoration-color: #008000; background-color: #d7afff; font-weight: bold\">65</span><span style=\"background-color: #d7afff\"> </span><span style=\"color: #008000; text-decoration-color: #008000; background-color: #d7afff; font-weight: bold\">6C</span>\n",
              "<span style=\"color: #008000; text-decoration-color: #008000; background-color: #d7afff; font-weight: bold\">69</span><span style=\"background-color: #d7afff\"> </span><span style=\"color: #008000; text-decoration-color: #008000; background-color: #d7afff; font-weight: bold\">74</span><span style=\"background-color: #d7afff\"> </span><span style=\"color: #008000; text-decoration-color: #008000; background-color: #d7afff; font-weight: bold\">20</span><span style=\"background-color: #d7afff\"> </span><span style=\"color: #008000; text-decoration-color: #008000; background-color: #d7afff; font-weight: bold\">76</span><span style=\"background-color: #d7afff\"> </span><span style=\"color: #008000; text-decoration-color: #008000; background-color: #d7afff; font-weight: bold\">69</span><span style=\"background-color: #d7afff\"> </span><span style=\"color: #008000; text-decoration-color: #008000; background-color: #d7afff; font-weight: bold\">74</span><span style=\"background-color: #d7afff\"> </span><span style=\"color: #008000; text-decoration-color: #008000; background-color: #d7afff; font-weight: bold\">61</span><span style=\"background-color: #d7afff\"> </span><span style=\"color: #008000; text-decoration-color: #008000; background-color: #d7afff; font-weight: bold\">65</span><span style=\"background-color: #d7afff\"> </span><span style=\"color: #008000; text-decoration-color: #008000; background-color: #d7afff; font-weight: bold\">20</span><span style=\"background-color: #d7afff\"> </span><span style=\"color: #008000; text-decoration-color: #008000; background-color: #d7afff; font-weight: bold\">6E</span><span style=\"background-color: #d7afff\"> </span><span style=\"color: #008000; text-decoration-color: #008000; background-color: #d7afff; font-weight: bold\">75</span><span style=\"background-color: #d7afff\"> </span><span style=\"color: #008000; text-decoration-color: #008000; background-color: #d7afff; font-weight: bold\">6E</span><span style=\"background-color: #d7afff\"> </span><span style=\"color: #008000; text-decoration-color: #008000; background-color: #d7afff; font-weight: bold\">63</span><span style=\"background-color: #d7afff\"> </span><span style=\"color: #008000; text-decoration-color: #008000; background-color: #d7afff; font-weight: bold\">20</span><span style=\"background-color: #d7afff\"> </span><span style=\"color: #008000; text-decoration-color: #008000; background-color: #d7afff; font-weight: bold\">70</span><span style=\"background-color: #d7afff\"> </span><span style=\"color: #008000; text-decoration-color: #008000; background-color: #d7afff; font-weight: bold\">6F</span>\n",
              "<span style=\"color: #008000; text-decoration-color: #008000; background-color: #d7afff; font-weight: bold\">72</span><span style=\"background-color: #d7afff\"> </span><span style=\"color: #008000; text-decoration-color: #008000; background-color: #d7afff; font-weight: bold\">74</span><span style=\"background-color: #d7afff\"> </span><span style=\"color: #008000; text-decoration-color: #008000; background-color: #d7afff; font-weight: bold\">74</span><span style=\"background-color: #d7afff\"> </span><span style=\"color: #008000; text-decoration-color: #008000; background-color: #d7afff; font-weight: bold\">69</span><span style=\"background-color: #d7afff\"> </span><span style=\"color: #008000; text-decoration-color: #008000; background-color: #d7afff; font-weight: bold\">74</span><span style=\"background-color: #d7afff\"> </span><span style=\"color: #008000; text-decoration-color: #008000; background-color: #d7afff; font-weight: bold\">6F</span><span style=\"background-color: #d7afff\"> </span><span style=\"color: #008000; text-decoration-color: #008000; background-color: #d7afff; font-weight: bold\">72</span><span style=\"background-color: #d7afff\"> </span><span style=\"color: #008000; text-decoration-color: #008000; background-color: #d7afff; font-weight: bold\">20</span><span style=\"background-color: #d7afff\"> </span><span style=\"color: #008000; text-decoration-color: #008000; background-color: #d7afff; font-weight: bold\">63</span><span style=\"background-color: #d7afff\"> </span><span style=\"color: #008000; text-decoration-color: #008000; background-color: #d7afff; font-weight: bold\">6F</span><span style=\"background-color: #d7afff\"> </span><span style=\"color: #008000; text-decoration-color: #008000; background-color: #d7afff; font-weight: bold\">6D</span><span style=\"background-color: #d7afff\"> </span><span style=\"color: #008000; text-decoration-color: #008000; background-color: #d7afff; font-weight: bold\">6D</span><span style=\"background-color: #d7afff\"> </span><span style=\"color: #008000; text-decoration-color: #008000; background-color: #d7afff; font-weight: bold\">6F</span><span style=\"background-color: #d7afff\"> </span><span style=\"color: #008000; text-decoration-color: #008000; background-color: #d7afff; font-weight: bold\">64</span><span style=\"background-color: #d7afff\"> </span><span style=\"color: #008000; text-decoration-color: #008000; background-color: #d7afff; font-weight: bold\">6F</span><span style=\"background-color: #d7afff\"> </span><span style=\"color: #008000; text-decoration-color: #008000; background-color: #d7afff; font-weight: bold\">20</span>\n",
              "<span style=\"color: #008000; text-decoration-color: #008000; background-color: #d7afff; font-weight: bold\">76</span><span style=\"background-color: #d7afff\"> </span><span style=\"color: #008000; text-decoration-color: #008000; background-color: #d7afff; font-weight: bold\">69</span><span style=\"background-color: #d7afff\"> </span><span style=\"color: #008000; text-decoration-color: #008000; background-color: #d7afff; font-weight: bold\">74</span><span style=\"background-color: #d7afff\"> </span><span style=\"color: #008000; text-decoration-color: #008000; background-color: #d7afff; font-weight: bold\">61</span><span style=\"background-color: #d7afff\"> </span><span style=\"color: #008000; text-decoration-color: #008000; background-color: #d7afff; font-weight: bold\">65</span><span style=\"background-color: #d7afff\"> </span><span style=\"color: #008000; text-decoration-color: #008000; background-color: #d7afff; font-weight: bold\">20</span><span style=\"background-color: #d7afff\"> </span><span style=\"color: #008000; text-decoration-color: #008000; background-color: #d7afff; font-weight: bold\">75</span><span style=\"background-color: #d7afff\"> </span><span style=\"color: #008000; text-decoration-color: #008000; background-color: #d7afff; font-weight: bold\">74</span><span style=\"background-color: #d7afff\"> </span><span style=\"color: #008000; text-decoration-color: #008000; background-color: #d7afff; font-weight: bold\">20</span><span style=\"background-color: #d7afff\"> </span><span style=\"color: #008000; text-decoration-color: #008000; background-color: #d7afff; font-weight: bold\">73</span><span style=\"background-color: #d7afff\"> </span><span style=\"color: #008000; text-decoration-color: #008000; background-color: #d7afff; font-weight: bold\">65</span><span style=\"background-color: #d7afff\"> </span><span style=\"color: #008000; text-decoration-color: #008000; background-color: #d7afff; font-weight: bold\">6D</span><span style=\"background-color: #d7afff\"> </span><span style=\"color: #008000; text-decoration-color: #008000; background-color: #d7afff; font-weight: bold\">2E</span><span style=\"background-color: #d7afff\"> </span><span style=\"color: #008000; text-decoration-color: #008000; background-color: #d7afff; font-weight: bold\">20</span><span style=\"background-color: #d7afff\"> </span><span style=\"color: #008000; text-decoration-color: #008000; background-color: #d7afff; font-weight: bold\">50</span><span style=\"background-color: #d7afff\"> </span><span style=\"color: #008000; text-decoration-color: #008000; background-color: #d7afff; font-weight: bold\">72</span>\n",
              "<span style=\"color: #008000; text-decoration-color: #008000; background-color: #d7afff; font-weight: bold\">61</span><span style=\"background-color: #d7afff\"> </span><span style=\"color: #008000; text-decoration-color: #008000; background-color: #d7afff; font-weight: bold\">65</span><span style=\"background-color: #d7afff\"> </span><span style=\"color: #008000; text-decoration-color: #008000; background-color: #d7afff; font-weight: bold\">73</span><span style=\"background-color: #d7afff\"> </span><span style=\"color: #008000; text-decoration-color: #008000; background-color: #d7afff; font-weight: bold\">65</span><span style=\"background-color: #d7afff\"> </span><span style=\"color: #008000; text-decoration-color: #008000; background-color: #d7afff; font-weight: bold\">6E</span><span style=\"background-color: #d7afff\"> </span><span style=\"color: #008000; text-decoration-color: #008000; background-color: #d7afff; font-weight: bold\">74</span><span style=\"background-color: #d7afff\"> </span><span style=\"color: #008000; text-decoration-color: #008000; background-color: #d7afff; font-weight: bold\">20</span><span style=\"background-color: #d7afff\"> </span><span style=\"color: #008000; text-decoration-color: #008000; background-color: #d7afff; font-weight: bold\">74</span><span style=\"background-color: #d7afff\"> </span><span style=\"color: #008000; text-decoration-color: #008000; background-color: #d7afff; font-weight: bold\">72</span><span style=\"background-color: #d7afff\"> </span><span style=\"color: #008000; text-decoration-color: #008000; background-color: #d7afff; font-weight: bold\">69</span><span style=\"background-color: #d7afff\"> </span><span style=\"color: #008000; text-decoration-color: #008000; background-color: #d7afff; font-weight: bold\">73</span><span style=\"background-color: #d7afff\"> </span><span style=\"color: #008000; text-decoration-color: #008000; background-color: #d7afff; font-weight: bold\">74</span><span style=\"background-color: #d7afff\"> </span><span style=\"color: #008000; text-decoration-color: #008000; background-color: #d7afff; font-weight: bold\">69</span><span style=\"background-color: #d7afff\"> </span><span style=\"color: #008000; text-decoration-color: #008000; background-color: #d7afff; font-weight: bold\">71</span><span style=\"background-color: #d7afff\"> </span><span style=\"color: #008000; text-decoration-color: #008000; background-color: #d7afff; font-weight: bold\">75</span><span style=\"background-color: #d7afff\"> </span><span style=\"color: #5f87af; text-decoration-color: #5f87af; background-color: #d7afff; font-weight: bold\">36</span>\n",
              "<span style=\"color: #5f87af; text-decoration-color: #5f87af; background-color: #d7afff; font-weight: bold\">A2</span><span style=\"background-color: #d7afff\"> </span><span style=\"color: #5f87af; text-decoration-color: #5f87af; background-color: #d7afff; font-weight: bold\">BA</span><span style=\"background-color: #d7afff\"> </span><span style=\"color: #5f87af; text-decoration-color: #5f87af; background-color: #d7afff; font-weight: bold\">23</span><span style=\"background-color: #d7afff\"> </span><span style=\"color: #5f87af; text-decoration-color: #5f87af; background-color: #d7afff; font-weight: bold\">90</span><span style=\"background-color: #d7afff\"> </span><span style=\"color: #5f87af; text-decoration-color: #5f87af; background-color: #d7afff; font-weight: bold\">D8</span><span style=\"background-color: #d7afff\"> </span><span style=\"color: #5f87af; text-decoration-color: #5f87af; background-color: #d7afff; font-weight: bold\">10</span><span style=\"background-color: #d7afff\"> </span><span style=\"color: #5f87af; text-decoration-color: #5f87af; background-color: #d7afff; font-weight: bold\">6E</span><span style=\"background-color: #d7afff\"> </span><span style=\"color: #5f87af; text-decoration-color: #5f87af; background-color: #d7afff; font-weight: bold\">78</span><span style=\"background-color: #d7afff\"> </span><span style=\"color: #5f87af; text-decoration-color: #5f87af; background-color: #d7afff; font-weight: bold\">BC</span><span style=\"background-color: #d7afff\"> </span><span style=\"color: #5f87af; text-decoration-color: #5f87af; background-color: #d7afff; font-weight: bold\">2F</span><span style=\"background-color: #d7afff\"> </span><span style=\"color: #5f87af; text-decoration-color: #5f87af; background-color: #d7afff; font-weight: bold\">4C</span><span style=\"background-color: #d7afff\"> </span><span style=\"color: #5f87af; text-decoration-color: #5f87af; background-color: #d7afff; font-weight: bold\">2C</span><span style=\"background-color: #d7afff\"> </span><span style=\"color: #5f87af; text-decoration-color: #5f87af; background-color: #d7afff; font-weight: bold\">52</span><span style=\"background-color: #d7afff\"> </span><span style=\"color: #5f87af; text-decoration-color: #5f87af; background-color: #d7afff; font-weight: bold\">A2</span><span style=\"background-color: #d7afff\"> </span><span style=\"color: #5f87af; text-decoration-color: #5f87af; background-color: #d7afff; font-weight: bold\">74</span><span style=\"background-color: #d7afff\"> </span><span style=\"color: #5f87af; text-decoration-color: #5f87af; background-color: #d7afff; font-weight: bold\">7A</span>\n",
              "<span style=\"color: #5f87af; text-decoration-color: #5f87af; background-color: #d7afff; font-weight: bold\">98</span><span style=\"background-color: #d7afff\"> </span><span style=\"color: #5f87af; text-decoration-color: #5f87af; background-color: #d7afff; font-weight: bold\">65</span><span style=\"background-color: #d7afff\"> </span><span style=\"color: #5f87af; text-decoration-color: #5f87af; background-color: #d7afff; font-weight: bold\">97</span><span style=\"background-color: #d7afff\"> </span><span style=\"color: #5f87af; text-decoration-color: #5f87af; background-color: #d7afff; font-weight: bold\">2E</span><span style=\"background-color: #d7afff\"> </span><span style=\"color: #5f87af; text-decoration-color: #5f87af; background-color: #d7afff; font-weight: bold\">ED</span><span style=\"background-color: #d7afff\"> </span><span style=\"color: #5f87af; text-decoration-color: #5f87af; background-color: #d7afff; font-weight: bold\">B2</span><span style=\"background-color: #d7afff\"> </span><span style=\"color: #5f87af; text-decoration-color: #5f87af; background-color: #d7afff; font-weight: bold\">80</span><span style=\"background-color: #d7afff\"> </span><span style=\"color: #5f87af; text-decoration-color: #5f87af; background-color: #d7afff; font-weight: bold\">B0</span><span style=\"background-color: #d7afff\"> </span><span style=\"color: #5f87af; text-decoration-color: #5f87af; background-color: #d7afff; font-weight: bold\">C0</span><span style=\"background-color: #d7afff\"> </span><span style=\"color: #5f87af; text-decoration-color: #5f87af; background-color: #d7afff; font-weight: bold\">5A</span><span style=\"background-color: #d7afff\"> </span><span style=\"color: #5f87af; text-decoration-color: #5f87af; background-color: #d7afff; font-weight: bold\">8F</span><span style=\"background-color: #d7afff\"> </span><span style=\"color: #5f87af; text-decoration-color: #5f87af; background-color: #d7afff; font-weight: bold\">0E</span><span style=\"background-color: #d7afff\"> </span><span style=\"color: #5f87af; text-decoration-color: #5f87af; background-color: #d7afff; font-weight: bold\">F2</span><span style=\"background-color: #d7afff\"> </span><span style=\"color: #5f87af; text-decoration-color: #5f87af; background-color: #d7afff; font-weight: bold\">04</span><span style=\"background-color: #d7afff\"> </span><span style=\"color: #5f87af; text-decoration-color: #5f87af; background-color: #d7afff; font-weight: bold\">8B</span><span style=\"background-color: #d7afff\"> </span>\n",
              "\n",
              "</pre>\n"
            ]
          },
          "metadata": {}
        },
        {
          "output_type": "display_data",
          "data": {
            "text/plain": [
              "\u001b[1;90;48;5;183m00\u001b[0m\u001b[48;5;183m \u001b[0m\u001b[1;90;48;5;183m00\u001b[0m\u001b[48;5;183m \u001b[0m\u001b[1;90;48;5;183m00\u001b[0m\u001b[48;5;183m \u001b[0m\u001b[1;90;48;5;183m00\u001b[0m\u001b[48;5;183m \u001b[0m\u001b[1;90;48;5;183m00\u001b[0m\u001b[48;5;183m \u001b[0m\u001b[1;90;48;5;183m00\u001b[0m\u001b[48;5;183m \u001b[0m\u001b[1;90;48;5;183m00\u001b[0m\u001b[48;5;183m \u001b[0m\u001b[1;90;48;5;183m00\u001b[0m\u001b[48;5;183m \u001b[0m\u001b[1;90;48;5;183m00\u001b[0m\u001b[48;5;183m \u001b[0m\u001b[1;90;48;5;183m00\u001b[0m\u001b[48;5;183m \u001b[0m\u001b[1;90;48;5;183m00\u001b[0m\u001b[48;5;183m \u001b[0m\u001b[1;90;48;5;183m00\u001b[0m\u001b[48;5;183m \u001b[0m\u001b[1;90;48;5;183m00\u001b[0m\u001b[48;5;183m \u001b[0m\u001b[1;90;48;5;183m00\u001b[0m\u001b[48;5;183m \u001b[0m\u001b[1;90;48;5;183m00\u001b[0m\u001b[48;5;183m \u001b[0m\u001b[1;90;48;5;183m00\u001b[0m\n",
              "\u001b[1;90;48;5;183m00\u001b[0m\u001b[48;5;183m \u001b[0m\u001b[1;90;48;5;183m00\u001b[0m\u001b[48;5;183m \u001b[0m\u001b[1;90;48;5;183m00\u001b[0m\u001b[48;5;183m \u001b[0m\u001b[1;90;48;5;183m00\u001b[0m\u001b[48;5;183m \u001b[0m\u001b[1;90;48;5;183m00\u001b[0m\u001b[48;5;183m \u001b[0m\u001b[1;90;48;5;183m00\u001b[0m\u001b[48;5;183m \u001b[0m\u001b[1;90;48;5;183m00\u001b[0m\u001b[48;5;183m \u001b[0m\u001b[1;90;48;5;183m00\u001b[0m\u001b[48;5;183m \u001b[0m\u001b[1;90;48;5;183m00\u001b[0m\u001b[48;5;183m \u001b[0m\u001b[1;90;48;5;183m00\u001b[0m\u001b[48;5;183m \u001b[0m\u001b[1;90;48;5;183m00\u001b[0m\u001b[48;5;183m \u001b[0m\u001b[1;90;48;5;183m00\u001b[0m\u001b[48;5;183m \u001b[0m\u001b[1;90;48;5;183m00\u001b[0m\u001b[48;5;183m \u001b[0m\u001b[1;90;48;5;183m00\u001b[0m\u001b[48;5;183m \u001b[0m\u001b[1;90;48;5;183m00\u001b[0m\u001b[48;5;183m \u001b[0m\u001b[1;90;48;5;183m00\u001b[0m\n",
              "\u001b[1;90;48;5;183m00\u001b[0m\u001b[48;5;183m \u001b[0m\u001b[1;90;48;5;183m00\u001b[0m\u001b[48;5;183m \u001b[0m\u001b[1;90;48;5;183m00\u001b[0m\u001b[48;5;183m \u001b[0m\u001b[1;90;48;5;183m00\u001b[0m\u001b[48;5;183m \u001b[0m\u001b[1;90;48;5;183m00\u001b[0m\u001b[48;5;183m \u001b[0m\u001b[1;90;48;5;183m00\u001b[0m\u001b[48;5;183m \u001b[0m\u001b[1;90;48;5;183m00\u001b[0m\u001b[48;5;183m \u001b[0m\u001b[1;90;48;5;183m00\u001b[0m\u001b[48;5;183m \u001b[0m\u001b[1;90;48;5;183m00\u001b[0m\u001b[48;5;183m \u001b[0m\u001b[1;90;48;5;183m00\u001b[0m\u001b[48;5;183m \u001b[0m\u001b[1;90;48;5;183m00\u001b[0m\u001b[48;5;183m \u001b[0m\u001b[1;90;48;5;183m00\u001b[0m\u001b[48;5;183m \u001b[0m\u001b[1;90;48;5;183m00\u001b[0m\u001b[48;5;183m \u001b[0m\u001b[1;90;48;5;183m00\u001b[0m\u001b[48;5;183m \u001b[0m\u001b[1;90;48;5;183m00\u001b[0m\u001b[48;5;183m \u001b[0m\u001b[1;90;48;5;183m00\u001b[0m\n",
              "\u001b[1;90;48;5;183m00\u001b[0m\u001b[48;5;183m \u001b[0m\u001b[1;90;48;5;183m00\u001b[0m\u001b[48;5;183m \u001b[0m\u001b[1;32;48;5;183m65\u001b[0m\u001b[48;5;183m \u001b[0m\u001b[1;32;48;5;183m20\u001b[0m\u001b[48;5;183m \u001b[0m\u001b[1;32;48;5;183m65\u001b[0m\u001b[48;5;183m \u001b[0m\u001b[1;32;48;5;183m6E\u001b[0m\u001b[48;5;183m \u001b[0m\u001b[1;32;48;5;183m69\u001b[0m\u001b[48;5;183m \u001b[0m\u001b[1;32;48;5;183m6D\u001b[0m\u001b[48;5;183m \u001b[0m\u001b[1;32;48;5;183m20\u001b[0m\u001b[48;5;183m \u001b[0m\u001b[1;32;48;5;183m65\u001b[0m\u001b[48;5;183m \u001b[0m\u001b[1;32;48;5;183m74\u001b[0m\u001b[48;5;183m \u001b[0m\u001b[1;32;48;5;183m20\u001b[0m\u001b[48;5;183m \u001b[0m\u001b[1;32;48;5;183m73\u001b[0m\u001b[48;5;183m \u001b[0m\u001b[1;32;48;5;183m63\u001b[0m\u001b[48;5;183m \u001b[0m\u001b[1;32;48;5;183m65\u001b[0m\u001b[48;5;183m \u001b[0m\u001b[1;32;48;5;183m6C\u001b[0m\n",
              "\u001b[1;32;48;5;183m65\u001b[0m\u001b[48;5;183m \u001b[0m\u001b[1;32;48;5;183m72\u001b[0m\u001b[48;5;183m \u001b[0m\u001b[1;32;48;5;183m69\u001b[0m\u001b[48;5;183m \u001b[0m\u001b[1;32;48;5;183m73\u001b[0m\u001b[48;5;183m \u001b[0m\u001b[1;32;48;5;183m71\u001b[0m\u001b[48;5;183m \u001b[0m\u001b[1;32;48;5;183m75\u001b[0m\u001b[48;5;183m \u001b[0m\u001b[1;32;48;5;183m65\u001b[0m\u001b[48;5;183m \u001b[0m\u001b[1;32;48;5;183m20\u001b[0m\u001b[48;5;183m \u001b[0m\u001b[1;32;48;5;183m6C\u001b[0m\u001b[48;5;183m \u001b[0m\u001b[1;32;48;5;183m6F\u001b[0m\u001b[48;5;183m \u001b[0m\u001b[1;32;48;5;183m62\u001b[0m\u001b[48;5;183m \u001b[0m\u001b[1;32;48;5;183m6F\u001b[0m\u001b[48;5;183m \u001b[0m\u001b[1;32;48;5;183m72\u001b[0m\u001b[48;5;183m \u001b[0m\u001b[1;32;48;5;183m74\u001b[0m\u001b[48;5;183m \u001b[0m\u001b[1;32;48;5;183m69\u001b[0m\u001b[48;5;183m \u001b[0m\u001b[1;32;48;5;183m73\u001b[0m\n",
              "\u001b[1;32;48;5;183m2E\u001b[0m\u001b[48;5;183m \u001b[0m\u001b[1;32;48;5;183m20\u001b[0m\u001b[48;5;183m \u001b[0m\u001b[1;32;48;5;183m43\u001b[0m\u001b[48;5;183m \u001b[0m\u001b[1;32;48;5;183m75\u001b[0m\u001b[48;5;183m \u001b[0m\u001b[1;32;48;5;183m72\u001b[0m\u001b[48;5;183m \u001b[0m\u001b[1;32;48;5;183m61\u001b[0m\u001b[48;5;183m \u001b[0m\u001b[1;32;48;5;183m62\u001b[0m\u001b[48;5;183m \u001b[0m\u001b[1;32;48;5;183m69\u001b[0m\u001b[48;5;183m \u001b[0m\u001b[1;32;48;5;183m74\u001b[0m\u001b[48;5;183m \u001b[0m\u001b[1;32;48;5;183m75\u001b[0m\u001b[48;5;183m \u001b[0m\u001b[1;32;48;5;183m72\u001b[0m\u001b[48;5;183m \u001b[0m\u001b[1;32;48;5;183m20\u001b[0m\u001b[48;5;183m \u001b[0m\u001b[1;32;48;5;183m6C\u001b[0m\u001b[48;5;183m \u001b[0m\u001b[1;32;48;5;183m75\u001b[0m\u001b[48;5;183m \u001b[0m\u001b[1;32;48;5;183m63\u001b[0m\u001b[48;5;183m \u001b[0m\u001b[1;32;48;5;183m74\u001b[0m\n",
              "\u001b[1;32;48;5;183m75\u001b[0m\u001b[48;5;183m \u001b[0m\u001b[1;32;48;5;183m73\u001b[0m\u001b[48;5;183m \u001b[0m\u001b[1;32;48;5;183m20\u001b[0m\u001b[48;5;183m \u001b[0m\u001b[1;32;48;5;183m69\u001b[0m\u001b[48;5;183m \u001b[0m\u001b[1;32;48;5;183m6D\u001b[0m\u001b[48;5;183m \u001b[0m\u001b[1;32;48;5;183m70\u001b[0m\u001b[48;5;183m \u001b[0m\u001b[1;32;48;5;183m65\u001b[0m\u001b[48;5;183m \u001b[0m\u001b[1;32;48;5;183m72\u001b[0m\u001b[48;5;183m \u001b[0m\u001b[1;32;48;5;183m64\u001b[0m\u001b[48;5;183m \u001b[0m\u001b[1;32;48;5;183m69\u001b[0m\u001b[48;5;183m \u001b[0m\u001b[1;32;48;5;183m65\u001b[0m\u001b[48;5;183m \u001b[0m\u001b[1;32;48;5;183m74\u001b[0m\u001b[48;5;183m \u001b[0m\u001b[1;32;48;5;183m20\u001b[0m\u001b[48;5;183m \u001b[0m\u001b[1;32;48;5;183m6C\u001b[0m\u001b[48;5;183m \u001b[0m\u001b[1;32;48;5;183m69\u001b[0m\u001b[48;5;183m \u001b[0m\u001b[1;32;48;5;183m62\u001b[0m\n",
              "\u001b[1;32;48;5;183m65\u001b[0m\u001b[48;5;183m \u001b[0m\u001b[1;32;48;5;183m72\u001b[0m\u001b[48;5;183m \u001b[0m\u001b[1;32;48;5;183m6F\u001b[0m\u001b[48;5;183m \u001b[0m\u001b[1;32;48;5;183m2C\u001b[0m\u001b[48;5;183m \u001b[0m\u001b[1;32;48;5;183m20\u001b[0m\u001b[48;5;183m \u001b[0m\u001b[1;32;48;5;183m65\u001b[0m\u001b[48;5;183m \u001b[0m\u001b[1;32;48;5;183m74\u001b[0m\u001b[48;5;183m \u001b[0m\u001b[1;32;48;5;183m20\u001b[0m\u001b[48;5;183m \u001b[0m\u001b[1;32;48;5;183m6D\u001b[0m\u001b[48;5;183m \u001b[0m\u001b[1;32;48;5;183m61\u001b[0m\u001b[48;5;183m \u001b[0m\u001b[1;32;48;5;183m6C\u001b[0m\u001b[48;5;183m \u001b[0m\u001b[1;32;48;5;183m65\u001b[0m\u001b[48;5;183m \u001b[0m\u001b[1;32;48;5;183m73\u001b[0m\u001b[48;5;183m \u001b[0m\u001b[1;32;48;5;183m75\u001b[0m\u001b[48;5;183m \u001b[0m\u001b[1;32;48;5;183m61\u001b[0m\u001b[48;5;183m \u001b[0m\u001b[1;32;48;5;183m64\u001b[0m\n",
              "\u001b[1;32;48;5;183m61\u001b[0m\u001b[48;5;183m \u001b[0m\u001b[1;32;48;5;183m20\u001b[0m\u001b[48;5;183m \u001b[0m\u001b[1;32;48;5;183m73\u001b[0m\u001b[48;5;183m \u001b[0m\u001b[1;32;48;5;183m65\u001b[0m\u001b[48;5;183m \u001b[0m\u001b[1;32;48;5;183m6D\u001b[0m\u001b[48;5;183m \u001b[0m\u001b[1;32;48;5;183m20\u001b[0m\u001b[48;5;183m \u001b[0m\u001b[1;32;48;5;183m74\u001b[0m\u001b[48;5;183m \u001b[0m\u001b[1;32;48;5;183m69\u001b[0m\u001b[48;5;183m \u001b[0m\u001b[1;32;48;5;183m6E\u001b[0m\u001b[48;5;183m \u001b[0m\u001b[1;32;48;5;183m63\u001b[0m\u001b[48;5;183m \u001b[0m\u001b[1;32;48;5;183m69\u001b[0m\u001b[48;5;183m \u001b[0m\u001b[1;32;48;5;183m64\u001b[0m\u001b[48;5;183m \u001b[0m\u001b[1;32;48;5;183m75\u001b[0m\u001b[48;5;183m \u001b[0m\u001b[1;32;48;5;183m6E\u001b[0m\u001b[48;5;183m \u001b[0m\u001b[1;32;48;5;183m74\u001b[0m\u001b[48;5;183m \u001b[0m\u001b[1;32;48;5;183m20\u001b[0m\n",
              "\u001b[1;32;48;5;183m76\u001b[0m\u001b[48;5;183m \u001b[0m\u001b[1;32;48;5;183m65\u001b[0m\u001b[48;5;183m \u001b[0m\u001b[1;32;48;5;183m6C\u001b[0m\u001b[48;5;183m \u001b[0m\u001b[1;32;48;5;183m2E\u001b[0m\u001b[48;5;183m \u001b[0m\u001b[1;32;48;5;183m20\u001b[0m\u001b[48;5;183m \u001b[0m\u001b[1;32;48;5;183m53\u001b[0m\u001b[48;5;183m \u001b[0m\u001b[1;32;48;5;183m65\u001b[0m\u001b[48;5;183m \u001b[0m\u001b[1;32;48;5;183m64\u001b[0m\u001b[48;5;183m \u001b[0m\u001b[1;32;48;5;183m20\u001b[0m\u001b[48;5;183m \u001b[0m\u001b[1;32;48;5;183m61\u001b[0m\u001b[48;5;183m \u001b[0m\u001b[1;32;48;5;183m20\u001b[0m\u001b[48;5;183m \u001b[0m\u001b[1;32;48;5;183m64\u001b[0m\u001b[48;5;183m \u001b[0m\u001b[1;32;48;5;183m75\u001b[0m\u001b[48;5;183m \u001b[0m\u001b[1;32;48;5;183m69\u001b[0m\u001b[48;5;183m \u001b[0m\u001b[1;32;48;5;183m20\u001b[0m\u001b[48;5;183m \u001b[0m\u001b[1;32;48;5;183m6A\u001b[0m\n",
              "\u001b[1;32;48;5;183m75\u001b[0m\u001b[48;5;183m \u001b[0m\u001b[1;32;48;5;183m73\u001b[0m\u001b[48;5;183m \u001b[0m\u001b[1;32;48;5;183m74\u001b[0m\u001b[48;5;183m \u001b[0m\u001b[1;32;48;5;183m6F\u001b[0m\u001b[48;5;183m \u001b[0m\u001b[1;32;48;5;183m2E\u001b[0m\u001b[48;5;183m \u001b[0m\u001b[1;32;48;5;183m20\u001b[0m\u001b[48;5;183m \u001b[0m\u001b[1;32;48;5;183m20\u001b[0m\u001b[48;5;183m \u001b[0m\u001b[1;32;48;5;183m4D\u001b[0m\u001b[48;5;183m \u001b[0m\u001b[1;32;48;5;183m61\u001b[0m\u001b[48;5;183m \u001b[0m\u001b[1;32;48;5;183m65\u001b[0m\u001b[48;5;183m \u001b[0m\u001b[1;32;48;5;183m63\u001b[0m\u001b[48;5;183m \u001b[0m\u001b[1;32;48;5;183m65\u001b[0m\u001b[48;5;183m \u001b[0m\u001b[1;32;48;5;183m6E\u001b[0m\u001b[48;5;183m \u001b[0m\u001b[1;32;48;5;183m61\u001b[0m\u001b[48;5;183m \u001b[0m\u001b[1;32;48;5;183m73\u001b[0m\u001b[48;5;183m \u001b[0m\u001b[1;32;48;5;183m20\u001b[0m\n",
              "\u001b[1;32;48;5;183m74\u001b[0m\u001b[48;5;183m \u001b[0m\u001b[1;32;48;5;183m65\u001b[0m\u001b[48;5;183m \u001b[0m\u001b[1;32;48;5;183m6D\u001b[0m\u001b[48;5;183m \u001b[0m\u001b[1;32;48;5;183m70\u001b[0m\u001b[48;5;183m \u001b[0m\u001b[1;32;48;5;183m6F\u001b[0m\u001b[48;5;183m \u001b[0m\u001b[1;32;48;5;183m72\u001b[0m\u001b[48;5;183m \u001b[0m\u001b[1;32;48;5;183m20\u001b[0m\u001b[48;5;183m \u001b[0m\u001b[1;32;48;5;183m6E\u001b[0m\u001b[48;5;183m \u001b[0m\u001b[1;32;48;5;183m65\u001b[0m\u001b[48;5;183m \u001b[0m\u001b[1;32;48;5;183m71\u001b[0m\u001b[48;5;183m \u001b[0m\u001b[1;32;48;5;183m75\u001b[0m\u001b[48;5;183m \u001b[0m\u001b[1;32;48;5;183m65\u001b[0m\u001b[48;5;183m \u001b[0m\u001b[1;32;48;5;183m20\u001b[0m\u001b[48;5;183m \u001b[0m\u001b[1;32;48;5;183m6E\u001b[0m\u001b[48;5;183m \u001b[0m\u001b[1;32;48;5;183m69\u001b[0m\u001b[48;5;183m \u001b[0m\u001b[1;32;48;5;183m62\u001b[0m\n",
              "\u001b[1;32;48;5;183m68\u001b[0m\u001b[48;5;183m \u001b[0m\u001b[1;32;48;5;183m2C\u001b[0m\u001b[48;5;183m \u001b[0m\u001b[1;32;48;5;183m20\u001b[0m\u001b[48;5;183m \u001b[0m\u001b[1;32;48;5;183m75\u001b[0m\u001b[48;5;183m \u001b[0m\u001b[1;32;48;5;183m74\u001b[0m\u001b[48;5;183m \u001b[0m\u001b[1;32;48;5;183m20\u001b[0m\u001b[48;5;183m \u001b[0m\u001b[1;32;48;5;183m74\u001b[0m\u001b[48;5;183m \u001b[0m\u001b[1;32;48;5;183m65\u001b[0m\u001b[48;5;183m \u001b[0m\u001b[1;32;48;5;183m6D\u001b[0m\u001b[48;5;183m \u001b[0m\u001b[1;32;48;5;183m70\u001b[0m\u001b[48;5;183m \u001b[0m\u001b[1;32;48;5;183m75\u001b[0m\u001b[48;5;183m \u001b[0m\u001b[1;32;48;5;183m73\u001b[0m\u001b[48;5;183m \u001b[0m\u001b[1;32;48;5;183m20\u001b[0m\u001b[48;5;183m \u001b[0m\u001b[1;32;48;5;183m61\u001b[0m\u001b[48;5;183m \u001b[0m\u001b[1;32;48;5;183m75\u001b[0m\u001b[48;5;183m \u001b[0m\u001b[1;32;48;5;183m67\u001b[0m\n",
              "\u001b[1;32;48;5;183m75\u001b[0m\u001b[48;5;183m \u001b[0m\u001b[1;32;48;5;183m65\u001b[0m\u001b[48;5;183m \u001b[0m\u001b[1;32;48;5;183m20\u001b[0m\u001b[48;5;183m \u001b[0m\u001b[1;32;48;5;183m6D\u001b[0m\u001b[48;5;183m \u001b[0m\u001b[1;32;48;5;183m61\u001b[0m\u001b[48;5;183m \u001b[0m\u001b[1;32;48;5;183m6C\u001b[0m\u001b[48;5;183m \u001b[0m\u001b[1;32;48;5;183m65\u001b[0m\u001b[48;5;183m \u001b[0m\u001b[1;32;48;5;183m73\u001b[0m\u001b[48;5;183m \u001b[0m\u001b[1;32;48;5;183m75\u001b[0m\u001b[48;5;183m \u001b[0m\u001b[1;32;48;5;183m61\u001b[0m\u001b[48;5;183m \u001b[0m\u001b[1;32;48;5;183m64\u001b[0m\u001b[48;5;183m \u001b[0m\u001b[1;32;48;5;183m61\u001b[0m\u001b[48;5;183m \u001b[0m\u001b[1;32;48;5;183m20\u001b[0m\u001b[48;5;183m \u001b[0m\u001b[1;32;48;5;183m61\u001b[0m\u001b[48;5;183m \u001b[0m\u001b[1;32;48;5;183m2E\u001b[0m\u001b[48;5;183m \u001b[0m\u001b[1;38;5;67;48;5;183mD3\u001b[0m\n",
              "\u001b[1;38;5;67;48;5;183m73\u001b[0m\u001b[48;5;183m \u001b[0m\u001b[1;38;5;67;48;5;183m80\u001b[0m\u001b[48;5;183m \u001b[0m\u001b[1;38;5;67;48;5;183m2B\u001b[0m\u001b[48;5;183m \u001b[0m\u001b[1;38;5;67;48;5;183mD0\u001b[0m\u001b[48;5;183m \u001b[0m\u001b[1;38;5;67;48;5;183mBF\u001b[0m\u001b[48;5;183m \u001b[0m\u001b[1;38;5;67;48;5;183mCB\u001b[0m\u001b[48;5;183m \u001b[0m\u001b[1;38;5;67;48;5;183mF1\u001b[0m\u001b[48;5;183m \u001b[0m\u001b[1;38;5;67;48;5;183m1F\u001b[0m\u001b[48;5;183m \u001b[0m\u001b[1;38;5;67;48;5;183m7B\u001b[0m\u001b[48;5;183m \u001b[0m\u001b[1;38;5;67;48;5;183mA5\u001b[0m\u001b[48;5;183m \u001b[0m\u001b[1;38;5;67;48;5;183m06\u001b[0m\u001b[48;5;183m \u001b[0m\u001b[1;38;5;67;48;5;183mDB\u001b[0m\u001b[48;5;183m \u001b[0m\u001b[1;38;5;67;48;5;183mC6\u001b[0m\u001b[48;5;183m \u001b[0m\u001b[1;38;5;67;48;5;183m32\u001b[0m\u001b[48;5;183m \u001b[0m\u001b[1;38;5;67;48;5;183m24\u001b[0m\u001b[48;5;183m \u001b[0m\u001b[1;38;5;67;48;5;183mD8\u001b[0m\n",
              "\u001b[1;38;5;67;48;5;183m75\u001b[0m\u001b[48;5;183m \u001b[0m\u001b[1;38;5;67;48;5;183mA7\u001b[0m\u001b[48;5;183m \u001b[0m\u001b[1;38;5;67;48;5;183m67\u001b[0m\u001b[48;5;183m \u001b[0m\u001b[1;38;5;67;48;5;183mD8\u001b[0m\u001b[48;5;183m \u001b[0m\u001b[1;38;5;67;48;5;183m3F\u001b[0m\u001b[48;5;183m \u001b[0m\u001b[1;38;5;67;48;5;183mF2\u001b[0m\u001b[48;5;183m \u001b[0m\u001b[1;38;5;67;48;5;183m16\u001b[0m\u001b[48;5;183m \u001b[0m\u001b[1;38;5;67;48;5;183m16\u001b[0m\u001b[48;5;183m \u001b[0m\u001b[1;38;5;67;48;5;183m6B\u001b[0m\u001b[48;5;183m \u001b[0m\u001b[1;38;5;67;48;5;183m37\u001b[0m\u001b[48;5;183m \u001b[0m\u001b[1;38;5;67;48;5;183mA5\u001b[0m\u001b[48;5;183m \u001b[0m\u001b[1;38;5;67;48;5;183m1E\u001b[0m\u001b[48;5;183m \u001b[0m\u001b[1;38;5;67;48;5;183m27\u001b[0m\u001b[48;5;183m \u001b[0m\u001b[1;38;5;67;48;5;183m45\u001b[0m\u001b[48;5;183m \u001b[0m\u001b[1;38;5;67;48;5;183mD6\u001b[0m\u001b[48;5;183m \u001b[0m\n",
              "\n"
            ],
            "text/html": [
              "<pre style=\"white-space:pre;overflow-x:auto;line-height:normal;font-family:Menlo,'DejaVu Sans Mono',consolas,'Courier New',monospace\"><span style=\"color: #808080; text-decoration-color: #808080; background-color: #d7afff; font-weight: bold\">00</span><span style=\"background-color: #d7afff\"> </span><span style=\"color: #808080; text-decoration-color: #808080; background-color: #d7afff; font-weight: bold\">00</span><span style=\"background-color: #d7afff\"> </span><span style=\"color: #808080; text-decoration-color: #808080; background-color: #d7afff; font-weight: bold\">00</span><span style=\"background-color: #d7afff\"> </span><span style=\"color: #808080; text-decoration-color: #808080; background-color: #d7afff; font-weight: bold\">00</span><span style=\"background-color: #d7afff\"> </span><span style=\"color: #808080; text-decoration-color: #808080; background-color: #d7afff; font-weight: bold\">00</span><span style=\"background-color: #d7afff\"> </span><span style=\"color: #808080; text-decoration-color: #808080; background-color: #d7afff; font-weight: bold\">00</span><span style=\"background-color: #d7afff\"> </span><span style=\"color: #808080; text-decoration-color: #808080; background-color: #d7afff; font-weight: bold\">00</span><span style=\"background-color: #d7afff\"> </span><span style=\"color: #808080; text-decoration-color: #808080; background-color: #d7afff; font-weight: bold\">00</span><span style=\"background-color: #d7afff\"> </span><span style=\"color: #808080; text-decoration-color: #808080; background-color: #d7afff; font-weight: bold\">00</span><span style=\"background-color: #d7afff\"> </span><span style=\"color: #808080; text-decoration-color: #808080; background-color: #d7afff; font-weight: bold\">00</span><span style=\"background-color: #d7afff\"> </span><span style=\"color: #808080; text-decoration-color: #808080; background-color: #d7afff; font-weight: bold\">00</span><span style=\"background-color: #d7afff\"> </span><span style=\"color: #808080; text-decoration-color: #808080; background-color: #d7afff; font-weight: bold\">00</span><span style=\"background-color: #d7afff\"> </span><span style=\"color: #808080; text-decoration-color: #808080; background-color: #d7afff; font-weight: bold\">00</span><span style=\"background-color: #d7afff\"> </span><span style=\"color: #808080; text-decoration-color: #808080; background-color: #d7afff; font-weight: bold\">00</span><span style=\"background-color: #d7afff\"> </span><span style=\"color: #808080; text-decoration-color: #808080; background-color: #d7afff; font-weight: bold\">00</span><span style=\"background-color: #d7afff\"> </span><span style=\"color: #808080; text-decoration-color: #808080; background-color: #d7afff; font-weight: bold\">00</span>\n",
              "<span style=\"color: #808080; text-decoration-color: #808080; background-color: #d7afff; font-weight: bold\">00</span><span style=\"background-color: #d7afff\"> </span><span style=\"color: #808080; text-decoration-color: #808080; background-color: #d7afff; font-weight: bold\">00</span><span style=\"background-color: #d7afff\"> </span><span style=\"color: #808080; text-decoration-color: #808080; background-color: #d7afff; font-weight: bold\">00</span><span style=\"background-color: #d7afff\"> </span><span style=\"color: #808080; text-decoration-color: #808080; background-color: #d7afff; font-weight: bold\">00</span><span style=\"background-color: #d7afff\"> </span><span style=\"color: #808080; text-decoration-color: #808080; background-color: #d7afff; font-weight: bold\">00</span><span style=\"background-color: #d7afff\"> </span><span style=\"color: #808080; text-decoration-color: #808080; background-color: #d7afff; font-weight: bold\">00</span><span style=\"background-color: #d7afff\"> </span><span style=\"color: #808080; text-decoration-color: #808080; background-color: #d7afff; font-weight: bold\">00</span><span style=\"background-color: #d7afff\"> </span><span style=\"color: #808080; text-decoration-color: #808080; background-color: #d7afff; font-weight: bold\">00</span><span style=\"background-color: #d7afff\"> </span><span style=\"color: #808080; text-decoration-color: #808080; background-color: #d7afff; font-weight: bold\">00</span><span style=\"background-color: #d7afff\"> </span><span style=\"color: #808080; text-decoration-color: #808080; background-color: #d7afff; font-weight: bold\">00</span><span style=\"background-color: #d7afff\"> </span><span style=\"color: #808080; text-decoration-color: #808080; background-color: #d7afff; font-weight: bold\">00</span><span style=\"background-color: #d7afff\"> </span><span style=\"color: #808080; text-decoration-color: #808080; background-color: #d7afff; font-weight: bold\">00</span><span style=\"background-color: #d7afff\"> </span><span style=\"color: #808080; text-decoration-color: #808080; background-color: #d7afff; font-weight: bold\">00</span><span style=\"background-color: #d7afff\"> </span><span style=\"color: #808080; text-decoration-color: #808080; background-color: #d7afff; font-weight: bold\">00</span><span style=\"background-color: #d7afff\"> </span><span style=\"color: #808080; text-decoration-color: #808080; background-color: #d7afff; font-weight: bold\">00</span><span style=\"background-color: #d7afff\"> </span><span style=\"color: #808080; text-decoration-color: #808080; background-color: #d7afff; font-weight: bold\">00</span>\n",
              "<span style=\"color: #808080; text-decoration-color: #808080; background-color: #d7afff; font-weight: bold\">00</span><span style=\"background-color: #d7afff\"> </span><span style=\"color: #808080; text-decoration-color: #808080; background-color: #d7afff; font-weight: bold\">00</span><span style=\"background-color: #d7afff\"> </span><span style=\"color: #808080; text-decoration-color: #808080; background-color: #d7afff; font-weight: bold\">00</span><span style=\"background-color: #d7afff\"> </span><span style=\"color: #808080; text-decoration-color: #808080; background-color: #d7afff; font-weight: bold\">00</span><span style=\"background-color: #d7afff\"> </span><span style=\"color: #808080; text-decoration-color: #808080; background-color: #d7afff; font-weight: bold\">00</span><span style=\"background-color: #d7afff\"> </span><span style=\"color: #808080; text-decoration-color: #808080; background-color: #d7afff; font-weight: bold\">00</span><span style=\"background-color: #d7afff\"> </span><span style=\"color: #808080; text-decoration-color: #808080; background-color: #d7afff; font-weight: bold\">00</span><span style=\"background-color: #d7afff\"> </span><span style=\"color: #808080; text-decoration-color: #808080; background-color: #d7afff; font-weight: bold\">00</span><span style=\"background-color: #d7afff\"> </span><span style=\"color: #808080; text-decoration-color: #808080; background-color: #d7afff; font-weight: bold\">00</span><span style=\"background-color: #d7afff\"> </span><span style=\"color: #808080; text-decoration-color: #808080; background-color: #d7afff; font-weight: bold\">00</span><span style=\"background-color: #d7afff\"> </span><span style=\"color: #808080; text-decoration-color: #808080; background-color: #d7afff; font-weight: bold\">00</span><span style=\"background-color: #d7afff\"> </span><span style=\"color: #808080; text-decoration-color: #808080; background-color: #d7afff; font-weight: bold\">00</span><span style=\"background-color: #d7afff\"> </span><span style=\"color: #808080; text-decoration-color: #808080; background-color: #d7afff; font-weight: bold\">00</span><span style=\"background-color: #d7afff\"> </span><span style=\"color: #808080; text-decoration-color: #808080; background-color: #d7afff; font-weight: bold\">00</span><span style=\"background-color: #d7afff\"> </span><span style=\"color: #808080; text-decoration-color: #808080; background-color: #d7afff; font-weight: bold\">00</span><span style=\"background-color: #d7afff\"> </span><span style=\"color: #808080; text-decoration-color: #808080; background-color: #d7afff; font-weight: bold\">00</span>\n",
              "<span style=\"color: #808080; text-decoration-color: #808080; background-color: #d7afff; font-weight: bold\">00</span><span style=\"background-color: #d7afff\"> </span><span style=\"color: #808080; text-decoration-color: #808080; background-color: #d7afff; font-weight: bold\">00</span><span style=\"background-color: #d7afff\"> </span><span style=\"color: #008000; text-decoration-color: #008000; background-color: #d7afff; font-weight: bold\">65</span><span style=\"background-color: #d7afff\"> </span><span style=\"color: #008000; text-decoration-color: #008000; background-color: #d7afff; font-weight: bold\">20</span><span style=\"background-color: #d7afff\"> </span><span style=\"color: #008000; text-decoration-color: #008000; background-color: #d7afff; font-weight: bold\">65</span><span style=\"background-color: #d7afff\"> </span><span style=\"color: #008000; text-decoration-color: #008000; background-color: #d7afff; font-weight: bold\">6E</span><span style=\"background-color: #d7afff\"> </span><span style=\"color: #008000; text-decoration-color: #008000; background-color: #d7afff; font-weight: bold\">69</span><span style=\"background-color: #d7afff\"> </span><span style=\"color: #008000; text-decoration-color: #008000; background-color: #d7afff; font-weight: bold\">6D</span><span style=\"background-color: #d7afff\"> </span><span style=\"color: #008000; text-decoration-color: #008000; background-color: #d7afff; font-weight: bold\">20</span><span style=\"background-color: #d7afff\"> </span><span style=\"color: #008000; text-decoration-color: #008000; background-color: #d7afff; font-weight: bold\">65</span><span style=\"background-color: #d7afff\"> </span><span style=\"color: #008000; text-decoration-color: #008000; background-color: #d7afff; font-weight: bold\">74</span><span style=\"background-color: #d7afff\"> </span><span style=\"color: #008000; text-decoration-color: #008000; background-color: #d7afff; font-weight: bold\">20</span><span style=\"background-color: #d7afff\"> </span><span style=\"color: #008000; text-decoration-color: #008000; background-color: #d7afff; font-weight: bold\">73</span><span style=\"background-color: #d7afff\"> </span><span style=\"color: #008000; text-decoration-color: #008000; background-color: #d7afff; font-weight: bold\">63</span><span style=\"background-color: #d7afff\"> </span><span style=\"color: #008000; text-decoration-color: #008000; background-color: #d7afff; font-weight: bold\">65</span><span style=\"background-color: #d7afff\"> </span><span style=\"color: #008000; text-decoration-color: #008000; background-color: #d7afff; font-weight: bold\">6C</span>\n",
              "<span style=\"color: #008000; text-decoration-color: #008000; background-color: #d7afff; font-weight: bold\">65</span><span style=\"background-color: #d7afff\"> </span><span style=\"color: #008000; text-decoration-color: #008000; background-color: #d7afff; font-weight: bold\">72</span><span style=\"background-color: #d7afff\"> </span><span style=\"color: #008000; text-decoration-color: #008000; background-color: #d7afff; font-weight: bold\">69</span><span style=\"background-color: #d7afff\"> </span><span style=\"color: #008000; text-decoration-color: #008000; background-color: #d7afff; font-weight: bold\">73</span><span style=\"background-color: #d7afff\"> </span><span style=\"color: #008000; text-decoration-color: #008000; background-color: #d7afff; font-weight: bold\">71</span><span style=\"background-color: #d7afff\"> </span><span style=\"color: #008000; text-decoration-color: #008000; background-color: #d7afff; font-weight: bold\">75</span><span style=\"background-color: #d7afff\"> </span><span style=\"color: #008000; text-decoration-color: #008000; background-color: #d7afff; font-weight: bold\">65</span><span style=\"background-color: #d7afff\"> </span><span style=\"color: #008000; text-decoration-color: #008000; background-color: #d7afff; font-weight: bold\">20</span><span style=\"background-color: #d7afff\"> </span><span style=\"color: #008000; text-decoration-color: #008000; background-color: #d7afff; font-weight: bold\">6C</span><span style=\"background-color: #d7afff\"> </span><span style=\"color: #008000; text-decoration-color: #008000; background-color: #d7afff; font-weight: bold\">6F</span><span style=\"background-color: #d7afff\"> </span><span style=\"color: #008000; text-decoration-color: #008000; background-color: #d7afff; font-weight: bold\">62</span><span style=\"background-color: #d7afff\"> </span><span style=\"color: #008000; text-decoration-color: #008000; background-color: #d7afff; font-weight: bold\">6F</span><span style=\"background-color: #d7afff\"> </span><span style=\"color: #008000; text-decoration-color: #008000; background-color: #d7afff; font-weight: bold\">72</span><span style=\"background-color: #d7afff\"> </span><span style=\"color: #008000; text-decoration-color: #008000; background-color: #d7afff; font-weight: bold\">74</span><span style=\"background-color: #d7afff\"> </span><span style=\"color: #008000; text-decoration-color: #008000; background-color: #d7afff; font-weight: bold\">69</span><span style=\"background-color: #d7afff\"> </span><span style=\"color: #008000; text-decoration-color: #008000; background-color: #d7afff; font-weight: bold\">73</span>\n",
              "<span style=\"color: #008000; text-decoration-color: #008000; background-color: #d7afff; font-weight: bold\">2E</span><span style=\"background-color: #d7afff\"> </span><span style=\"color: #008000; text-decoration-color: #008000; background-color: #d7afff; font-weight: bold\">20</span><span style=\"background-color: #d7afff\"> </span><span style=\"color: #008000; text-decoration-color: #008000; background-color: #d7afff; font-weight: bold\">43</span><span style=\"background-color: #d7afff\"> </span><span style=\"color: #008000; text-decoration-color: #008000; background-color: #d7afff; font-weight: bold\">75</span><span style=\"background-color: #d7afff\"> </span><span style=\"color: #008000; text-decoration-color: #008000; background-color: #d7afff; font-weight: bold\">72</span><span style=\"background-color: #d7afff\"> </span><span style=\"color: #008000; text-decoration-color: #008000; background-color: #d7afff; font-weight: bold\">61</span><span style=\"background-color: #d7afff\"> </span><span style=\"color: #008000; text-decoration-color: #008000; background-color: #d7afff; font-weight: bold\">62</span><span style=\"background-color: #d7afff\"> </span><span style=\"color: #008000; text-decoration-color: #008000; background-color: #d7afff; font-weight: bold\">69</span><span style=\"background-color: #d7afff\"> </span><span style=\"color: #008000; text-decoration-color: #008000; background-color: #d7afff; font-weight: bold\">74</span><span style=\"background-color: #d7afff\"> </span><span style=\"color: #008000; text-decoration-color: #008000; background-color: #d7afff; font-weight: bold\">75</span><span style=\"background-color: #d7afff\"> </span><span style=\"color: #008000; text-decoration-color: #008000; background-color: #d7afff; font-weight: bold\">72</span><span style=\"background-color: #d7afff\"> </span><span style=\"color: #008000; text-decoration-color: #008000; background-color: #d7afff; font-weight: bold\">20</span><span style=\"background-color: #d7afff\"> </span><span style=\"color: #008000; text-decoration-color: #008000; background-color: #d7afff; font-weight: bold\">6C</span><span style=\"background-color: #d7afff\"> </span><span style=\"color: #008000; text-decoration-color: #008000; background-color: #d7afff; font-weight: bold\">75</span><span style=\"background-color: #d7afff\"> </span><span style=\"color: #008000; text-decoration-color: #008000; background-color: #d7afff; font-weight: bold\">63</span><span style=\"background-color: #d7afff\"> </span><span style=\"color: #008000; text-decoration-color: #008000; background-color: #d7afff; font-weight: bold\">74</span>\n",
              "<span style=\"color: #008000; text-decoration-color: #008000; background-color: #d7afff; font-weight: bold\">75</span><span style=\"background-color: #d7afff\"> </span><span style=\"color: #008000; text-decoration-color: #008000; background-color: #d7afff; font-weight: bold\">73</span><span style=\"background-color: #d7afff\"> </span><span style=\"color: #008000; text-decoration-color: #008000; background-color: #d7afff; font-weight: bold\">20</span><span style=\"background-color: #d7afff\"> </span><span style=\"color: #008000; text-decoration-color: #008000; background-color: #d7afff; font-weight: bold\">69</span><span style=\"background-color: #d7afff\"> </span><span style=\"color: #008000; text-decoration-color: #008000; background-color: #d7afff; font-weight: bold\">6D</span><span style=\"background-color: #d7afff\"> </span><span style=\"color: #008000; text-decoration-color: #008000; background-color: #d7afff; font-weight: bold\">70</span><span style=\"background-color: #d7afff\"> </span><span style=\"color: #008000; text-decoration-color: #008000; background-color: #d7afff; font-weight: bold\">65</span><span style=\"background-color: #d7afff\"> </span><span style=\"color: #008000; text-decoration-color: #008000; background-color: #d7afff; font-weight: bold\">72</span><span style=\"background-color: #d7afff\"> </span><span style=\"color: #008000; text-decoration-color: #008000; background-color: #d7afff; font-weight: bold\">64</span><span style=\"background-color: #d7afff\"> </span><span style=\"color: #008000; text-decoration-color: #008000; background-color: #d7afff; font-weight: bold\">69</span><span style=\"background-color: #d7afff\"> </span><span style=\"color: #008000; text-decoration-color: #008000; background-color: #d7afff; font-weight: bold\">65</span><span style=\"background-color: #d7afff\"> </span><span style=\"color: #008000; text-decoration-color: #008000; background-color: #d7afff; font-weight: bold\">74</span><span style=\"background-color: #d7afff\"> </span><span style=\"color: #008000; text-decoration-color: #008000; background-color: #d7afff; font-weight: bold\">20</span><span style=\"background-color: #d7afff\"> </span><span style=\"color: #008000; text-decoration-color: #008000; background-color: #d7afff; font-weight: bold\">6C</span><span style=\"background-color: #d7afff\"> </span><span style=\"color: #008000; text-decoration-color: #008000; background-color: #d7afff; font-weight: bold\">69</span><span style=\"background-color: #d7afff\"> </span><span style=\"color: #008000; text-decoration-color: #008000; background-color: #d7afff; font-weight: bold\">62</span>\n",
              "<span style=\"color: #008000; text-decoration-color: #008000; background-color: #d7afff; font-weight: bold\">65</span><span style=\"background-color: #d7afff\"> </span><span style=\"color: #008000; text-decoration-color: #008000; background-color: #d7afff; font-weight: bold\">72</span><span style=\"background-color: #d7afff\"> </span><span style=\"color: #008000; text-decoration-color: #008000; background-color: #d7afff; font-weight: bold\">6F</span><span style=\"background-color: #d7afff\"> </span><span style=\"color: #008000; text-decoration-color: #008000; background-color: #d7afff; font-weight: bold\">2C</span><span style=\"background-color: #d7afff\"> </span><span style=\"color: #008000; text-decoration-color: #008000; background-color: #d7afff; font-weight: bold\">20</span><span style=\"background-color: #d7afff\"> </span><span style=\"color: #008000; text-decoration-color: #008000; background-color: #d7afff; font-weight: bold\">65</span><span style=\"background-color: #d7afff\"> </span><span style=\"color: #008000; text-decoration-color: #008000; background-color: #d7afff; font-weight: bold\">74</span><span style=\"background-color: #d7afff\"> </span><span style=\"color: #008000; text-decoration-color: #008000; background-color: #d7afff; font-weight: bold\">20</span><span style=\"background-color: #d7afff\"> </span><span style=\"color: #008000; text-decoration-color: #008000; background-color: #d7afff; font-weight: bold\">6D</span><span style=\"background-color: #d7afff\"> </span><span style=\"color: #008000; text-decoration-color: #008000; background-color: #d7afff; font-weight: bold\">61</span><span style=\"background-color: #d7afff\"> </span><span style=\"color: #008000; text-decoration-color: #008000; background-color: #d7afff; font-weight: bold\">6C</span><span style=\"background-color: #d7afff\"> </span><span style=\"color: #008000; text-decoration-color: #008000; background-color: #d7afff; font-weight: bold\">65</span><span style=\"background-color: #d7afff\"> </span><span style=\"color: #008000; text-decoration-color: #008000; background-color: #d7afff; font-weight: bold\">73</span><span style=\"background-color: #d7afff\"> </span><span style=\"color: #008000; text-decoration-color: #008000; background-color: #d7afff; font-weight: bold\">75</span><span style=\"background-color: #d7afff\"> </span><span style=\"color: #008000; text-decoration-color: #008000; background-color: #d7afff; font-weight: bold\">61</span><span style=\"background-color: #d7afff\"> </span><span style=\"color: #008000; text-decoration-color: #008000; background-color: #d7afff; font-weight: bold\">64</span>\n",
              "<span style=\"color: #008000; text-decoration-color: #008000; background-color: #d7afff; font-weight: bold\">61</span><span style=\"background-color: #d7afff\"> </span><span style=\"color: #008000; text-decoration-color: #008000; background-color: #d7afff; font-weight: bold\">20</span><span style=\"background-color: #d7afff\"> </span><span style=\"color: #008000; text-decoration-color: #008000; background-color: #d7afff; font-weight: bold\">73</span><span style=\"background-color: #d7afff\"> </span><span style=\"color: #008000; text-decoration-color: #008000; background-color: #d7afff; font-weight: bold\">65</span><span style=\"background-color: #d7afff\"> </span><span style=\"color: #008000; text-decoration-color: #008000; background-color: #d7afff; font-weight: bold\">6D</span><span style=\"background-color: #d7afff\"> </span><span style=\"color: #008000; text-decoration-color: #008000; background-color: #d7afff; font-weight: bold\">20</span><span style=\"background-color: #d7afff\"> </span><span style=\"color: #008000; text-decoration-color: #008000; background-color: #d7afff; font-weight: bold\">74</span><span style=\"background-color: #d7afff\"> </span><span style=\"color: #008000; text-decoration-color: #008000; background-color: #d7afff; font-weight: bold\">69</span><span style=\"background-color: #d7afff\"> </span><span style=\"color: #008000; text-decoration-color: #008000; background-color: #d7afff; font-weight: bold\">6E</span><span style=\"background-color: #d7afff\"> </span><span style=\"color: #008000; text-decoration-color: #008000; background-color: #d7afff; font-weight: bold\">63</span><span style=\"background-color: #d7afff\"> </span><span style=\"color: #008000; text-decoration-color: #008000; background-color: #d7afff; font-weight: bold\">69</span><span style=\"background-color: #d7afff\"> </span><span style=\"color: #008000; text-decoration-color: #008000; background-color: #d7afff; font-weight: bold\">64</span><span style=\"background-color: #d7afff\"> </span><span style=\"color: #008000; text-decoration-color: #008000; background-color: #d7afff; font-weight: bold\">75</span><span style=\"background-color: #d7afff\"> </span><span style=\"color: #008000; text-decoration-color: #008000; background-color: #d7afff; font-weight: bold\">6E</span><span style=\"background-color: #d7afff\"> </span><span style=\"color: #008000; text-decoration-color: #008000; background-color: #d7afff; font-weight: bold\">74</span><span style=\"background-color: #d7afff\"> </span><span style=\"color: #008000; text-decoration-color: #008000; background-color: #d7afff; font-weight: bold\">20</span>\n",
              "<span style=\"color: #008000; text-decoration-color: #008000; background-color: #d7afff; font-weight: bold\">76</span><span style=\"background-color: #d7afff\"> </span><span style=\"color: #008000; text-decoration-color: #008000; background-color: #d7afff; font-weight: bold\">65</span><span style=\"background-color: #d7afff\"> </span><span style=\"color: #008000; text-decoration-color: #008000; background-color: #d7afff; font-weight: bold\">6C</span><span style=\"background-color: #d7afff\"> </span><span style=\"color: #008000; text-decoration-color: #008000; background-color: #d7afff; font-weight: bold\">2E</span><span style=\"background-color: #d7afff\"> </span><span style=\"color: #008000; text-decoration-color: #008000; background-color: #d7afff; font-weight: bold\">20</span><span style=\"background-color: #d7afff\"> </span><span style=\"color: #008000; text-decoration-color: #008000; background-color: #d7afff; font-weight: bold\">53</span><span style=\"background-color: #d7afff\"> </span><span style=\"color: #008000; text-decoration-color: #008000; background-color: #d7afff; font-weight: bold\">65</span><span style=\"background-color: #d7afff\"> </span><span style=\"color: #008000; text-decoration-color: #008000; background-color: #d7afff; font-weight: bold\">64</span><span style=\"background-color: #d7afff\"> </span><span style=\"color: #008000; text-decoration-color: #008000; background-color: #d7afff; font-weight: bold\">20</span><span style=\"background-color: #d7afff\"> </span><span style=\"color: #008000; text-decoration-color: #008000; background-color: #d7afff; font-weight: bold\">61</span><span style=\"background-color: #d7afff\"> </span><span style=\"color: #008000; text-decoration-color: #008000; background-color: #d7afff; font-weight: bold\">20</span><span style=\"background-color: #d7afff\"> </span><span style=\"color: #008000; text-decoration-color: #008000; background-color: #d7afff; font-weight: bold\">64</span><span style=\"background-color: #d7afff\"> </span><span style=\"color: #008000; text-decoration-color: #008000; background-color: #d7afff; font-weight: bold\">75</span><span style=\"background-color: #d7afff\"> </span><span style=\"color: #008000; text-decoration-color: #008000; background-color: #d7afff; font-weight: bold\">69</span><span style=\"background-color: #d7afff\"> </span><span style=\"color: #008000; text-decoration-color: #008000; background-color: #d7afff; font-weight: bold\">20</span><span style=\"background-color: #d7afff\"> </span><span style=\"color: #008000; text-decoration-color: #008000; background-color: #d7afff; font-weight: bold\">6A</span>\n",
              "<span style=\"color: #008000; text-decoration-color: #008000; background-color: #d7afff; font-weight: bold\">75</span><span style=\"background-color: #d7afff\"> </span><span style=\"color: #008000; text-decoration-color: #008000; background-color: #d7afff; font-weight: bold\">73</span><span style=\"background-color: #d7afff\"> </span><span style=\"color: #008000; text-decoration-color: #008000; background-color: #d7afff; font-weight: bold\">74</span><span style=\"background-color: #d7afff\"> </span><span style=\"color: #008000; text-decoration-color: #008000; background-color: #d7afff; font-weight: bold\">6F</span><span style=\"background-color: #d7afff\"> </span><span style=\"color: #008000; text-decoration-color: #008000; background-color: #d7afff; font-weight: bold\">2E</span><span style=\"background-color: #d7afff\"> </span><span style=\"color: #008000; text-decoration-color: #008000; background-color: #d7afff; font-weight: bold\">20</span><span style=\"background-color: #d7afff\"> </span><span style=\"color: #008000; text-decoration-color: #008000; background-color: #d7afff; font-weight: bold\">20</span><span style=\"background-color: #d7afff\"> </span><span style=\"color: #008000; text-decoration-color: #008000; background-color: #d7afff; font-weight: bold\">4D</span><span style=\"background-color: #d7afff\"> </span><span style=\"color: #008000; text-decoration-color: #008000; background-color: #d7afff; font-weight: bold\">61</span><span style=\"background-color: #d7afff\"> </span><span style=\"color: #008000; text-decoration-color: #008000; background-color: #d7afff; font-weight: bold\">65</span><span style=\"background-color: #d7afff\"> </span><span style=\"color: #008000; text-decoration-color: #008000; background-color: #d7afff; font-weight: bold\">63</span><span style=\"background-color: #d7afff\"> </span><span style=\"color: #008000; text-decoration-color: #008000; background-color: #d7afff; font-weight: bold\">65</span><span style=\"background-color: #d7afff\"> </span><span style=\"color: #008000; text-decoration-color: #008000; background-color: #d7afff; font-weight: bold\">6E</span><span style=\"background-color: #d7afff\"> </span><span style=\"color: #008000; text-decoration-color: #008000; background-color: #d7afff; font-weight: bold\">61</span><span style=\"background-color: #d7afff\"> </span><span style=\"color: #008000; text-decoration-color: #008000; background-color: #d7afff; font-weight: bold\">73</span><span style=\"background-color: #d7afff\"> </span><span style=\"color: #008000; text-decoration-color: #008000; background-color: #d7afff; font-weight: bold\">20</span>\n",
              "<span style=\"color: #008000; text-decoration-color: #008000; background-color: #d7afff; font-weight: bold\">74</span><span style=\"background-color: #d7afff\"> </span><span style=\"color: #008000; text-decoration-color: #008000; background-color: #d7afff; font-weight: bold\">65</span><span style=\"background-color: #d7afff\"> </span><span style=\"color: #008000; text-decoration-color: #008000; background-color: #d7afff; font-weight: bold\">6D</span><span style=\"background-color: #d7afff\"> </span><span style=\"color: #008000; text-decoration-color: #008000; background-color: #d7afff; font-weight: bold\">70</span><span style=\"background-color: #d7afff\"> </span><span style=\"color: #008000; text-decoration-color: #008000; background-color: #d7afff; font-weight: bold\">6F</span><span style=\"background-color: #d7afff\"> </span><span style=\"color: #008000; text-decoration-color: #008000; background-color: #d7afff; font-weight: bold\">72</span><span style=\"background-color: #d7afff\"> </span><span style=\"color: #008000; text-decoration-color: #008000; background-color: #d7afff; font-weight: bold\">20</span><span style=\"background-color: #d7afff\"> </span><span style=\"color: #008000; text-decoration-color: #008000; background-color: #d7afff; font-weight: bold\">6E</span><span style=\"background-color: #d7afff\"> </span><span style=\"color: #008000; text-decoration-color: #008000; background-color: #d7afff; font-weight: bold\">65</span><span style=\"background-color: #d7afff\"> </span><span style=\"color: #008000; text-decoration-color: #008000; background-color: #d7afff; font-weight: bold\">71</span><span style=\"background-color: #d7afff\"> </span><span style=\"color: #008000; text-decoration-color: #008000; background-color: #d7afff; font-weight: bold\">75</span><span style=\"background-color: #d7afff\"> </span><span style=\"color: #008000; text-decoration-color: #008000; background-color: #d7afff; font-weight: bold\">65</span><span style=\"background-color: #d7afff\"> </span><span style=\"color: #008000; text-decoration-color: #008000; background-color: #d7afff; font-weight: bold\">20</span><span style=\"background-color: #d7afff\"> </span><span style=\"color: #008000; text-decoration-color: #008000; background-color: #d7afff; font-weight: bold\">6E</span><span style=\"background-color: #d7afff\"> </span><span style=\"color: #008000; text-decoration-color: #008000; background-color: #d7afff; font-weight: bold\">69</span><span style=\"background-color: #d7afff\"> </span><span style=\"color: #008000; text-decoration-color: #008000; background-color: #d7afff; font-weight: bold\">62</span>\n",
              "<span style=\"color: #008000; text-decoration-color: #008000; background-color: #d7afff; font-weight: bold\">68</span><span style=\"background-color: #d7afff\"> </span><span style=\"color: #008000; text-decoration-color: #008000; background-color: #d7afff; font-weight: bold\">2C</span><span style=\"background-color: #d7afff\"> </span><span style=\"color: #008000; text-decoration-color: #008000; background-color: #d7afff; font-weight: bold\">20</span><span style=\"background-color: #d7afff\"> </span><span style=\"color: #008000; text-decoration-color: #008000; background-color: #d7afff; font-weight: bold\">75</span><span style=\"background-color: #d7afff\"> </span><span style=\"color: #008000; text-decoration-color: #008000; background-color: #d7afff; font-weight: bold\">74</span><span style=\"background-color: #d7afff\"> </span><span style=\"color: #008000; text-decoration-color: #008000; background-color: #d7afff; font-weight: bold\">20</span><span style=\"background-color: #d7afff\"> </span><span style=\"color: #008000; text-decoration-color: #008000; background-color: #d7afff; font-weight: bold\">74</span><span style=\"background-color: #d7afff\"> </span><span style=\"color: #008000; text-decoration-color: #008000; background-color: #d7afff; font-weight: bold\">65</span><span style=\"background-color: #d7afff\"> </span><span style=\"color: #008000; text-decoration-color: #008000; background-color: #d7afff; font-weight: bold\">6D</span><span style=\"background-color: #d7afff\"> </span><span style=\"color: #008000; text-decoration-color: #008000; background-color: #d7afff; font-weight: bold\">70</span><span style=\"background-color: #d7afff\"> </span><span style=\"color: #008000; text-decoration-color: #008000; background-color: #d7afff; font-weight: bold\">75</span><span style=\"background-color: #d7afff\"> </span><span style=\"color: #008000; text-decoration-color: #008000; background-color: #d7afff; font-weight: bold\">73</span><span style=\"background-color: #d7afff\"> </span><span style=\"color: #008000; text-decoration-color: #008000; background-color: #d7afff; font-weight: bold\">20</span><span style=\"background-color: #d7afff\"> </span><span style=\"color: #008000; text-decoration-color: #008000; background-color: #d7afff; font-weight: bold\">61</span><span style=\"background-color: #d7afff\"> </span><span style=\"color: #008000; text-decoration-color: #008000; background-color: #d7afff; font-weight: bold\">75</span><span style=\"background-color: #d7afff\"> </span><span style=\"color: #008000; text-decoration-color: #008000; background-color: #d7afff; font-weight: bold\">67</span>\n",
              "<span style=\"color: #008000; text-decoration-color: #008000; background-color: #d7afff; font-weight: bold\">75</span><span style=\"background-color: #d7afff\"> </span><span style=\"color: #008000; text-decoration-color: #008000; background-color: #d7afff; font-weight: bold\">65</span><span style=\"background-color: #d7afff\"> </span><span style=\"color: #008000; text-decoration-color: #008000; background-color: #d7afff; font-weight: bold\">20</span><span style=\"background-color: #d7afff\"> </span><span style=\"color: #008000; text-decoration-color: #008000; background-color: #d7afff; font-weight: bold\">6D</span><span style=\"background-color: #d7afff\"> </span><span style=\"color: #008000; text-decoration-color: #008000; background-color: #d7afff; font-weight: bold\">61</span><span style=\"background-color: #d7afff\"> </span><span style=\"color: #008000; text-decoration-color: #008000; background-color: #d7afff; font-weight: bold\">6C</span><span style=\"background-color: #d7afff\"> </span><span style=\"color: #008000; text-decoration-color: #008000; background-color: #d7afff; font-weight: bold\">65</span><span style=\"background-color: #d7afff\"> </span><span style=\"color: #008000; text-decoration-color: #008000; background-color: #d7afff; font-weight: bold\">73</span><span style=\"background-color: #d7afff\"> </span><span style=\"color: #008000; text-decoration-color: #008000; background-color: #d7afff; font-weight: bold\">75</span><span style=\"background-color: #d7afff\"> </span><span style=\"color: #008000; text-decoration-color: #008000; background-color: #d7afff; font-weight: bold\">61</span><span style=\"background-color: #d7afff\"> </span><span style=\"color: #008000; text-decoration-color: #008000; background-color: #d7afff; font-weight: bold\">64</span><span style=\"background-color: #d7afff\"> </span><span style=\"color: #008000; text-decoration-color: #008000; background-color: #d7afff; font-weight: bold\">61</span><span style=\"background-color: #d7afff\"> </span><span style=\"color: #008000; text-decoration-color: #008000; background-color: #d7afff; font-weight: bold\">20</span><span style=\"background-color: #d7afff\"> </span><span style=\"color: #008000; text-decoration-color: #008000; background-color: #d7afff; font-weight: bold\">61</span><span style=\"background-color: #d7afff\"> </span><span style=\"color: #008000; text-decoration-color: #008000; background-color: #d7afff; font-weight: bold\">2E</span><span style=\"background-color: #d7afff\"> </span><span style=\"color: #5f87af; text-decoration-color: #5f87af; background-color: #d7afff; font-weight: bold\">D3</span>\n",
              "<span style=\"color: #5f87af; text-decoration-color: #5f87af; background-color: #d7afff; font-weight: bold\">73</span><span style=\"background-color: #d7afff\"> </span><span style=\"color: #5f87af; text-decoration-color: #5f87af; background-color: #d7afff; font-weight: bold\">80</span><span style=\"background-color: #d7afff\"> </span><span style=\"color: #5f87af; text-decoration-color: #5f87af; background-color: #d7afff; font-weight: bold\">2B</span><span style=\"background-color: #d7afff\"> </span><span style=\"color: #5f87af; text-decoration-color: #5f87af; background-color: #d7afff; font-weight: bold\">D0</span><span style=\"background-color: #d7afff\"> </span><span style=\"color: #5f87af; text-decoration-color: #5f87af; background-color: #d7afff; font-weight: bold\">BF</span><span style=\"background-color: #d7afff\"> </span><span style=\"color: #5f87af; text-decoration-color: #5f87af; background-color: #d7afff; font-weight: bold\">CB</span><span style=\"background-color: #d7afff\"> </span><span style=\"color: #5f87af; text-decoration-color: #5f87af; background-color: #d7afff; font-weight: bold\">F1</span><span style=\"background-color: #d7afff\"> </span><span style=\"color: #5f87af; text-decoration-color: #5f87af; background-color: #d7afff; font-weight: bold\">1F</span><span style=\"background-color: #d7afff\"> </span><span style=\"color: #5f87af; text-decoration-color: #5f87af; background-color: #d7afff; font-weight: bold\">7B</span><span style=\"background-color: #d7afff\"> </span><span style=\"color: #5f87af; text-decoration-color: #5f87af; background-color: #d7afff; font-weight: bold\">A5</span><span style=\"background-color: #d7afff\"> </span><span style=\"color: #5f87af; text-decoration-color: #5f87af; background-color: #d7afff; font-weight: bold\">06</span><span style=\"background-color: #d7afff\"> </span><span style=\"color: #5f87af; text-decoration-color: #5f87af; background-color: #d7afff; font-weight: bold\">DB</span><span style=\"background-color: #d7afff\"> </span><span style=\"color: #5f87af; text-decoration-color: #5f87af; background-color: #d7afff; font-weight: bold\">C6</span><span style=\"background-color: #d7afff\"> </span><span style=\"color: #5f87af; text-decoration-color: #5f87af; background-color: #d7afff; font-weight: bold\">32</span><span style=\"background-color: #d7afff\"> </span><span style=\"color: #5f87af; text-decoration-color: #5f87af; background-color: #d7afff; font-weight: bold\">24</span><span style=\"background-color: #d7afff\"> </span><span style=\"color: #5f87af; text-decoration-color: #5f87af; background-color: #d7afff; font-weight: bold\">D8</span>\n",
              "<span style=\"color: #5f87af; text-decoration-color: #5f87af; background-color: #d7afff; font-weight: bold\">75</span><span style=\"background-color: #d7afff\"> </span><span style=\"color: #5f87af; text-decoration-color: #5f87af; background-color: #d7afff; font-weight: bold\">A7</span><span style=\"background-color: #d7afff\"> </span><span style=\"color: #5f87af; text-decoration-color: #5f87af; background-color: #d7afff; font-weight: bold\">67</span><span style=\"background-color: #d7afff\"> </span><span style=\"color: #5f87af; text-decoration-color: #5f87af; background-color: #d7afff; font-weight: bold\">D8</span><span style=\"background-color: #d7afff\"> </span><span style=\"color: #5f87af; text-decoration-color: #5f87af; background-color: #d7afff; font-weight: bold\">3F</span><span style=\"background-color: #d7afff\"> </span><span style=\"color: #5f87af; text-decoration-color: #5f87af; background-color: #d7afff; font-weight: bold\">F2</span><span style=\"background-color: #d7afff\"> </span><span style=\"color: #5f87af; text-decoration-color: #5f87af; background-color: #d7afff; font-weight: bold\">16</span><span style=\"background-color: #d7afff\"> </span><span style=\"color: #5f87af; text-decoration-color: #5f87af; background-color: #d7afff; font-weight: bold\">16</span><span style=\"background-color: #d7afff\"> </span><span style=\"color: #5f87af; text-decoration-color: #5f87af; background-color: #d7afff; font-weight: bold\">6B</span><span style=\"background-color: #d7afff\"> </span><span style=\"color: #5f87af; text-decoration-color: #5f87af; background-color: #d7afff; font-weight: bold\">37</span><span style=\"background-color: #d7afff\"> </span><span style=\"color: #5f87af; text-decoration-color: #5f87af; background-color: #d7afff; font-weight: bold\">A5</span><span style=\"background-color: #d7afff\"> </span><span style=\"color: #5f87af; text-decoration-color: #5f87af; background-color: #d7afff; font-weight: bold\">1E</span><span style=\"background-color: #d7afff\"> </span><span style=\"color: #5f87af; text-decoration-color: #5f87af; background-color: #d7afff; font-weight: bold\">27</span><span style=\"background-color: #d7afff\"> </span><span style=\"color: #5f87af; text-decoration-color: #5f87af; background-color: #d7afff; font-weight: bold\">45</span><span style=\"background-color: #d7afff\"> </span><span style=\"color: #5f87af; text-decoration-color: #5f87af; background-color: #d7afff; font-weight: bold\">D6</span><span style=\"background-color: #d7afff\"> </span>\n",
              "\n",
              "</pre>\n"
            ]
          },
          "metadata": {}
        },
        {
          "output_type": "display_data",
          "data": {
            "text/plain": [
              "Total byte length (block_count × n): \u001b[38;5;183m765\u001b[0m\n"
            ],
            "text/html": [
              "<pre style=\"white-space:pre;overflow-x:auto;line-height:normal;font-family:Menlo,'DejaVu Sans Mono',consolas,'Courier New',monospace\">Total byte length (block_count × n): <span style=\"color: #d7afff; text-decoration-color: #d7afff\">765</span>\n",
              "</pre>\n"
            ]
          },
          "metadata": {}
        },
        {
          "output_type": "display_data",
          "data": {
            "text/plain": [
              "Padding byte length (block_count × k - input_chars): \u001b[90m50\u001b[0m\n"
            ],
            "text/html": [
              "<pre style=\"white-space:pre;overflow-x:auto;line-height:normal;font-family:Menlo,'DejaVu Sans Mono',consolas,'Courier New',monospace\">Padding byte length (block_count × k - input_chars): <span style=\"color: #808080; text-decoration-color: #808080\">50</span>\n",
              "</pre>\n"
            ]
          },
          "metadata": {}
        },
        {
          "output_type": "display_data",
          "data": {
            "text/plain": [
              "Message byte length: \u001b[32m619\u001b[0m\n"
            ],
            "text/html": [
              "<pre style=\"white-space:pre;overflow-x:auto;line-height:normal;font-family:Menlo,'DejaVu Sans Mono',consolas,'Courier New',monospace\">Message byte length: <span style=\"color: #008000; text-decoration-color: #008000\">619</span>\n",
              "</pre>\n"
            ]
          },
          "metadata": {}
        },
        {
          "output_type": "display_data",
          "data": {
            "text/plain": [
              "Parity byte length (block_count × (n - k)): \u001b[38;5;67m96\u001b[0m\n"
            ],
            "text/html": [
              "<pre style=\"white-space:pre;overflow-x:auto;line-height:normal;font-family:Menlo,'DejaVu Sans Mono',consolas,'Courier New',monospace\">Parity byte length (block_count × (n - k)): <span style=\"color: #5f87af; text-decoration-color: #5f87af\">96</span>\n",
              "</pre>\n"
            ]
          },
          "metadata": {}
        },
        {
          "output_type": "display_data",
          "data": {
            "text/plain": [
              "\n",
              "===============================================\n"
            ],
            "text/html": [
              "<pre style=\"white-space:pre;overflow-x:auto;line-height:normal;font-family:Menlo,'DejaVu Sans Mono',consolas,'Courier New',monospace\">\n",
              "===============================================\n",
              "</pre>\n"
            ]
          },
          "metadata": {}
        },
        {
          "output_type": "display_data",
          "data": {
            "text/plain": [
              "Corrupted message (errors in red):\n"
            ],
            "text/html": [
              "<pre style=\"white-space:pre;overflow-x:auto;line-height:normal;font-family:Menlo,'DejaVu Sans Mono',consolas,'Courier New',monospace\">Corrupted message (errors in red):\n",
              "</pre>\n"
            ]
          },
          "metadata": {}
        },
        {
          "output_type": "display_data",
          "data": {
            "text/plain": [
              "20 20 4C 6F 72 65 6D 20 69 70 \u001b[1;31m78\u001b[0m 75 6D 20 64 6F\n",
              "6C 6F 72 20 73 69 74 20 61 6D 65 74 2C 20 63 6F\n",
              "6E 73 \u001b[1;31m6A\u001b[0m \u001b[1;31m67\u001b[0m 74 65 74 75 72 20 61 64 69 \u001b[1;31m71\u001b[0m 69 73\n",
              "63 69 6E \u001b[1;31m69\u001b[0m 20 65 6C 69 74 2E 20 50 68 61 73 65\n",
              "6C 6C 75 73 20 65 75 69 73 6D 6F 64 20 76 65 68\n",
              "69 \u001b[1;31m67\u001b[0m 75 6C 61 20 66 65 6C 69 73 2C 20 61 63 20\n",
              "70 \u001b[1;31m73\u001b[0m 72 74 61 20 6C 65 63 \u001b[1;31m78\u001b[0m 75 73 20 65 \u001b[1;31m6F\u001b[0m 65\n",
              "69 66 65 6E 64 20 61 2E \u001b[1;31m24\u001b[0m 50 72 \u001b[1;31m62\u001b[0m 65 73 65 \u001b[1;31m73\u001b[0m\n",
              "74 20 \u001b[1;31m72\u001b[0m 61 75 72 69 73 20 6F 72 63 69 2C 20 68\n",
              "65 6E 64 72 65 72 69 74 20 6E 6F 6E 20 6F 64 69\n",
              "6F 20 65 67 65 74 2C 20 69 6E 74 65 72 64 75 6D\n",
              "20 70 6C 61 63 65 72 61 74 20 65 6E 69 6D 2E 20\n",
              "4D 61 65 63 \u001b[1;31m66\u001b[0m 6E 61 73 20 61 6E 74 65 20 70 75\n",
              "72 75 73 2C 20 74 65 6D 70 6F \u001b[1;31m76\u001b[0m 20 65 74 20 EA\n",
              "C1 E5 EE A4 D9 BF 60 9E 43 BA 24 \u001b[1;31mEA\u001b[0m 62 D5 15 18\n",
              "\u001b[1;31mBA\u001b[0m 25 30 15 D9 5A D3 DC 79 F8 B6 62 3D 7F 39\n"
            ],
            "text/html": [
              "<pre style=\"white-space:pre;overflow-x:auto;line-height:normal;font-family:Menlo,'DejaVu Sans Mono',consolas,'Courier New',monospace\">20 20 4C 6F 72 65 6D 20 69 70 <span style=\"color: #800000; text-decoration-color: #800000; font-weight: bold\">78</span> 75 6D 20 64 6F\n",
              "6C 6F 72 20 73 69 74 20 61 6D 65 74 2C 20 63 6F\n",
              "6E 73 <span style=\"color: #800000; text-decoration-color: #800000; font-weight: bold\">6A</span> <span style=\"color: #800000; text-decoration-color: #800000; font-weight: bold\">67</span> 74 65 74 75 72 20 61 64 69 <span style=\"color: #800000; text-decoration-color: #800000; font-weight: bold\">71</span> 69 73\n",
              "63 69 6E <span style=\"color: #800000; text-decoration-color: #800000; font-weight: bold\">69</span> 20 65 6C 69 74 2E 20 50 68 61 73 65\n",
              "6C 6C 75 73 20 65 75 69 73 6D 6F 64 20 76 65 68\n",
              "69 <span style=\"color: #800000; text-decoration-color: #800000; font-weight: bold\">67</span> 75 6C 61 20 66 65 6C 69 73 2C 20 61 63 20\n",
              "70 <span style=\"color: #800000; text-decoration-color: #800000; font-weight: bold\">73</span> 72 74 61 20 6C 65 63 <span style=\"color: #800000; text-decoration-color: #800000; font-weight: bold\">78</span> 75 73 20 65 <span style=\"color: #800000; text-decoration-color: #800000; font-weight: bold\">6F</span> 65\n",
              "69 66 65 6E 64 20 61 2E <span style=\"color: #800000; text-decoration-color: #800000; font-weight: bold\">24</span> 50 72 <span style=\"color: #800000; text-decoration-color: #800000; font-weight: bold\">62</span> 65 73 65 <span style=\"color: #800000; text-decoration-color: #800000; font-weight: bold\">73</span>\n",
              "74 20 <span style=\"color: #800000; text-decoration-color: #800000; font-weight: bold\">72</span> 61 75 72 69 73 20 6F 72 63 69 2C 20 68\n",
              "65 6E 64 72 65 72 69 74 20 6E 6F 6E 20 6F 64 69\n",
              "6F 20 65 67 65 74 2C 20 69 6E 74 65 72 64 75 6D\n",
              "20 70 6C 61 63 65 72 61 74 20 65 6E 69 6D 2E 20\n",
              "4D 61 65 63 <span style=\"color: #800000; text-decoration-color: #800000; font-weight: bold\">66</span> 6E 61 73 20 61 6E 74 65 20 70 75\n",
              "72 75 73 2C 20 74 65 6D 70 6F <span style=\"color: #800000; text-decoration-color: #800000; font-weight: bold\">76</span> 20 65 74 20 EA\n",
              "C1 E5 EE A4 D9 BF 60 9E 43 BA 24 <span style=\"color: #800000; text-decoration-color: #800000; font-weight: bold\">EA</span> 62 D5 15 18\n",
              "<span style=\"color: #800000; text-decoration-color: #800000; font-weight: bold\">BA</span> 25 30 15 D9 5A D3 DC 79 F8 B6 62 3D 7F 39\n",
              "</pre>\n"
            ]
          },
          "metadata": {}
        },
        {
          "output_type": "display_data",
          "data": {
            "text/plain": [
              "76 75 6C 70 75 74 \u001b[1;31m65\u001b[0m 74 65 20 75 \u001b[1;31m79\u001b[0m 2C 20 64 69\n",
              "67 6E 69 73 73 69 6D 20 71 75 69 73 20 61 \u001b[1;31m70\u001b[0m 74\n",
              "65 2E \u001b[1;31m23\u001b[0m \u001b[1;31m49\u001b[0m 74 69 61 6D 20 73 6F 6C 6C 69 63 69\n",
              "74 75 64 69 6E 20 6D 61 74 74 69 73 20 6A 75 73\n",
              "74 6F 20 69 6E 20 62 69 62 65 6E 64 75 6D 2E 20\n",
              "4E 61 6D 20 61 72 63 75 \u001b[1;31m21\u001b[0m 65 72 61 74 2C 20 6C\n",
              "6F 62 \u001b[1;31m74\u001b[0m 72 74 69 73 20 65 67 65 74 20 71 75 \u001b[1;31m64\u001b[0m\n",
              "6D 20 76 69 74 61 65 2C 20 61 6C 69 \u001b[1;31m73\u001b[0m 75 65 74\n",
              "20 75 6C \u001b[1;31m6E\u001b[0m 61 6D 63 \u001b[1;31m72\u001b[0m 72 70 65 72 20 74 75 72\n",
              "70 69 73 2E 20 4D 61 75 \u001b[1;31m74\u001b[0m 69 \u001b[1;31m76\u001b[0m 20 61 20 65 6C\n",
              "69 74 20 76 69 74 61 65 \u001b[1;31m22\u001b[0m 6E 75 6E 63 20 70 6F\n",
              "72 74 74 69 74 6F 72 20 63 6F 6D 6D 6F 64 6F 20\n",
              "76 69 74 61 65 20 75 74 20 73 65 6D 2E 20 50 72\n",
              "61 65 73 65 6E 74 20 74 72 69 73 74 \u001b[1;31m6A\u001b[0m 71 75 36\n",
              "A2 BA 23 90 \u001b[1;31mDB\u001b[0m 10 6E 78 BC 2F 4C 2C 52 A2 74 7A\n",
              "98 65 97 2E ED \u001b[1;31mB4\u001b[0m 80 B0 C0 5A 8F 0E F2 04 8B\n"
            ],
            "text/html": [
              "<pre style=\"white-space:pre;overflow-x:auto;line-height:normal;font-family:Menlo,'DejaVu Sans Mono',consolas,'Courier New',monospace\">76 75 6C 70 75 74 <span style=\"color: #800000; text-decoration-color: #800000; font-weight: bold\">65</span> 74 65 20 75 <span style=\"color: #800000; text-decoration-color: #800000; font-weight: bold\">79</span> 2C 20 64 69\n",
              "67 6E 69 73 73 69 6D 20 71 75 69 73 20 61 <span style=\"color: #800000; text-decoration-color: #800000; font-weight: bold\">70</span> 74\n",
              "65 2E <span style=\"color: #800000; text-decoration-color: #800000; font-weight: bold\">23</span> <span style=\"color: #800000; text-decoration-color: #800000; font-weight: bold\">49</span> 74 69 61 6D 20 73 6F 6C 6C 69 63 69\n",
              "74 75 64 69 6E 20 6D 61 74 74 69 73 20 6A 75 73\n",
              "74 6F 20 69 6E 20 62 69 62 65 6E 64 75 6D 2E 20\n",
              "4E 61 6D 20 61 72 63 75 <span style=\"color: #800000; text-decoration-color: #800000; font-weight: bold\">21</span> 65 72 61 74 2C 20 6C\n",
              "6F 62 <span style=\"color: #800000; text-decoration-color: #800000; font-weight: bold\">74</span> 72 74 69 73 20 65 67 65 74 20 71 75 <span style=\"color: #800000; text-decoration-color: #800000; font-weight: bold\">64</span>\n",
              "6D 20 76 69 74 61 65 2C 20 61 6C 69 <span style=\"color: #800000; text-decoration-color: #800000; font-weight: bold\">73</span> 75 65 74\n",
              "20 75 6C <span style=\"color: #800000; text-decoration-color: #800000; font-weight: bold\">6E</span> 61 6D 63 <span style=\"color: #800000; text-decoration-color: #800000; font-weight: bold\">72</span> 72 70 65 72 20 74 75 72\n",
              "70 69 73 2E 20 4D 61 75 <span style=\"color: #800000; text-decoration-color: #800000; font-weight: bold\">74</span> 69 <span style=\"color: #800000; text-decoration-color: #800000; font-weight: bold\">76</span> 20 61 20 65 6C\n",
              "69 74 20 76 69 74 61 65 <span style=\"color: #800000; text-decoration-color: #800000; font-weight: bold\">22</span> 6E 75 6E 63 20 70 6F\n",
              "72 74 74 69 74 6F 72 20 63 6F 6D 6D 6F 64 6F 20\n",
              "76 69 74 61 65 20 75 74 20 73 65 6D 2E 20 50 72\n",
              "61 65 73 65 6E 74 20 74 72 69 73 74 <span style=\"color: #800000; text-decoration-color: #800000; font-weight: bold\">6A</span> 71 75 36\n",
              "A2 BA 23 90 <span style=\"color: #800000; text-decoration-color: #800000; font-weight: bold\">DB</span> 10 6E 78 BC 2F 4C 2C 52 A2 74 7A\n",
              "98 65 97 2E ED <span style=\"color: #800000; text-decoration-color: #800000; font-weight: bold\">B4</span> 80 B0 C0 5A 8F 0E F2 04 8B\n",
              "</pre>\n"
            ]
          },
          "metadata": {}
        },
        {
          "output_type": "display_data",
          "data": {
            "text/plain": [
              "\u001b[1;31m02\u001b[0m 00 00 00 00 00 00 00 00 00 \u001b[1;31m02\u001b[0m 00 00 00 00 00\n",
              "00 00 00 00 00 00 00 00 00 00 00 \u001b[1;31m04\u001b[0m 00 00 00 00\n",
              "00 \u001b[1;31m04\u001b[0m 00 00 00 00 00 00 00 00 00 00 00 00 00 00\n",
              "00 00 \u001b[1;31m69\u001b[0m 20 65 6E \u001b[1;31m6C\u001b[0m \u001b[1;31m72\u001b[0m 20 65 74 20 73 63 65 6C\n",
              "65 72 69 73 71 75 65 20 6C 6F 62 6F 72 74 69 73\n",
              "\u001b[1;31m33\u001b[0m 20 43 75 72 61 62 69 74 75 72 20 6C 75 63 74\n",
              "75 73 20 69 6D 70 65 72 64 69 65 74 20 6C 69 62\n",
              "65 72 6F 2C 20 65 74 20 6D 61 6C 65 73 75 61 64\n",
              "61 20 73 65 6D 20 74 69 6E 63 69 64 75 6E 74 20\n",
              "76 65 6C 2E 20 53 65 \u001b[1;31m68\u001b[0m 20 61 20 64 75 69 20 6A\n",
              "75 73 74 6F 2E 20 20 4D 61 65 63 65 6E 61 73 20\n",
              "74 65 \u001b[1;31m70\u001b[0m 70 6F 72 20 \u001b[1;31m6F\u001b[0m 65 71 75 65 20 6E \u001b[1;31m6E\u001b[0m 62\n",
              "68 2C 20 75 74 20 74 65 \u001b[1;31m70\u001b[0m \u001b[1;31m74\u001b[0m 75 73 20 61 75 67\n",
              "75 65 20 6D 61 6C 65 73 75 61 64 61 20 61 2E D3\n",
              "73 80 2B D0 BF CB F1 1F 7B A5 06 DB C6 32 24 D8\n",
              "75 A7 67 D8 3F F2 16 16 \u001b[1;31m6E\u001b[0m \u001b[1;31m38\u001b[0m A5 1E 27 \u001b[1;31m4A\u001b[0m D6\n"
            ],
            "text/html": [
              "<pre style=\"white-space:pre;overflow-x:auto;line-height:normal;font-family:Menlo,'DejaVu Sans Mono',consolas,'Courier New',monospace\"><span style=\"color: #800000; text-decoration-color: #800000; font-weight: bold\">02</span> 00 00 00 00 00 00 00 00 00 <span style=\"color: #800000; text-decoration-color: #800000; font-weight: bold\">02</span> 00 00 00 00 00\n",
              "00 00 00 00 00 00 00 00 00 00 00 <span style=\"color: #800000; text-decoration-color: #800000; font-weight: bold\">04</span> 00 00 00 00\n",
              "00 <span style=\"color: #800000; text-decoration-color: #800000; font-weight: bold\">04</span> 00 00 00 00 00 00 00 00 00 00 00 00 00 00\n",
              "00 00 <span style=\"color: #800000; text-decoration-color: #800000; font-weight: bold\">69</span> 20 65 6E <span style=\"color: #800000; text-decoration-color: #800000; font-weight: bold\">6C</span> <span style=\"color: #800000; text-decoration-color: #800000; font-weight: bold\">72</span> 20 65 74 20 73 63 65 6C\n",
              "65 72 69 73 71 75 65 20 6C 6F 62 6F 72 74 69 73\n",
              "<span style=\"color: #800000; text-decoration-color: #800000; font-weight: bold\">33</span> 20 43 75 72 61 62 69 74 75 72 20 6C 75 63 74\n",
              "75 73 20 69 6D 70 65 72 64 69 65 74 20 6C 69 62\n",
              "65 72 6F 2C 20 65 74 20 6D 61 6C 65 73 75 61 64\n",
              "61 20 73 65 6D 20 74 69 6E 63 69 64 75 6E 74 20\n",
              "76 65 6C 2E 20 53 65 <span style=\"color: #800000; text-decoration-color: #800000; font-weight: bold\">68</span> 20 61 20 64 75 69 20 6A\n",
              "75 73 74 6F 2E 20 20 4D 61 65 63 65 6E 61 73 20\n",
              "74 65 <span style=\"color: #800000; text-decoration-color: #800000; font-weight: bold\">70</span> 70 6F 72 20 <span style=\"color: #800000; text-decoration-color: #800000; font-weight: bold\">6F</span> 65 71 75 65 20 6E <span style=\"color: #800000; text-decoration-color: #800000; font-weight: bold\">6E</span> 62\n",
              "68 2C 20 75 74 20 74 65 <span style=\"color: #800000; text-decoration-color: #800000; font-weight: bold\">70</span> <span style=\"color: #800000; text-decoration-color: #800000; font-weight: bold\">74</span> 75 73 20 61 75 67\n",
              "75 65 20 6D 61 6C 65 73 75 61 64 61 20 61 2E D3\n",
              "73 80 2B D0 BF CB F1 1F 7B A5 06 DB C6 32 24 D8\n",
              "75 A7 67 D8 3F F2 16 16 <span style=\"color: #800000; text-decoration-color: #800000; font-weight: bold\">6E</span> <span style=\"color: #800000; text-decoration-color: #800000; font-weight: bold\">38</span> A5 1E 27 <span style=\"color: #800000; text-decoration-color: #800000; font-weight: bold\">4A</span> D6\n",
              "</pre>\n"
            ]
          },
          "metadata": {}
        },
        {
          "output_type": "display_data",
          "data": {
            "text/plain": [
              "\n",
              "=========================================\n",
              "\n"
            ],
            "text/html": [
              "<pre style=\"white-space:pre;overflow-x:auto;line-height:normal;font-family:Menlo,'DejaVu Sans Mono',consolas,'Courier New',monospace\">\n",
              "=========================================\n",
              "\n",
              "</pre>\n"
            ]
          },
          "metadata": {}
        },
        {
          "output_type": "display_data",
          "data": {
            "text/plain": [
              "Decoded message:\n",
              "        Binary representation:\n"
            ],
            "text/html": [
              "<pre style=\"white-space:pre;overflow-x:auto;line-height:normal;font-family:Menlo,'DejaVu Sans Mono',consolas,'Courier New',monospace\">Decoded message:\n",
              "        Binary representation:\n",
              "</pre>\n"
            ]
          },
          "metadata": {}
        },
        {
          "output_type": "display_data",
          "data": {
            "text/plain": [
              "20 20 4C 6F 72 65 6D 20 69 70 78 75 6D 20 64 6F\n",
              "6C 6F 72 20 73 69 74 20 61 6D 65 74 2C 20 63 6F\n",
              "6E 73 6A 67 74 65 74 75 72 20 61 64 69 71 69 73\n",
              "63 69 6E 69 20 65 6C 69 74 2E 20 50 68 61 73 65\n",
              "6C 6C 75 73 20 65 75 69 73 6D 6F 64 20 76 65 68\n",
              "69 67 75 6C 61 20 66 65 6C 69 73 2C 20 61 63 20\n",
              "70 73 72 74 61 20 6C 65 63 78 75 73 20 65 6F 65\n",
              "69 66 65 6E 64 20 61 2E 24 50 72 62 65 73 65 73\n",
              "74 20 72 61 75 72 69 73 20 6F 72 63 69 2C 20 68\n",
              "65 6E 64 72 65 72 69 74 20 6E 6F 6E 20 6F 64 69\n",
              "6F 20 65 67 65 74 2C 20 69 6E 74 65 72 64 75 6D\n",
              "20 70 6C 61 63 65 72 61 74 20 65 6E 69 6D 2E 20\n",
              "4D 61 65 63 66 6E 61 73 20 61 6E 74 65 20 70 75\n",
              "72 75 73 2C 20 74 65 6D 70 6F 76 20 65 74 20 76\n",
              "75 6C 70 75 74 65 74 65 20 75 79 2C 20 64 69 67\n",
              "6E 69 73 73 69 6D 20 71 75 69 73 20 61 70 74 65\n",
              "2E 23 49 74 69 61 6D 20 73 6F 6C 6C 69 63 69 74\n",
              "75 64 69 6E 20 6D 61 74 74 69 73 20 6A 75 73 74\n",
              "6F 20 69 6E 20 62 69 62 65 6E 64 75 6D 2E 20 4E\n",
              "33 6D 20 61 72 63 75 21 65 72 61 74 2C 20 6C 6F\n",
              "62 74 72 74 69 73 20 65 67 65 74 20 71 75 64 6D\n",
              "20 76 69 74 61 65 2C 20 61 6C 69 73 75 65 74 20\n",
              "75 6C 6E 61 6D 63 72 72 70 65 72 20 74 75 72 70\n",
              "69 73 2E 20 4D 61 75 74 69 76 20 61 20 65 6C 69\n",
              "74 20 76 69 74 61 F2 22 6E 75 6E 63 20 70 6F 72\n",
              "74 74 69 74 6F 72 20 63 6F 6D 6D 6F 64 6F 20 76\n",
              "69 74 61 65 20 75 74 20 73 65 6D 2E 20 50 72 61\n",
              "65 73 17 6E 74 20 74 72 69 73 74 6A 71 75 02 00\n",
              "00 00 00 00 00 00 00 00 02 00 00 00 00 00 00 00\n",
              "00 00 00 00 00 00 00 00 00 04 00 00 00 00 00 04\n",
              "00 00 00 00 00 00 00 00 00 00 00 00 00 00 00 00\n",
              "69 20 65 6E 6C 72 20 65 74 20 73 63 65 6C 65 72\n",
              "69 73 71 75 65 20 6C 6F 62 6F 72 74 69 73 33 20\n",
              "43 75 72 61 62 69 74 75 72 20 6C 75 63 74 75 73\n",
              "20 69 6D 70 65 72 64 69 65 74 20 6C 69 62 65 72\n",
              "6F 2C 20 65 74 20 6D 61 6C 65 73 75 61 64 61 20\n",
              "73 65 6D 20 74 69 6E 63 69 64 75 6E 74 20 76 65\n",
              "6C 2E 20 53 65 68 20 61 20 64 75 69 20 6A 75 73\n",
              "74 6F 2E 20 20 4D 61 65 63 65 6E\n"
            ],
            "text/html": [
              "<pre style=\"white-space:pre;overflow-x:auto;line-height:normal;font-family:Menlo,'DejaVu Sans Mono',consolas,'Courier New',monospace\">20 20 4C 6F 72 65 6D 20 69 70 78 75 6D 20 64 6F\n",
              "6C 6F 72 20 73 69 74 20 61 6D 65 74 2C 20 63 6F\n",
              "6E 73 6A 67 74 65 74 75 72 20 61 64 69 71 69 73\n",
              "63 69 6E 69 20 65 6C 69 74 2E 20 50 68 61 73 65\n",
              "6C 6C 75 73 20 65 75 69 73 6D 6F 64 20 76 65 68\n",
              "69 67 75 6C 61 20 66 65 6C 69 73 2C 20 61 63 20\n",
              "70 73 72 74 61 20 6C 65 63 78 75 73 20 65 6F 65\n",
              "69 66 65 6E 64 20 61 2E 24 50 72 62 65 73 65 73\n",
              "74 20 72 61 75 72 69 73 20 6F 72 63 69 2C 20 68\n",
              "65 6E 64 72 65 72 69 74 20 6E 6F 6E 20 6F 64 69\n",
              "6F 20 65 67 65 74 2C 20 69 6E 74 65 72 64 75 6D\n",
              "20 70 6C 61 63 65 72 61 74 20 65 6E 69 6D 2E 20\n",
              "4D 61 65 63 66 6E 61 73 20 61 6E 74 65 20 70 75\n",
              "72 75 73 2C 20 74 65 6D 70 6F 76 20 65 74 20 76\n",
              "75 6C 70 75 74 65 74 65 20 75 79 2C 20 64 69 67\n",
              "6E 69 73 73 69 6D 20 71 75 69 73 20 61 70 74 65\n",
              "2E 23 49 74 69 61 6D 20 73 6F 6C 6C 69 63 69 74\n",
              "75 64 69 6E 20 6D 61 74 74 69 73 20 6A 75 73 74\n",
              "6F 20 69 6E 20 62 69 62 65 6E 64 75 6D 2E 20 4E\n",
              "33 6D 20 61 72 63 75 21 65 72 61 74 2C 20 6C 6F\n",
              "62 74 72 74 69 73 20 65 67 65 74 20 71 75 64 6D\n",
              "20 76 69 74 61 65 2C 20 61 6C 69 73 75 65 74 20\n",
              "75 6C 6E 61 6D 63 72 72 70 65 72 20 74 75 72 70\n",
              "69 73 2E 20 4D 61 75 74 69 76 20 61 20 65 6C 69\n",
              "74 20 76 69 74 61 F2 22 6E 75 6E 63 20 70 6F 72\n",
              "74 74 69 74 6F 72 20 63 6F 6D 6D 6F 64 6F 20 76\n",
              "69 74 61 65 20 75 74 20 73 65 6D 2E 20 50 72 61\n",
              "65 73 17 6E 74 20 74 72 69 73 74 6A 71 75 02 00\n",
              "00 00 00 00 00 00 00 00 02 00 00 00 00 00 00 00\n",
              "00 00 00 00 00 00 00 00 00 04 00 00 00 00 00 04\n",
              "00 00 00 00 00 00 00 00 00 00 00 00 00 00 00 00\n",
              "69 20 65 6E 6C 72 20 65 74 20 73 63 65 6C 65 72\n",
              "69 73 71 75 65 20 6C 6F 62 6F 72 74 69 73 33 20\n",
              "43 75 72 61 62 69 74 75 72 20 6C 75 63 74 75 73\n",
              "20 69 6D 70 65 72 64 69 65 74 20 6C 69 62 65 72\n",
              "6F 2C 20 65 74 20 6D 61 6C 65 73 75 61 64 61 20\n",
              "73 65 6D 20 74 69 6E 63 69 64 75 6E 74 20 76 65\n",
              "6C 2E 20 53 65 68 20 61 20 64 75 69 20 6A 75 73\n",
              "74 6F 2E 20 20 4D 61 65 63 65 6E\n",
              "</pre>\n"
            ]
          },
          "metadata": {}
        },
        {
          "output_type": "display_data",
          "data": {
            "text/plain": [
              "\n",
              "=========================================\n",
              "\n"
            ],
            "text/html": [
              "<pre style=\"white-space:pre;overflow-x:auto;line-height:normal;font-family:Menlo,'DejaVu Sans Mono',consolas,'Courier New',monospace\">\n",
              "=========================================\n",
              "\n",
              "</pre>\n"
            ]
          },
          "metadata": {}
        },
        {
          "output_type": "display_data",
          "data": {
            "text/plain": [
              "Decoding validity check:\n"
            ],
            "text/html": [
              "<pre style=\"white-space:pre;overflow-x:auto;line-height:normal;font-family:Menlo,'DejaVu Sans Mono',consolas,'Courier New',monospace\">Decoding validity check:\n",
              "</pre>\n"
            ]
          },
          "metadata": {}
        },
        {
          "output_type": "display_data",
          "data": {
            "text/plain": [
              "\u001b[1;31m✗ [FAIL] Decoded message doesn't match input\u001b[0m\n"
            ],
            "text/html": [
              "<pre style=\"white-space:pre;overflow-x:auto;line-height:normal;font-family:Menlo,'DejaVu Sans Mono',consolas,'Courier New',monospace\"><span style=\"color: #800000; text-decoration-color: #800000; font-weight: bold\">✗ [FAIL] Decoded message doesn't match input</span>\n",
              "</pre>\n"
            ]
          },
          "metadata": {}
        },
        {
          "output_type": "display_data",
          "data": {
            "text/plain": [
              "        Input message:   Lorem ipsum dolor sit amet, consectetur adipiscing elit. Phasellus euismod vehicula felis,\n",
              "ac porta lectus eleifend a. Praesent mauris orci, hendrerit non odio eget, interdum placerat enim. Maecenas ante \n",
              "purus, tempor et vulputate ut, dignissim quis ante. Etiam sollicitudin mattis justo in bibendum. Nam arcu erat, \n",
              "lobortis eget quam vitae, aliquet ullamcorper turpis. Mauris a elit vitae nunc porttitor commodo vitae ut sem. \n",
              "Praesent tristique enim et scelerisque lobortis. Curabitur luctus imperdiet libero, et malesuada sem tincidunt vel.\n",
              "Sed a dui justo.  Maecenas tempor neque nibh, ut tempus augue malesuada a.\n",
              "        Decoded message:   Lorem ipxum dolor sit amet, consjgtetur adiqiscini elit. Phasellus euismod vehigula \n",
              "felis, ac psrta lecxus eoeifend a.$Prbesest rauris orci, hendrerit non odio eget, interdum placerat enim. Maecfnas \n",
              "ante purus, tempov et vulputete uy, dignissim quis apte.#Itiam sollicitudin mattis justo in bibendum. N3m \n",
              "arcu!erat, lobtrtis eget qudm vitae, alisuet ulnamcrrper turpis. Mautiv a elit vitaò\"nunc porttitor commodo vitae \n",
              "ut sem. Praes\u0017nt tristjqu\u0002\u0000\u0000\u0000\u0000\u0000\u0000\u0000\u0000\u0000\u0002\u0000\u0000\u0000\u0000\u0000\u0000\u0000\u0000\u0000\u0000\u0000\u0000\u0000\u0000\u0000\u0000\u0004\u0000\u0000\u0000\u0000\u0000\u0004\u0000\u0000\u0000\u0000\u0000\u0000\u0000\u0000\u0000\u0000\u0000\u0000\u0000\u0000\u0000\u0000i enlr et scelerisque lobortis3 Curabitur luctus imperdiet libero, et malesuada sem\n",
              "tincidunt vel. Seh a dui justo.  Maecen\n"
            ],
            "text/html": [
              "<pre style=\"white-space:pre;overflow-x:auto;line-height:normal;font-family:Menlo,'DejaVu Sans Mono',consolas,'Courier New',monospace\">        Input message:   Lorem ipsum dolor sit amet, consectetur adipiscing elit. Phasellus euismod vehicula felis,\n",
              "ac porta lectus eleifend a. Praesent mauris orci, hendrerit non odio eget, interdum placerat enim. Maecenas ante \n",
              "purus, tempor et vulputate ut, dignissim quis ante. Etiam sollicitudin mattis justo in bibendum. Nam arcu erat, \n",
              "lobortis eget quam vitae, aliquet ullamcorper turpis. Mauris a elit vitae nunc porttitor commodo vitae ut sem. \n",
              "Praesent tristique enim et scelerisque lobortis. Curabitur luctus imperdiet libero, et malesuada sem tincidunt vel.\n",
              "Sed a dui justo.  Maecenas tempor neque nibh, ut tempus augue malesuada a.\n",
              "        Decoded message:   Lorem ipxum dolor sit amet, consjgtetur adiqiscini elit. Phasellus euismod vehigula \n",
              "felis, ac psrta lecxus eoeifend a.$Prbesest rauris orci, hendrerit non odio eget, interdum placerat enim. Maecfnas \n",
              "ante purus, tempov et vulputete uy, dignissim quis apte.#Itiam sollicitudin mattis justo in bibendum. N3m \n",
              "arcu!erat, lobtrtis eget qudm vitae, alisuet ulnamcrrper turpis. Mautiv a elit vitaò\"nunc porttitor commodo vitae \n",
              "ut sem. Praes\u0017nt tristjqu\u0002\u0000\u0000\u0000\u0000\u0000\u0000\u0000\u0000\u0000\u0002\u0000\u0000\u0000\u0000\u0000\u0000\u0000\u0000\u0000\u0000\u0000\u0000\u0000\u0000\u0000\u0000\u0004\u0000\u0000\u0000\u0000\u0000\u0004\u0000\u0000\u0000\u0000\u0000\u0000\u0000\u0000\u0000\u0000\u0000\u0000\u0000\u0000\u0000\u0000i enlr et scelerisque lobortis3 Curabitur luctus imperdiet libero, et malesuada sem\n",
              "tincidunt vel. Seh a dui justo.  Maecen\n",
              "</pre>\n"
            ]
          },
          "metadata": {}
        }
      ]
    },
    {
      "cell_type": "code",
      "source": [
        "# @title Calculate average decoding times\n",
        "import string\n",
        "from rich.progress import track\n",
        "import time\n",
        "\n",
        "n = 255\n",
        "k_values = range(n-1, 1, -10)\n",
        "trials_per_k = 100\n",
        "errors_per_block = 10\n",
        "decoding_times = {}\n",
        "\n",
        "for k in k_values:\n",
        "  print(f\"k = {k}\")\n",
        "  input = \"\".join(random.choices(string.ascii_letters, k=k))\n",
        "  coder = RSCoder(n, k)\n",
        "  times = []\n",
        "  for _ in track(range(trials_per_k)):\n",
        "    start = time.time()\n",
        "    encoded = coder.encode(input)\n",
        "    corrupted = introduce_errors([encoded], errors_per_block)[0][0]\n",
        "    decoded = coder.decode(bytes(corrupted, encoding='latin1'))\n",
        "    end = time.time()\n",
        "    times.append(end - start)\n",
        "  average_time = sum(times)/len(times)\n",
        "  decoding_times[k] = average_time\n",
        "print(decoding_times)"
      ],
      "metadata": {
        "id": "n8LQ898u3Og1",
        "cellView": "form",
        "outputId": "14eb505b-a98a-4168-e0fd-40aa3e8e5eef",
        "colab": {
          "base_uri": "https://localhost:8080/",
          "height": 948,
          "referenced_widgets": [
            "aeb5dfe158664cfb8dbacc40b53bd03a",
            "77d070cbf6044d9daee7ec69ce2cbcd2",
            "88e3f9993ebe455d91930519d82c55ce",
            "d9ff0895c07f4720a2545bc121339d08",
            "1bb73a39d9f04547bfbc15d195440887",
            "3bc3467134b341b2b3ab1496ea78aba1",
            "653c080396f2445fadc06ebadb124a42",
            "009d8f271e624bb9b1c9c5bfc0f51066",
            "24d9fd1010dc49cd9173f07b29ff9357",
            "36f78150cb40459e9d582a38e5cc61e3",
            "de848a7eae2a4523802d4d49c6099f46",
            "a8f2aa0e6db44e4d9a5530f405af2593",
            "a9354704de114c0ebb11a4a2ce8521fb",
            "893593ba987a4e77800bb7406f297d35",
            "c11999f43d4441dda90e4c8a0f9f2b9d",
            "c155b7f6a5784fe68981233ecd7381eb",
            "0eea32b8536442e29c782489989c8856",
            "888f7c3fbd6144fa8e64bd69d1a903c0",
            "aadf190ddba641799df9c83e76046bc8",
            "38a7b3fbde5a4239830fb4c339cbf3f1",
            "5dd629eb6b4f42c8acadb0179d439fc3",
            "e756250dd4e84c799884dde67ece61a8",
            "39ac6482547e40c39ceb7877638c45a3",
            "27e8bb56e25049a7a17795b965b1e296",
            "c3d622ef863046ab8bdec4ae2adf74ed",
            "b193c37e9d1949189a48bb90a449cac4",
            "63e0767a223f42eda445deb1bd3d0241",
            "3f901ddcbb2843c39cafb29c513a9ef7",
            "761b8fa9b7d349adb15ab9029feb0a2e",
            "71ff35a10bb646918b06b517ad95d7b8",
            "16fdb424c9774233be52ef101955b373",
            "d2f2e939ab864f4294c4207a50d105fe",
            "f7b7911755f34486b8c4ab2a70a02930",
            "29236ddbc6554b1499682ff66f41ddb4",
            "4bcb88a41e3444ec8af097a09890551a",
            "4edca084b20244948ed27a6c1446491e",
            "16cd4ec257564d61b28d16700ca626c7",
            "bae00b9ba6bb44df88193b18a9c1f4d4",
            "d79186584c5849e3aaa660a7a564911a",
            "4f47e9fae8904b439e4a5b4162a3958e",
            "014ac1e0a86c49df8c6dccfa1ac72b9e",
            "7dbe3928b28e4b5cb615273f32561441",
            "319eacd3d2ab4feba939564a02e76587",
            "c64e8b984a8f483d9ae18a6c00106622",
            "5eacec7590a24f86a4fcd9a525b5e173",
            "35cebe3fb7794d6aa93fcf488b9a3999",
            "1ba13b7ce7214cdfa623584ddef16e9b",
            "7d9740abf0df4f52b4e599cdc1821928",
            "998f302b12144dd3a861741775083901",
            "c7b5b19bc2bd43d287cf450ee9b07354",
            "aefa3fec4a494daa96a4b72bf7c2ddb0",
            "15919e6deed64061afa0a894d115e094"
          ]
        }
      },
      "id": "n8LQ898u3Og1",
      "execution_count": 26,
      "outputs": [
        {
          "output_type": "display_data",
          "data": {
            "text/plain": [
              "Output()"
            ],
            "application/vnd.jupyter.widget-view+json": {
              "version_major": 2,
              "version_minor": 0,
              "model_id": "aeb5dfe158664cfb8dbacc40b53bd03a"
            }
          },
          "metadata": {}
        },
        {
          "output_type": "stream",
          "name": "stdout",
          "text": [
            "k = 254\n"
          ]
        },
        {
          "output_type": "display_data",
          "data": {
            "text/plain": [],
            "text/html": [
              "<pre style=\"white-space:pre;overflow-x:auto;line-height:normal;font-family:Menlo,'DejaVu Sans Mono',consolas,'Courier New',monospace\"></pre>\n"
            ]
          },
          "metadata": {}
        },
        {
          "output_type": "display_data",
          "data": {
            "text/plain": [
              "Output()"
            ],
            "application/vnd.jupyter.widget-view+json": {
              "version_major": 2,
              "version_minor": 0,
              "model_id": "88e3f9993ebe455d91930519d82c55ce"
            }
          },
          "metadata": {}
        },
        {
          "output_type": "stream",
          "name": "stdout",
          "text": [
            "k = 244\n"
          ]
        },
        {
          "output_type": "display_data",
          "data": {
            "text/plain": [],
            "text/html": [
              "<pre style=\"white-space:pre;overflow-x:auto;line-height:normal;font-family:Menlo,'DejaVu Sans Mono',consolas,'Courier New',monospace\"></pre>\n"
            ]
          },
          "metadata": {}
        },
        {
          "output_type": "display_data",
          "data": {
            "text/plain": [
              "Output()"
            ],
            "application/vnd.jupyter.widget-view+json": {
              "version_major": 2,
              "version_minor": 0,
              "model_id": "1bb73a39d9f04547bfbc15d195440887"
            }
          },
          "metadata": {}
        },
        {
          "output_type": "stream",
          "name": "stdout",
          "text": [
            "k = 234\n"
          ]
        },
        {
          "output_type": "display_data",
          "data": {
            "text/plain": [],
            "text/html": [
              "<pre style=\"white-space:pre;overflow-x:auto;line-height:normal;font-family:Menlo,'DejaVu Sans Mono',consolas,'Courier New',monospace\"></pre>\n"
            ]
          },
          "metadata": {}
        },
        {
          "output_type": "display_data",
          "data": {
            "text/plain": [
              "Output()"
            ],
            "application/vnd.jupyter.widget-view+json": {
              "version_major": 2,
              "version_minor": 0,
              "model_id": "653c080396f2445fadc06ebadb124a42"
            }
          },
          "metadata": {}
        },
        {
          "output_type": "stream",
          "name": "stdout",
          "text": [
            "k = 224\n"
          ]
        },
        {
          "output_type": "display_data",
          "data": {
            "text/plain": [],
            "text/html": [
              "<pre style=\"white-space:pre;overflow-x:auto;line-height:normal;font-family:Menlo,'DejaVu Sans Mono',consolas,'Courier New',monospace\"></pre>\n"
            ]
          },
          "metadata": {}
        },
        {
          "output_type": "display_data",
          "data": {
            "text/plain": [
              "Output()"
            ],
            "application/vnd.jupyter.widget-view+json": {
              "version_major": 2,
              "version_minor": 0,
              "model_id": "24d9fd1010dc49cd9173f07b29ff9357"
            }
          },
          "metadata": {}
        },
        {
          "output_type": "stream",
          "name": "stdout",
          "text": [
            "k = 214\n"
          ]
        },
        {
          "output_type": "display_data",
          "data": {
            "text/plain": [],
            "text/html": [
              "<pre style=\"white-space:pre;overflow-x:auto;line-height:normal;font-family:Menlo,'DejaVu Sans Mono',consolas,'Courier New',monospace\"></pre>\n"
            ]
          },
          "metadata": {}
        },
        {
          "output_type": "display_data",
          "data": {
            "text/plain": [
              "Output()"
            ],
            "application/vnd.jupyter.widget-view+json": {
              "version_major": 2,
              "version_minor": 0,
              "model_id": "de848a7eae2a4523802d4d49c6099f46"
            }
          },
          "metadata": {}
        },
        {
          "output_type": "stream",
          "name": "stdout",
          "text": [
            "k = 204\n"
          ]
        },
        {
          "output_type": "display_data",
          "data": {
            "text/plain": [],
            "text/html": [
              "<pre style=\"white-space:pre;overflow-x:auto;line-height:normal;font-family:Menlo,'DejaVu Sans Mono',consolas,'Courier New',monospace\"></pre>\n"
            ]
          },
          "metadata": {}
        },
        {
          "output_type": "display_data",
          "data": {
            "text/plain": [
              "Output()"
            ],
            "application/vnd.jupyter.widget-view+json": {
              "version_major": 2,
              "version_minor": 0,
              "model_id": "a9354704de114c0ebb11a4a2ce8521fb"
            }
          },
          "metadata": {}
        },
        {
          "output_type": "stream",
          "name": "stdout",
          "text": [
            "k = 194\n"
          ]
        },
        {
          "output_type": "display_data",
          "data": {
            "text/plain": [],
            "text/html": [
              "<pre style=\"white-space:pre;overflow-x:auto;line-height:normal;font-family:Menlo,'DejaVu Sans Mono',consolas,'Courier New',monospace\"></pre>\n"
            ]
          },
          "metadata": {}
        },
        {
          "output_type": "display_data",
          "data": {
            "text/plain": [
              "Output()"
            ],
            "application/vnd.jupyter.widget-view+json": {
              "version_major": 2,
              "version_minor": 0,
              "model_id": "c11999f43d4441dda90e4c8a0f9f2b9d"
            }
          },
          "metadata": {}
        },
        {
          "output_type": "stream",
          "name": "stdout",
          "text": [
            "k = 184\n"
          ]
        },
        {
          "output_type": "display_data",
          "data": {
            "text/plain": [],
            "text/html": [
              "<pre style=\"white-space:pre;overflow-x:auto;line-height:normal;font-family:Menlo,'DejaVu Sans Mono',consolas,'Courier New',monospace\"></pre>\n"
            ]
          },
          "metadata": {}
        },
        {
          "output_type": "display_data",
          "data": {
            "text/plain": [
              "Output()"
            ],
            "application/vnd.jupyter.widget-view+json": {
              "version_major": 2,
              "version_minor": 0,
              "model_id": "0eea32b8536442e29c782489989c8856"
            }
          },
          "metadata": {}
        },
        {
          "output_type": "stream",
          "name": "stdout",
          "text": [
            "k = 174\n"
          ]
        },
        {
          "output_type": "display_data",
          "data": {
            "text/plain": [],
            "text/html": [
              "<pre style=\"white-space:pre;overflow-x:auto;line-height:normal;font-family:Menlo,'DejaVu Sans Mono',consolas,'Courier New',monospace\"></pre>\n"
            ]
          },
          "metadata": {}
        },
        {
          "output_type": "display_data",
          "data": {
            "text/plain": [
              "Output()"
            ],
            "application/vnd.jupyter.widget-view+json": {
              "version_major": 2,
              "version_minor": 0,
              "model_id": "aadf190ddba641799df9c83e76046bc8"
            }
          },
          "metadata": {}
        },
        {
          "output_type": "stream",
          "name": "stdout",
          "text": [
            "k = 164\n"
          ]
        },
        {
          "output_type": "display_data",
          "data": {
            "text/plain": [],
            "text/html": [
              "<pre style=\"white-space:pre;overflow-x:auto;line-height:normal;font-family:Menlo,'DejaVu Sans Mono',consolas,'Courier New',monospace\"></pre>\n"
            ]
          },
          "metadata": {}
        },
        {
          "output_type": "display_data",
          "data": {
            "text/plain": [
              "Output()"
            ],
            "application/vnd.jupyter.widget-view+json": {
              "version_major": 2,
              "version_minor": 0,
              "model_id": "5dd629eb6b4f42c8acadb0179d439fc3"
            }
          },
          "metadata": {}
        },
        {
          "output_type": "stream",
          "name": "stdout",
          "text": [
            "k = 154\n"
          ]
        },
        {
          "output_type": "display_data",
          "data": {
            "text/plain": [],
            "text/html": [
              "<pre style=\"white-space:pre;overflow-x:auto;line-height:normal;font-family:Menlo,'DejaVu Sans Mono',consolas,'Courier New',monospace\"></pre>\n"
            ]
          },
          "metadata": {}
        },
        {
          "output_type": "display_data",
          "data": {
            "text/plain": [
              "Output()"
            ],
            "application/vnd.jupyter.widget-view+json": {
              "version_major": 2,
              "version_minor": 0,
              "model_id": "39ac6482547e40c39ceb7877638c45a3"
            }
          },
          "metadata": {}
        },
        {
          "output_type": "stream",
          "name": "stdout",
          "text": [
            "k = 144\n"
          ]
        },
        {
          "output_type": "display_data",
          "data": {
            "text/plain": [],
            "text/html": [
              "<pre style=\"white-space:pre;overflow-x:auto;line-height:normal;font-family:Menlo,'DejaVu Sans Mono',consolas,'Courier New',monospace\"></pre>\n"
            ]
          },
          "metadata": {}
        },
        {
          "output_type": "display_data",
          "data": {
            "text/plain": [
              "Output()"
            ],
            "application/vnd.jupyter.widget-view+json": {
              "version_major": 2,
              "version_minor": 0,
              "model_id": "c3d622ef863046ab8bdec4ae2adf74ed"
            }
          },
          "metadata": {}
        },
        {
          "output_type": "stream",
          "name": "stdout",
          "text": [
            "k = 134\n"
          ]
        },
        {
          "output_type": "display_data",
          "data": {
            "text/plain": [],
            "text/html": [
              "<pre style=\"white-space:pre;overflow-x:auto;line-height:normal;font-family:Menlo,'DejaVu Sans Mono',consolas,'Courier New',monospace\"></pre>\n"
            ]
          },
          "metadata": {}
        },
        {
          "output_type": "display_data",
          "data": {
            "text/plain": [
              "Output()"
            ],
            "application/vnd.jupyter.widget-view+json": {
              "version_major": 2,
              "version_minor": 0,
              "model_id": "63e0767a223f42eda445deb1bd3d0241"
            }
          },
          "metadata": {}
        },
        {
          "output_type": "stream",
          "name": "stdout",
          "text": [
            "k = 124\n"
          ]
        },
        {
          "output_type": "display_data",
          "data": {
            "text/plain": [],
            "text/html": [
              "<pre style=\"white-space:pre;overflow-x:auto;line-height:normal;font-family:Menlo,'DejaVu Sans Mono',consolas,'Courier New',monospace\"></pre>\n"
            ]
          },
          "metadata": {}
        },
        {
          "output_type": "display_data",
          "data": {
            "text/plain": [
              "Output()"
            ],
            "application/vnd.jupyter.widget-view+json": {
              "version_major": 2,
              "version_minor": 0,
              "model_id": "761b8fa9b7d349adb15ab9029feb0a2e"
            }
          },
          "metadata": {}
        },
        {
          "output_type": "stream",
          "name": "stdout",
          "text": [
            "k = 114\n"
          ]
        },
        {
          "output_type": "display_data",
          "data": {
            "text/plain": [],
            "text/html": [
              "<pre style=\"white-space:pre;overflow-x:auto;line-height:normal;font-family:Menlo,'DejaVu Sans Mono',consolas,'Courier New',monospace\"></pre>\n"
            ]
          },
          "metadata": {}
        },
        {
          "output_type": "display_data",
          "data": {
            "text/plain": [
              "Output()"
            ],
            "application/vnd.jupyter.widget-view+json": {
              "version_major": 2,
              "version_minor": 0,
              "model_id": "16fdb424c9774233be52ef101955b373"
            }
          },
          "metadata": {}
        },
        {
          "output_type": "stream",
          "name": "stdout",
          "text": [
            "k = 104\n"
          ]
        },
        {
          "output_type": "display_data",
          "data": {
            "text/plain": [],
            "text/html": [
              "<pre style=\"white-space:pre;overflow-x:auto;line-height:normal;font-family:Menlo,'DejaVu Sans Mono',consolas,'Courier New',monospace\"></pre>\n"
            ]
          },
          "metadata": {}
        },
        {
          "output_type": "display_data",
          "data": {
            "text/plain": [
              "Output()"
            ],
            "application/vnd.jupyter.widget-view+json": {
              "version_major": 2,
              "version_minor": 0,
              "model_id": "f7b7911755f34486b8c4ab2a70a02930"
            }
          },
          "metadata": {}
        },
        {
          "output_type": "stream",
          "name": "stdout",
          "text": [
            "k = 94\n"
          ]
        },
        {
          "output_type": "display_data",
          "data": {
            "text/plain": [],
            "text/html": [
              "<pre style=\"white-space:pre;overflow-x:auto;line-height:normal;font-family:Menlo,'DejaVu Sans Mono',consolas,'Courier New',monospace\"></pre>\n"
            ]
          },
          "metadata": {}
        },
        {
          "output_type": "display_data",
          "data": {
            "text/plain": [
              "Output()"
            ],
            "application/vnd.jupyter.widget-view+json": {
              "version_major": 2,
              "version_minor": 0,
              "model_id": "4bcb88a41e3444ec8af097a09890551a"
            }
          },
          "metadata": {}
        },
        {
          "output_type": "stream",
          "name": "stdout",
          "text": [
            "k = 84\n"
          ]
        },
        {
          "output_type": "display_data",
          "data": {
            "text/plain": [],
            "text/html": [
              "<pre style=\"white-space:pre;overflow-x:auto;line-height:normal;font-family:Menlo,'DejaVu Sans Mono',consolas,'Courier New',monospace\"></pre>\n"
            ]
          },
          "metadata": {}
        },
        {
          "output_type": "display_data",
          "data": {
            "text/plain": [
              "Output()"
            ],
            "application/vnd.jupyter.widget-view+json": {
              "version_major": 2,
              "version_minor": 0,
              "model_id": "16cd4ec257564d61b28d16700ca626c7"
            }
          },
          "metadata": {}
        },
        {
          "output_type": "stream",
          "name": "stdout",
          "text": [
            "k = 74\n"
          ]
        },
        {
          "output_type": "display_data",
          "data": {
            "text/plain": [],
            "text/html": [
              "<pre style=\"white-space:pre;overflow-x:auto;line-height:normal;font-family:Menlo,'DejaVu Sans Mono',consolas,'Courier New',monospace\"></pre>\n"
            ]
          },
          "metadata": {}
        },
        {
          "output_type": "display_data",
          "data": {
            "text/plain": [
              "Output()"
            ],
            "application/vnd.jupyter.widget-view+json": {
              "version_major": 2,
              "version_minor": 0,
              "model_id": "d79186584c5849e3aaa660a7a564911a"
            }
          },
          "metadata": {}
        },
        {
          "output_type": "stream",
          "name": "stdout",
          "text": [
            "k = 64\n"
          ]
        },
        {
          "output_type": "display_data",
          "data": {
            "text/plain": [],
            "text/html": [
              "<pre style=\"white-space:pre;overflow-x:auto;line-height:normal;font-family:Menlo,'DejaVu Sans Mono',consolas,'Courier New',monospace\"></pre>\n"
            ]
          },
          "metadata": {}
        },
        {
          "output_type": "display_data",
          "data": {
            "text/plain": [
              "Output()"
            ],
            "application/vnd.jupyter.widget-view+json": {
              "version_major": 2,
              "version_minor": 0,
              "model_id": "014ac1e0a86c49df8c6dccfa1ac72b9e"
            }
          },
          "metadata": {}
        },
        {
          "output_type": "stream",
          "name": "stdout",
          "text": [
            "k = 54\n"
          ]
        },
        {
          "output_type": "display_data",
          "data": {
            "text/plain": [],
            "text/html": [
              "<pre style=\"white-space:pre;overflow-x:auto;line-height:normal;font-family:Menlo,'DejaVu Sans Mono',consolas,'Courier New',monospace\"></pre>\n"
            ]
          },
          "metadata": {}
        },
        {
          "output_type": "display_data",
          "data": {
            "text/plain": [
              "Output()"
            ],
            "application/vnd.jupyter.widget-view+json": {
              "version_major": 2,
              "version_minor": 0,
              "model_id": "319eacd3d2ab4feba939564a02e76587"
            }
          },
          "metadata": {}
        },
        {
          "output_type": "stream",
          "name": "stdout",
          "text": [
            "k = 44\n"
          ]
        },
        {
          "output_type": "display_data",
          "data": {
            "text/plain": [],
            "text/html": [
              "<pre style=\"white-space:pre;overflow-x:auto;line-height:normal;font-family:Menlo,'DejaVu Sans Mono',consolas,'Courier New',monospace\"></pre>\n"
            ]
          },
          "metadata": {}
        },
        {
          "output_type": "display_data",
          "data": {
            "text/plain": [
              "Output()"
            ],
            "application/vnd.jupyter.widget-view+json": {
              "version_major": 2,
              "version_minor": 0,
              "model_id": "5eacec7590a24f86a4fcd9a525b5e173"
            }
          },
          "metadata": {}
        },
        {
          "output_type": "stream",
          "name": "stdout",
          "text": [
            "k = 34\n"
          ]
        },
        {
          "output_type": "display_data",
          "data": {
            "text/plain": [],
            "text/html": [
              "<pre style=\"white-space:pre;overflow-x:auto;line-height:normal;font-family:Menlo,'DejaVu Sans Mono',consolas,'Courier New',monospace\"></pre>\n"
            ]
          },
          "metadata": {}
        },
        {
          "output_type": "display_data",
          "data": {
            "text/plain": [
              "Output()"
            ],
            "application/vnd.jupyter.widget-view+json": {
              "version_major": 2,
              "version_minor": 0,
              "model_id": "1ba13b7ce7214cdfa623584ddef16e9b"
            }
          },
          "metadata": {}
        },
        {
          "output_type": "stream",
          "name": "stdout",
          "text": [
            "k = 24\n"
          ]
        },
        {
          "output_type": "display_data",
          "data": {
            "text/plain": [],
            "text/html": [
              "<pre style=\"white-space:pre;overflow-x:auto;line-height:normal;font-family:Menlo,'DejaVu Sans Mono',consolas,'Courier New',monospace\"></pre>\n"
            ]
          },
          "metadata": {}
        },
        {
          "output_type": "display_data",
          "data": {
            "text/plain": [
              "Output()"
            ],
            "application/vnd.jupyter.widget-view+json": {
              "version_major": 2,
              "version_minor": 0,
              "model_id": "998f302b12144dd3a861741775083901"
            }
          },
          "metadata": {}
        },
        {
          "output_type": "stream",
          "name": "stdout",
          "text": [
            "k = 14\n"
          ]
        },
        {
          "output_type": "display_data",
          "data": {
            "text/plain": [],
            "text/html": [
              "<pre style=\"white-space:pre;overflow-x:auto;line-height:normal;font-family:Menlo,'DejaVu Sans Mono',consolas,'Courier New',monospace\"></pre>\n"
            ]
          },
          "metadata": {}
        },
        {
          "output_type": "display_data",
          "data": {
            "text/plain": [
              "Output()"
            ],
            "application/vnd.jupyter.widget-view+json": {
              "version_major": 2,
              "version_minor": 0,
              "model_id": "aefa3fec4a494daa96a4b72bf7c2ddb0"
            }
          },
          "metadata": {}
        },
        {
          "output_type": "stream",
          "name": "stdout",
          "text": [
            "k = 4\n"
          ]
        },
        {
          "output_type": "display_data",
          "data": {
            "text/plain": [],
            "text/html": [
              "<pre style=\"white-space:pre;overflow-x:auto;line-height:normal;font-family:Menlo,'DejaVu Sans Mono',consolas,'Courier New',monospace\"></pre>\n"
            ]
          },
          "metadata": {}
        },
        {
          "output_type": "stream",
          "name": "stdout",
          "text": [
            "{254: 0.0050327682495117185, 244: 0.02409464359283447, 234: 0.027584595680236815, 224: 0.04007580757141113, 214: 0.06985806465148926, 204: 0.070578293800354, 194: 0.0994169306755066, 184: 0.12326499700546265, 174: 0.13997481584548951, 164: 0.1645571494102478, 154: 0.19594432830810546, 144: 0.23403186082839966, 134: 0.2458726167678833, 124: 0.27709270000457764, 114: 0.3067461466789246, 104: 0.3477307891845703, 94: 0.3956361150741577, 84: 0.4154606509208679, 74: 0.4644506025314331, 64: 0.5313910102844238, 54: 0.5426778507232666, 44: 0.6071891713142396, 34: 0.6379356789588928, 24: 0.7000822806358338, 14: 0.7397529029846192, 4: 0.8037001419067383}\n"
          ]
        }
      ]
    },
    {
      "cell_type": "code",
      "source": [
        "%matplotlib inline\n",
        "# @title Show decoding times\n",
        "from matplotlib import pyplot as plt\n",
        "\n",
        "k_values = list(decoding_times.keys())\n",
        "times = list(decoding_times.values())\n",
        "\n",
        "plt.figure(figsize=(10, 6))\n",
        "plt.plot(k_values, times, marker='o', linestyle='-', color='blue')\n",
        "\n",
        "plt.title(\"Average time to decode in relation to k values\", fontsize=14)\n",
        "plt.xlabel(\"k value\", fontsize=12)\n",
        "plt.ylabel(\"Time to decode [seconds]\", fontsize=12)\n",
        "\n",
        "plt.grid(True, linestyle='--', alpha=0.7)\n",
        "\n",
        "plt.xticks(k_values)\n",
        "\n",
        "plt.tight_layout()\n",
        "plt.show()"
      ],
      "metadata": {
        "cellView": "form",
        "id": "nCQf8ud-lu4b",
        "outputId": "ffd55be9-8c0c-4bba-dcc3-9644d12e884c",
        "colab": {
          "base_uri": "https://localhost:8080/",
          "height": 607
        }
      },
      "id": "nCQf8ud-lu4b",
      "execution_count": 30,
      "outputs": [
        {
          "output_type": "display_data",
          "data": {
            "text/plain": [
              "<Figure size 1000x600 with 1 Axes>"
            ],
            "image/png": "[encoded data removed]"
          },
          "metadata": {}
        }
      ]
    }
  ],
  "metadata": {
    "kernelspec": {
      "display_name": "Python 3 (ipykernel)",
      "language": "python",
      "name": "python3"
    },
    "language_info": {
      "codemirror_mode": {
        "name": "ipython",
        "version": 3
      },
      "file_extension": ".py",
      "mimetype": "text/x-python",
      "name": "python",
      "nbconvert_exporter": "python",
      "pygments_lexer": "ipython3",
      "version": "3.13.2"
    },
    "colab": {
      "provenance": []
    },
    "widgets": {
      "application/vnd.jupyter.widget-state+json": {
        "aeb5dfe158664cfb8dbacc40b53bd03a": {
          "model_module": "@jupyter-widgets/output",
          "model_name": "OutputModel",
          "model_module_version": "1.0.0",
          "state": {
            "_dom_classes": [],
            "_model_module": "@jupyter-widgets/output",
            "_model_module_version": "1.0.0",
            "_model_name": "OutputModel",
            "_view_count": null,
            "_view_module": "@jupyter-widgets/output",
            "_view_module_version": "1.0.0",
            "_view_name": "OutputView",
            "layout": "IPY_MODEL_77d070cbf6044d9daee7ec69ce2cbcd2",
            "msg_id": "",
            "outputs": [
              {
                "output_type": "display_data",
                "data": {
                  "text/plain": "Working... \u001b[38;2;114;156;31m━━━━━━━━━━━━━━━━━━━━━━━━━━━━━━━━━━━━━━━━\u001b[0m \u001b[35m100%\u001b[0m \u001b[33m0:00:00\u001b[0m\n",
                  "text/html": "<pre style=\"white-space:pre;overflow-x:auto;line-height:normal;font-family:Menlo,'DejaVu Sans Mono',consolas,'Courier New',monospace\">Working... <span style=\"color: #729c1f; text-decoration-color: #729c1f\">━━━━━━━━━━━━━━━━━━━━━━━━━━━━━━━━━━━━━━━━</span> <span style=\"color: #800080; text-decoration-color: #800080\">100%</span> <span style=\"color: #808000; text-decoration-color: #808000\">0:00:00</span>\n</pre>\n"
                },
                "metadata": {}
              }
            ]
          }
        },
        "77d070cbf6044d9daee7ec69ce2cbcd2": {
          "model_module": "@jupyter-widgets/base",
          "model_name": "LayoutModel",
          "model_module_version": "1.2.0",
          "state": {
            "_model_module": "@jupyter-widgets/base",
            "_model_module_version": "1.2.0",
            "_model_name": "LayoutModel",
            "_view_count": null,
            "_view_module": "@jupyter-widgets/base",
            "_view_module_version": "1.2.0",
            "_view_name": "LayoutView",
            "align_content": null,
            "align_items": null,
            "align_self": null,
            "border": null,
            "bottom": null,
            "display": null,
            "flex": null,
            "flex_flow": null,
            "grid_area": null,
            "grid_auto_columns": null,
            "grid_auto_flow": null,
            "grid_auto_rows": null,
            "grid_column": null,
            "grid_gap": null,
            "grid_row": null,
            "grid_template_areas": null,
            "grid_template_columns": null,
            "grid_template_rows": null,
            "height": null,
            "justify_content": null,
            "justify_items": null,
            "left": null,
            "margin": null,
            "max_height": null,
            "max_width": null,
            "min_height": null,
            "min_width": null,
            "object_fit": null,
            "object_position": null,
            "order": null,
            "overflow": null,
            "overflow_x": null,
            "overflow_y": null,
            "padding": null,
            "right": null,
            "top": null,
            "visibility": null,
            "width": null
          }
        },
        "88e3f9993ebe455d91930519d82c55ce": {
          "model_module": "@jupyter-widgets/output",
          "model_name": "OutputModel",
          "model_module_version": "1.0.0",
          "state": {
            "_dom_classes": [],
            "_model_module": "@jupyter-widgets/output",
            "_model_module_version": "1.0.0",
            "_model_name": "OutputModel",
            "_view_count": null,
            "_view_module": "@jupyter-widgets/output",
            "_view_module_version": "1.0.0",
            "_view_name": "OutputView",
            "layout": "IPY_MODEL_d9ff0895c07f4720a2545bc121339d08",
            "msg_id": "",
            "outputs": [
              {
                "output_type": "display_data",
                "data": {
                  "text/plain": "Working... \u001b[38;2;114;156;31m━━━━━━━━━━━━━━━━━━━━━━━━━━━━━━━━━━━━━━━━\u001b[0m \u001b[35m100%\u001b[0m \u001b[33m0:00:02\u001b[0m\n",
                  "text/html": "<pre style=\"white-space:pre;overflow-x:auto;line-height:normal;font-family:Menlo,'DejaVu Sans Mono',consolas,'Courier New',monospace\">Working... <span style=\"color: #729c1f; text-decoration-color: #729c1f\">━━━━━━━━━━━━━━━━━━━━━━━━━━━━━━━━━━━━━━━━</span> <span style=\"color: #800080; text-decoration-color: #800080\">100%</span> <span style=\"color: #808000; text-decoration-color: #808000\">0:00:02</span>\n</pre>\n"
                },
                "metadata": {}
              }
            ]
          }
        },
        "d9ff0895c07f4720a2545bc121339d08": {
          "model_module": "@jupyter-widgets/base",
          "model_name": "LayoutModel",
          "model_module_version": "1.2.0",
          "state": {
            "_model_module": "@jupyter-widgets/base",
            "_model_module_version": "1.2.0",
            "_model_name": "LayoutModel",
            "_view_count": null,
            "_view_module": "@jupyter-widgets/base",
            "_view_module_version": "1.2.0",
            "_view_name": "LayoutView",
            "align_content": null,
            "align_items": null,
            "align_self": null,
            "border": null,
            "bottom": null,
            "display": null,
            "flex": null,
            "flex_flow": null,
            "grid_area": null,
            "grid_auto_columns": null,
            "grid_auto_flow": null,
            "grid_auto_rows": null,
            "grid_column": null,
            "grid_gap": null,
            "grid_row": null,
            "grid_template_areas": null,
            "grid_template_columns": null,
            "grid_template_rows": null,
            "height": null,
            "justify_content": null,
            "justify_items": null,
            "left": null,
            "margin": null,
            "max_height": null,
            "max_width": null,
            "min_height": null,
            "min_width": null,
            "object_fit": null,
            "object_position": null,
            "order": null,
            "overflow": null,
            "overflow_x": null,
            "overflow_y": null,
            "padding": null,
            "right": null,
            "top": null,
            "visibility": null,
            "width": null
          }
        },
        "1bb73a39d9f04547bfbc15d195440887": {
          "model_module": "@jupyter-widgets/output",
          "model_name": "OutputModel",
          "model_module_version": "1.0.0",
          "state": {
            "_dom_classes": [],
            "_model_module": "@jupyter-widgets/output",
            "_model_module_version": "1.0.0",
            "_model_name": "OutputModel",
            "_view_count": null,
            "_view_module": "@jupyter-widgets/output",
            "_view_module_version": "1.0.0",
            "_view_name": "OutputView",
            "layout": "IPY_MODEL_3bc3467134b341b2b3ab1496ea78aba1",
            "msg_id": "",
            "outputs": [
              {
                "output_type": "display_data",
                "data": {
                  "text/plain": "Working... \u001b[38;2;114;156;31m━━━━━━━━━━━━━━━━━━━━━━━━━━━━━━━━━━━━━━━━\u001b[0m \u001b[35m100%\u001b[0m \u001b[33m0:00:02\u001b[0m\n",
                  "text/html": "<pre style=\"white-space:pre;overflow-x:auto;line-height:normal;font-family:Menlo,'DejaVu Sans Mono',consolas,'Courier New',monospace\">Working... <span style=\"color: #729c1f; text-decoration-color: #729c1f\">━━━━━━━━━━━━━━━━━━━━━━━━━━━━━━━━━━━━━━━━</span> <span style=\"color: #800080; text-decoration-color: #800080\">100%</span> <span style=\"color: #808000; text-decoration-color: #808000\">0:00:02</span>\n</pre>\n"
                },
                "metadata": {}
              }
            ]
          }
        },
        "3bc3467134b341b2b3ab1496ea78aba1": {
          "model_module": "@jupyter-widgets/base",
          "model_name": "LayoutModel",
          "model_module_version": "1.2.0",
          "state": {
            "_model_module": "@jupyter-widgets/base",
            "_model_module_version": "1.2.0",
            "_model_name": "LayoutModel",
            "_view_count": null,
            "_view_module": "@jupyter-widgets/base",
            "_view_module_version": "1.2.0",
            "_view_name": "LayoutView",
            "align_content": null,
            "align_items": null,
            "align_self": null,
            "border": null,
            "bottom": null,
            "display": null,
            "flex": null,
            "flex_flow": null,
            "grid_area": null,
            "grid_auto_columns": null,
            "grid_auto_flow": null,
            "grid_auto_rows": null,
            "grid_column": null,
            "grid_gap": null,
            "grid_row": null,
            "grid_template_areas": null,
            "grid_template_columns": null,
            "grid_template_rows": null,
            "height": null,
            "justify_content": null,
            "justify_items": null,
            "left": null,
            "margin": null,
            "max_height": null,
            "max_width": null,
            "min_height": null,
            "min_width": null,
            "object_fit": null,
            "object_position": null,
            "order": null,
            "overflow": null,
            "overflow_x": null,
            "overflow_y": null,
            "padding": null,
            "right": null,
            "top": null,
            "visibility": null,
            "width": null
          }
        },
        "653c080396f2445fadc06ebadb124a42": {
          "model_module": "@jupyter-widgets/output",
          "model_name": "OutputModel",
          "model_module_version": "1.0.0",
          "state": {
            "_dom_classes": [],
            "_model_module": "@jupyter-widgets/output",
            "_model_module_version": "1.0.0",
            "_model_name": "OutputModel",
            "_view_count": null,
            "_view_module": "@jupyter-widgets/output",
            "_view_module_version": "1.0.0",
            "_view_name": "OutputView",
            "layout": "IPY_MODEL_009d8f271e624bb9b1c9c5bfc0f51066",
            "msg_id": "",
            "outputs": [
              {
                "output_type": "display_data",
                "data": {
                  "text/plain": "Working... \u001b[38;2;114;156;31m━━━━━━━━━━━━━━━━━━━━━━━━━━━━━━━━━━━━━━━━\u001b[0m \u001b[35m100%\u001b[0m \u001b[33m0:00:04\u001b[0m\n",
                  "text/html": "<pre style=\"white-space:pre;overflow-x:auto;line-height:normal;font-family:Menlo,'DejaVu Sans Mono',consolas,'Courier New',monospace\">Working... <span style=\"color: #729c1f; text-decoration-color: #729c1f\">━━━━━━━━━━━━━━━━━━━━━━━━━━━━━━━━━━━━━━━━</span> <span style=\"color: #800080; text-decoration-color: #800080\">100%</span> <span style=\"color: #808000; text-decoration-color: #808000\">0:00:04</span>\n</pre>\n"
                },
                "metadata": {}
              }
            ]
          }
        },
        "009d8f271e624bb9b1c9c5bfc0f51066": {
          "model_module": "@jupyter-widgets/base",
          "model_name": "LayoutModel",
          "model_module_version": "1.2.0",
          "state": {
            "_model_module": "@jupyter-widgets/base",
            "_model_module_version": "1.2.0",
            "_model_name": "LayoutModel",
            "_view_count": null,
            "_view_module": "@jupyter-widgets/base",
            "_view_module_version": "1.2.0",
            "_view_name": "LayoutView",
            "align_content": null,
            "align_items": null,
            "align_self": null,
            "border": null,
            "bottom": null,
            "display": null,
            "flex": null,
            "flex_flow": null,
            "grid_area": null,
            "grid_auto_columns": null,
            "grid_auto_flow": null,
            "grid_auto_rows": null,
            "grid_column": null,
            "grid_gap": null,
            "grid_row": null,
            "grid_template_areas": null,
            "grid_template_columns": null,
            "grid_template_rows": null,
            "height": null,
            "justify_content": null,
            "justify_items": null,
            "left": null,
            "margin": null,
            "max_height": null,
            "max_width": null,
            "min_height": null,
            "min_width": null,
            "object_fit": null,
            "object_position": null,
            "order": null,
            "overflow": null,
            "overflow_x": null,
            "overflow_y": null,
            "padding": null,
            "right": null,
            "top": null,
            "visibility": null,
            "width": null
          }
        },
        "24d9fd1010dc49cd9173f07b29ff9357": {
          "model_module": "@jupyter-widgets/output",
          "model_name": "OutputModel",
          "model_module_version": "1.0.0",
          "state": {
            "_dom_classes": [],
            "_model_module": "@jupyter-widgets/output",
            "_model_module_version": "1.0.0",
            "_model_name": "OutputModel",
            "_view_count": null,
            "_view_module": "@jupyter-widgets/output",
            "_view_module_version": "1.0.0",
            "_view_name": "OutputView",
            "layout": "IPY_MODEL_36f78150cb40459e9d582a38e5cc61e3",
            "msg_id": "",
            "outputs": [
              {
                "output_type": "display_data",
                "data": {
                  "text/plain": "Working... \u001b[38;2;114;156;31m━━━━━━━━━━━━━━━━━━━━━━━━━━━━━━━━━━━━━━━━\u001b[0m \u001b[35m100%\u001b[0m \u001b[33m0:00:06\u001b[0m\n",
                  "text/html": "<pre style=\"white-space:pre;overflow-x:auto;line-height:normal;font-family:Menlo,'DejaVu Sans Mono',consolas,'Courier New',monospace\">Working... <span style=\"color: #729c1f; text-decoration-color: #729c1f\">━━━━━━━━━━━━━━━━━━━━━━━━━━━━━━━━━━━━━━━━</span> <span style=\"color: #800080; text-decoration-color: #800080\">100%</span> <span style=\"color: #808000; text-decoration-color: #808000\">0:00:06</span>\n</pre>\n"
                },
                "metadata": {}
              }
            ]
          }
        },
        "36f78150cb40459e9d582a38e5cc61e3": {
          "model_module": "@jupyter-widgets/base",
          "model_name": "LayoutModel",
          "model_module_version": "1.2.0",
          "state": {
            "_model_module": "@jupyter-widgets/base",
            "_model_module_version": "1.2.0",
            "_model_name": "LayoutModel",
            "_view_count": null,
            "_view_module": "@jupyter-widgets/base",
            "_view_module_version": "1.2.0",
            "_view_name": "LayoutView",
            "align_content": null,
            "align_items": null,
            "align_self": null,
            "border": null,
            "bottom": null,
            "display": null,
            "flex": null,
            "flex_flow": null,
            "grid_area": null,
            "grid_auto_columns": null,
            "grid_auto_flow": null,
            "grid_auto_rows": null,
            "grid_column": null,
            "grid_gap": null,
            "grid_row": null,
            "grid_template_areas": null,
            "grid_template_columns": null,
            "grid_template_rows": null,
            "height": null,
            "justify_content": null,
            "justify_items": null,
            "left": null,
            "margin": null,
            "max_height": null,
            "max_width": null,
            "min_height": null,
            "min_width": null,
            "object_fit": null,
            "object_position": null,
            "order": null,
            "overflow": null,
            "overflow_x": null,
            "overflow_y": null,
            "padding": null,
            "right": null,
            "top": null,
            "visibility": null,
            "width": null
          }
        },
        "de848a7eae2a4523802d4d49c6099f46": {
          "model_module": "@jupyter-widgets/output",
          "model_name": "OutputModel",
          "model_module_version": "1.0.0",
          "state": {
            "_dom_classes": [],
            "_model_module": "@jupyter-widgets/output",
            "_model_module_version": "1.0.0",
            "_model_name": "OutputModel",
            "_view_count": null,
            "_view_module": "@jupyter-widgets/output",
            "_view_module_version": "1.0.0",
            "_view_name": "OutputView",
            "layout": "IPY_MODEL_a8f2aa0e6db44e4d9a5530f405af2593",
            "msg_id": "",
            "outputs": [
              {
                "output_type": "display_data",
                "data": {
                  "text/plain": "Working... \u001b[38;2;114;156;31m━━━━━━━━━━━━━━━━━━━━━━━━━━━━━━━━━━━━━━━━\u001b[0m \u001b[35m100%\u001b[0m \u001b[33m0:00:07\u001b[0m\n",
                  "text/html": "<pre style=\"white-space:pre;overflow-x:auto;line-height:normal;font-family:Menlo,'DejaVu Sans Mono',consolas,'Courier New',monospace\">Working... <span style=\"color: #729c1f; text-decoration-color: #729c1f\">━━━━━━━━━━━━━━━━━━━━━━━━━━━━━━━━━━━━━━━━</span> <span style=\"color: #800080; text-decoration-color: #800080\">100%</span> <span style=\"color: #808000; text-decoration-color: #808000\">0:00:07</span>\n</pre>\n"
                },
                "metadata": {}
              }
            ]
          }
        },
        "a8f2aa0e6db44e4d9a5530f405af2593": {
          "model_module": "@jupyter-widgets/base",
          "model_name": "LayoutModel",
          "model_module_version": "1.2.0",
          "state": {
            "_model_module": "@jupyter-widgets/base",
            "_model_module_version": "1.2.0",
            "_model_name": "LayoutModel",
            "_view_count": null,
            "_view_module": "@jupyter-widgets/base",
            "_view_module_version": "1.2.0",
            "_view_name": "LayoutView",
            "align_content": null,
            "align_items": null,
            "align_self": null,
            "border": null,
            "bottom": null,
            "display": null,
            "flex": null,
            "flex_flow": null,
            "grid_area": null,
            "grid_auto_columns": null,
            "grid_auto_flow": null,
            "grid_auto_rows": null,
            "grid_column": null,
            "grid_gap": null,
            "grid_row": null,
            "grid_template_areas": null,
            "grid_template_columns": null,
            "grid_template_rows": null,
            "height": null,
            "justify_content": null,
            "justify_items": null,
            "left": null,
            "margin": null,
            "max_height": null,
            "max_width": null,
            "min_height": null,
            "min_width": null,
            "object_fit": null,
            "object_position": null,
            "order": null,
            "overflow": null,
            "overflow_x": null,
            "overflow_y": null,
            "padding": null,
            "right": null,
            "top": null,
            "visibility": null,
            "width": null
          }
        },
        "a9354704de114c0ebb11a4a2ce8521fb": {
          "model_module": "@jupyter-widgets/output",
          "model_name": "OutputModel",
          "model_module_version": "1.0.0",
          "state": {
            "_dom_classes": [],
            "_model_module": "@jupyter-widgets/output",
            "_model_module_version": "1.0.0",
            "_model_name": "OutputModel",
            "_view_count": null,
            "_view_module": "@jupyter-widgets/output",
            "_view_module_version": "1.0.0",
            "_view_name": "OutputView",
            "layout": "IPY_MODEL_893593ba987a4e77800bb7406f297d35",
            "msg_id": "",
            "outputs": [
              {
                "output_type": "display_data",
                "data": {
                  "text/plain": "Working... \u001b[38;2;114;156;31m━━━━━━━━━━━━━━━━━━━━━━━━━━━━━━━━━━━━━━━━\u001b[0m \u001b[35m100%\u001b[0m \u001b[33m0:00:09\u001b[0m\n",
                  "text/html": "<pre style=\"white-space:pre;overflow-x:auto;line-height:normal;font-family:Menlo,'DejaVu Sans Mono',consolas,'Courier New',monospace\">Working... <span style=\"color: #729c1f; text-decoration-color: #729c1f\">━━━━━━━━━━━━━━━━━━━━━━━━━━━━━━━━━━━━━━━━</span> <span style=\"color: #800080; text-decoration-color: #800080\">100%</span> <span style=\"color: #808000; text-decoration-color: #808000\">0:00:09</span>\n</pre>\n"
                },
                "metadata": {}
              }
            ]
          }
        },
        "893593ba987a4e77800bb7406f297d35": {
          "model_module": "@jupyter-widgets/base",
          "model_name": "LayoutModel",
          "model_module_version": "1.2.0",
          "state": {
            "_model_module": "@jupyter-widgets/base",
            "_model_module_version": "1.2.0",
            "_model_name": "LayoutModel",
            "_view_count": null,
            "_view_module": "@jupyter-widgets/base",
            "_view_module_version": "1.2.0",
            "_view_name": "LayoutView",
            "align_content": null,
            "align_items": null,
            "align_self": null,
            "border": null,
            "bottom": null,
            "display": null,
            "flex": null,
            "flex_flow": null,
            "grid_area": null,
            "grid_auto_columns": null,
            "grid_auto_flow": null,
            "grid_auto_rows": null,
            "grid_column": null,
            "grid_gap": null,
            "grid_row": null,
            "grid_template_areas": null,
            "grid_template_columns": null,
            "grid_template_rows": null,
            "height": null,
            "justify_content": null,
            "justify_items": null,
            "left": null,
            "margin": null,
            "max_height": null,
            "max_width": null,
            "min_height": null,
            "min_width": null,
            "object_fit": null,
            "object_position": null,
            "order": null,
            "overflow": null,
            "overflow_x": null,
            "overflow_y": null,
            "padding": null,
            "right": null,
            "top": null,
            "visibility": null,
            "width": null
          }
        },
        "c11999f43d4441dda90e4c8a0f9f2b9d": {
          "model_module": "@jupyter-widgets/output",
          "model_name": "OutputModel",
          "model_module_version": "1.0.0",
          "state": {
            "_dom_classes": [],
            "_model_module": "@jupyter-widgets/output",
            "_model_module_version": "1.0.0",
            "_model_name": "OutputModel",
            "_view_count": null,
            "_view_module": "@jupyter-widgets/output",
            "_view_module_version": "1.0.0",
            "_view_name": "OutputView",
            "layout": "IPY_MODEL_c155b7f6a5784fe68981233ecd7381eb",
            "msg_id": "",
            "outputs": [
              {
                "output_type": "display_data",
                "data": {
                  "text/plain": "Working... \u001b[38;2;114;156;31m━━━━━━━━━━━━━━━━━━━━━━━━━━━━━━━━━━━━━━━━\u001b[0m \u001b[35m100%\u001b[0m \u001b[33m0:00:12\u001b[0m\n",
                  "text/html": "<pre style=\"white-space:pre;overflow-x:auto;line-height:normal;font-family:Menlo,'DejaVu Sans Mono',consolas,'Courier New',monospace\">Working... <span style=\"color: #729c1f; text-decoration-color: #729c1f\">━━━━━━━━━━━━━━━━━━━━━━━━━━━━━━━━━━━━━━━━</span> <span style=\"color: #800080; text-decoration-color: #800080\">100%</span> <span style=\"color: #808000; text-decoration-color: #808000\">0:00:12</span>\n</pre>\n"
                },
                "metadata": {}
              }
            ]
          }
        },
        "c155b7f6a5784fe68981233ecd7381eb": {
          "model_module": "@jupyter-widgets/base",
          "model_name": "LayoutModel",
          "model_module_version": "1.2.0",
          "state": {
            "_model_module": "@jupyter-widgets/base",
            "_model_module_version": "1.2.0",
            "_model_name": "LayoutModel",
            "_view_count": null,
            "_view_module": "@jupyter-widgets/base",
            "_view_module_version": "1.2.0",
            "_view_name": "LayoutView",
            "align_content": null,
            "align_items": null,
            "align_self": null,
            "border": null,
            "bottom": null,
            "display": null,
            "flex": null,
            "flex_flow": null,
            "grid_area": null,
            "grid_auto_columns": null,
            "grid_auto_flow": null,
            "grid_auto_rows": null,
            "grid_column": null,
            "grid_gap": null,
            "grid_row": null,
            "grid_template_areas": null,
            "grid_template_columns": null,
            "grid_template_rows": null,
            "height": null,
            "justify_content": null,
            "justify_items": null,
            "left": null,
            "margin": null,
            "max_height": null,
            "max_width": null,
            "min_height": null,
            "min_width": null,
            "object_fit": null,
            "object_position": null,
            "order": null,
            "overflow": null,
            "overflow_x": null,
            "overflow_y": null,
            "padding": null,
            "right": null,
            "top": null,
            "visibility": null,
            "width": null
          }
        },
        "0eea32b8536442e29c782489989c8856": {
          "model_module": "@jupyter-widgets/output",
          "model_name": "OutputModel",
          "model_module_version": "1.0.0",
          "state": {
            "_dom_classes": [],
            "_model_module": "@jupyter-widgets/output",
            "_model_module_version": "1.0.0",
            "_model_name": "OutputModel",
            "_view_count": null,
            "_view_module": "@jupyter-widgets/output",
            "_view_module_version": "1.0.0",
            "_view_name": "OutputView",
            "layout": "IPY_MODEL_888f7c3fbd6144fa8e64bd69d1a903c0",
            "msg_id": "",
            "outputs": [
              {
                "output_type": "display_data",
                "data": {
                  "text/plain": "Working... \u001b[38;2;114;156;31m━━━━━━━━━━━━━━━━━━━━━━━━━━━━━━━━━━━━━━━━\u001b[0m \u001b[35m100%\u001b[0m \u001b[33m0:00:14\u001b[0m\n",
                  "text/html": "<pre style=\"white-space:pre;overflow-x:auto;line-height:normal;font-family:Menlo,'DejaVu Sans Mono',consolas,'Courier New',monospace\">Working... <span style=\"color: #729c1f; text-decoration-color: #729c1f\">━━━━━━━━━━━━━━━━━━━━━━━━━━━━━━━━━━━━━━━━</span> <span style=\"color: #800080; text-decoration-color: #800080\">100%</span> <span style=\"color: #808000; text-decoration-color: #808000\">0:00:14</span>\n</pre>\n"
                },
                "metadata": {}
              }
            ]
          }
        },
        "888f7c3fbd6144fa8e64bd69d1a903c0": {
          "model_module": "@jupyter-widgets/base",
          "model_name": "LayoutModel",
          "model_module_version": "1.2.0",
          "state": {
            "_model_module": "@jupyter-widgets/base",
            "_model_module_version": "1.2.0",
            "_model_name": "LayoutModel",
            "_view_count": null,
            "_view_module": "@jupyter-widgets/base",
            "_view_module_version": "1.2.0",
            "_view_name": "LayoutView",
            "align_content": null,
            "align_items": null,
            "align_self": null,
            "border": null,
            "bottom": null,
            "display": null,
            "flex": null,
            "flex_flow": null,
            "grid_area": null,
            "grid_auto_columns": null,
            "grid_auto_flow": null,
            "grid_auto_rows": null,
            "grid_column": null,
            "grid_gap": null,
            "grid_row": null,
            "grid_template_areas": null,
            "grid_template_columns": null,
            "grid_template_rows": null,
            "height": null,
            "justify_content": null,
            "justify_items": null,
            "left": null,
            "margin": null,
            "max_height": null,
            "max_width": null,
            "min_height": null,
            "min_width": null,
            "object_fit": null,
            "object_position": null,
            "order": null,
            "overflow": null,
            "overflow_x": null,
            "overflow_y": null,
            "padding": null,
            "right": null,
            "top": null,
            "visibility": null,
            "width": null
          }
        },
        "aadf190ddba641799df9c83e76046bc8": {
          "model_module": "@jupyter-widgets/output",
          "model_name": "OutputModel",
          "model_module_version": "1.0.0",
          "state": {
            "_dom_classes": [],
            "_model_module": "@jupyter-widgets/output",
            "_model_module_version": "1.0.0",
            "_model_name": "OutputModel",
            "_view_count": null,
            "_view_module": "@jupyter-widgets/output",
            "_view_module_version": "1.0.0",
            "_view_name": "OutputView",
            "layout": "IPY_MODEL_38a7b3fbde5a4239830fb4c339cbf3f1",
            "msg_id": "",
            "outputs": [
              {
                "output_type": "display_data",
                "data": {
                  "text/plain": "Working... \u001b[38;2;114;156;31m━━━━━━━━━━━━━━━━━━━━━━━━━━━━━━━━━━━━━━━━\u001b[0m \u001b[35m100%\u001b[0m \u001b[33m0:00:16\u001b[0m\n",
                  "text/html": "<pre style=\"white-space:pre;overflow-x:auto;line-height:normal;font-family:Menlo,'DejaVu Sans Mono',consolas,'Courier New',monospace\">Working... <span style=\"color: #729c1f; text-decoration-color: #729c1f\">━━━━━━━━━━━━━━━━━━━━━━━━━━━━━━━━━━━━━━━━</span> <span style=\"color: #800080; text-decoration-color: #800080\">100%</span> <span style=\"color: #808000; text-decoration-color: #808000\">0:00:16</span>\n</pre>\n"
                },
                "metadata": {}
              }
            ]
          }
        },
        "38a7b3fbde5a4239830fb4c339cbf3f1": {
          "model_module": "@jupyter-widgets/base",
          "model_name": "LayoutModel",
          "model_module_version": "1.2.0",
          "state": {
            "_model_module": "@jupyter-widgets/base",
            "_model_module_version": "1.2.0",
            "_model_name": "LayoutModel",
            "_view_count": null,
            "_view_module": "@jupyter-widgets/base",
            "_view_module_version": "1.2.0",
            "_view_name": "LayoutView",
            "align_content": null,
            "align_items": null,
            "align_self": null,
            "border": null,
            "bottom": null,
            "display": null,
            "flex": null,
            "flex_flow": null,
            "grid_area": null,
            "grid_auto_columns": null,
            "grid_auto_flow": null,
            "grid_auto_rows": null,
            "grid_column": null,
            "grid_gap": null,
            "grid_row": null,
            "grid_template_areas": null,
            "grid_template_columns": null,
            "grid_template_rows": null,
            "height": null,
            "justify_content": null,
            "justify_items": null,
            "left": null,
            "margin": null,
            "max_height": null,
            "max_width": null,
            "min_height": null,
            "min_width": null,
            "object_fit": null,
            "object_position": null,
            "order": null,
            "overflow": null,
            "overflow_x": null,
            "overflow_y": null,
            "padding": null,
            "right": null,
            "top": null,
            "visibility": null,
            "width": null
          }
        },
        "5dd629eb6b4f42c8acadb0179d439fc3": {
          "model_module": "@jupyter-widgets/output",
          "model_name": "OutputModel",
          "model_module_version": "1.0.0",
          "state": {
            "_dom_classes": [],
            "_model_module": "@jupyter-widgets/output",
            "_model_module_version": "1.0.0",
            "_model_name": "OutputModel",
            "_view_count": null,
            "_view_module": "@jupyter-widgets/output",
            "_view_module_version": "1.0.0",
            "_view_name": "OutputView",
            "layout": "IPY_MODEL_e756250dd4e84c799884dde67ece61a8",
            "msg_id": "",
            "outputs": [
              {
                "output_type": "display_data",
                "data": {
                  "text/plain": "Working... \u001b[38;2;114;156;31m━━━━━━━━━━━━━━━━━━━━━━━━━━━━━━━━━━━━━━━━\u001b[0m \u001b[35m100%\u001b[0m \u001b[33m0:00:19\u001b[0m\n",
                  "text/html": "<pre style=\"white-space:pre;overflow-x:auto;line-height:normal;font-family:Menlo,'DejaVu Sans Mono',consolas,'Courier New',monospace\">Working... <span style=\"color: #729c1f; text-decoration-color: #729c1f\">━━━━━━━━━━━━━━━━━━━━━━━━━━━━━━━━━━━━━━━━</span> <span style=\"color: #800080; text-decoration-color: #800080\">100%</span> <span style=\"color: #808000; text-decoration-color: #808000\">0:00:19</span>\n</pre>\n"
                },
                "metadata": {}
              }
            ]
          }
        },
        "e756250dd4e84c799884dde67ece61a8": {
          "model_module": "@jupyter-widgets/base",
          "model_name": "LayoutModel",
          "model_module_version": "1.2.0",
          "state": {
            "_model_module": "@jupyter-widgets/base",
            "_model_module_version": "1.2.0",
            "_model_name": "LayoutModel",
            "_view_count": null,
            "_view_module": "@jupyter-widgets/base",
            "_view_module_version": "1.2.0",
            "_view_name": "LayoutView",
            "align_content": null,
            "align_items": null,
            "align_self": null,
            "border": null,
            "bottom": null,
            "display": null,
            "flex": null,
            "flex_flow": null,
            "grid_area": null,
            "grid_auto_columns": null,
            "grid_auto_flow": null,
            "grid_auto_rows": null,
            "grid_column": null,
            "grid_gap": null,
            "grid_row": null,
            "grid_template_areas": null,
            "grid_template_columns": null,
            "grid_template_rows": null,
            "height": null,
            "justify_content": null,
            "justify_items": null,
            "left": null,
            "margin": null,
            "max_height": null,
            "max_width": null,
            "min_height": null,
            "min_width": null,
            "object_fit": null,
            "object_position": null,
            "order": null,
            "overflow": null,
            "overflow_x": null,
            "overflow_y": null,
            "padding": null,
            "right": null,
            "top": null,
            "visibility": null,
            "width": null
          }
        },
        "39ac6482547e40c39ceb7877638c45a3": {
          "model_module": "@jupyter-widgets/output",
          "model_name": "OutputModel",
          "model_module_version": "1.0.0",
          "state": {
            "_dom_classes": [],
            "_model_module": "@jupyter-widgets/output",
            "_model_module_version": "1.0.0",
            "_model_name": "OutputModel",
            "_view_count": null,
            "_view_module": "@jupyter-widgets/output",
            "_view_module_version": "1.0.0",
            "_view_name": "OutputView",
            "layout": "IPY_MODEL_27e8bb56e25049a7a17795b965b1e296",
            "msg_id": "",
            "outputs": [
              {
                "output_type": "display_data",
                "data": {
                  "text/plain": "Working... \u001b[38;2;114;156;31m━━━━━━━━━━━━━━━━━━━━━━━━━━━━━━━━━━━━━━━━\u001b[0m \u001b[35m100%\u001b[0m \u001b[33m0:00:23\u001b[0m\n",
                  "text/html": "<pre style=\"white-space:pre;overflow-x:auto;line-height:normal;font-family:Menlo,'DejaVu Sans Mono',consolas,'Courier New',monospace\">Working... <span style=\"color: #729c1f; text-decoration-color: #729c1f\">━━━━━━━━━━━━━━━━━━━━━━━━━━━━━━━━━━━━━━━━</span> <span style=\"color: #800080; text-decoration-color: #800080\">100%</span> <span style=\"color: #808000; text-decoration-color: #808000\">0:00:23</span>\n</pre>\n"
                },
                "metadata": {}
              }
            ]
          }
        },
        "27e8bb56e25049a7a17795b965b1e296": {
          "model_module": "@jupyter-widgets/base",
          "model_name": "LayoutModel",
          "model_module_version": "1.2.0",
          "state": {
            "_model_module": "@jupyter-widgets/base",
            "_model_module_version": "1.2.0",
            "_model_name": "LayoutModel",
            "_view_count": null,
            "_view_module": "@jupyter-widgets/base",
            "_view_module_version": "1.2.0",
            "_view_name": "LayoutView",
            "align_content": null,
            "align_items": null,
            "align_self": null,
            "border": null,
            "bottom": null,
            "display": null,
            "flex": null,
            "flex_flow": null,
            "grid_area": null,
            "grid_auto_columns": null,
            "grid_auto_flow": null,
            "grid_auto_rows": null,
            "grid_column": null,
            "grid_gap": null,
            "grid_row": null,
            "grid_template_areas": null,
            "grid_template_columns": null,
            "grid_template_rows": null,
            "height": null,
            "justify_content": null,
            "justify_items": null,
            "left": null,
            "margin": null,
            "max_height": null,
            "max_width": null,
            "min_height": null,
            "min_width": null,
            "object_fit": null,
            "object_position": null,
            "order": null,
            "overflow": null,
            "overflow_x": null,
            "overflow_y": null,
            "padding": null,
            "right": null,
            "top": null,
            "visibility": null,
            "width": null
          }
        },
        "c3d622ef863046ab8bdec4ae2adf74ed": {
          "model_module": "@jupyter-widgets/output",
          "model_name": "OutputModel",
          "model_module_version": "1.0.0",
          "state": {
            "_dom_classes": [],
            "_model_module": "@jupyter-widgets/output",
            "_model_module_version": "1.0.0",
            "_model_name": "OutputModel",
            "_view_count": null,
            "_view_module": "@jupyter-widgets/output",
            "_view_module_version": "1.0.0",
            "_view_name": "OutputView",
            "layout": "IPY_MODEL_b193c37e9d1949189a48bb90a449cac4",
            "msg_id": "",
            "outputs": [
              {
                "output_type": "display_data",
                "data": {
                  "text/plain": "Working... \u001b[38;2;114;156;31m━━━━━━━━━━━━━━━━━━━━━━━━━━━━━━━━━━━━━━━━\u001b[0m \u001b[35m100%\u001b[0m \u001b[33m0:00:24\u001b[0m\n",
                  "text/html": "<pre style=\"white-space:pre;overflow-x:auto;line-height:normal;font-family:Menlo,'DejaVu Sans Mono',consolas,'Courier New',monospace\">Working... <span style=\"color: #729c1f; text-decoration-color: #729c1f\">━━━━━━━━━━━━━━━━━━━━━━━━━━━━━━━━━━━━━━━━</span> <span style=\"color: #800080; text-decoration-color: #800080\">100%</span> <span style=\"color: #808000; text-decoration-color: #808000\">0:00:24</span>\n</pre>\n"
                },
                "metadata": {}
              }
            ]
          }
        },
        "b193c37e9d1949189a48bb90a449cac4": {
          "model_module": "@jupyter-widgets/base",
          "model_name": "LayoutModel",
          "model_module_version": "1.2.0",
          "state": {
            "_model_module": "@jupyter-widgets/base",
            "_model_module_version": "1.2.0",
            "_model_name": "LayoutModel",
            "_view_count": null,
            "_view_module": "@jupyter-widgets/base",
            "_view_module_version": "1.2.0",
            "_view_name": "LayoutView",
            "align_content": null,
            "align_items": null,
            "align_self": null,
            "border": null,
            "bottom": null,
            "display": null,
            "flex": null,
            "flex_flow": null,
            "grid_area": null,
            "grid_auto_columns": null,
            "grid_auto_flow": null,
            "grid_auto_rows": null,
            "grid_column": null,
            "grid_gap": null,
            "grid_row": null,
            "grid_template_areas": null,
            "grid_template_columns": null,
            "grid_template_rows": null,
            "height": null,
            "justify_content": null,
            "justify_items": null,
            "left": null,
            "margin": null,
            "max_height": null,
            "max_width": null,
            "min_height": null,
            "min_width": null,
            "object_fit": null,
            "object_position": null,
            "order": null,
            "overflow": null,
            "overflow_x": null,
            "overflow_y": null,
            "padding": null,
            "right": null,
            "top": null,
            "visibility": null,
            "width": null
          }
        },
        "63e0767a223f42eda445deb1bd3d0241": {
          "model_module": "@jupyter-widgets/output",
          "model_name": "OutputModel",
          "model_module_version": "1.0.0",
          "state": {
            "_dom_classes": [],
            "_model_module": "@jupyter-widgets/output",
            "_model_module_version": "1.0.0",
            "_model_name": "OutputModel",
            "_view_count": null,
            "_view_module": "@jupyter-widgets/output",
            "_view_module_version": "1.0.0",
            "_view_name": "OutputView",
            "layout": "IPY_MODEL_3f901ddcbb2843c39cafb29c513a9ef7",
            "msg_id": "",
            "outputs": [
              {
                "output_type": "display_data",
                "data": {
                  "text/plain": "Working... \u001b[38;2;114;156;31m━━━━━━━━━━━━━━━━━━━━━━━━━━━━━━━━━━━━━━━━\u001b[0m \u001b[35m100%\u001b[0m \u001b[33m0:00:27\u001b[0m\n",
                  "text/html": "<pre style=\"white-space:pre;overflow-x:auto;line-height:normal;font-family:Menlo,'DejaVu Sans Mono',consolas,'Courier New',monospace\">Working... <span style=\"color: #729c1f; text-decoration-color: #729c1f\">━━━━━━━━━━━━━━━━━━━━━━━━━━━━━━━━━━━━━━━━</span> <span style=\"color: #800080; text-decoration-color: #800080\">100%</span> <span style=\"color: #808000; text-decoration-color: #808000\">0:00:27</span>\n</pre>\n"
                },
                "metadata": {}
              }
            ]
          }
        },
        "3f901ddcbb2843c39cafb29c513a9ef7": {
          "model_module": "@jupyter-widgets/base",
          "model_name": "LayoutModel",
          "model_module_version": "1.2.0",
          "state": {
            "_model_module": "@jupyter-widgets/base",
            "_model_module_version": "1.2.0",
            "_model_name": "LayoutModel",
            "_view_count": null,
            "_view_module": "@jupyter-widgets/base",
            "_view_module_version": "1.2.0",
            "_view_name": "LayoutView",
            "align_content": null,
            "align_items": null,
            "align_self": null,
            "border": null,
            "bottom": null,
            "display": null,
            "flex": null,
            "flex_flow": null,
            "grid_area": null,
            "grid_auto_columns": null,
            "grid_auto_flow": null,
            "grid_auto_rows": null,
            "grid_column": null,
            "grid_gap": null,
            "grid_row": null,
            "grid_template_areas": null,
            "grid_template_columns": null,
            "grid_template_rows": null,
            "height": null,
            "justify_content": null,
            "justify_items": null,
            "left": null,
            "margin": null,
            "max_height": null,
            "max_width": null,
            "min_height": null,
            "min_width": null,
            "object_fit": null,
            "object_position": null,
            "order": null,
            "overflow": null,
            "overflow_x": null,
            "overflow_y": null,
            "padding": null,
            "right": null,
            "top": null,
            "visibility": null,
            "width": null
          }
        },
        "761b8fa9b7d349adb15ab9029feb0a2e": {
          "model_module": "@jupyter-widgets/output",
          "model_name": "OutputModel",
          "model_module_version": "1.0.0",
          "state": {
            "_dom_classes": [],
            "_model_module": "@jupyter-widgets/output",
            "_model_module_version": "1.0.0",
            "_model_name": "OutputModel",
            "_view_count": null,
            "_view_module": "@jupyter-widgets/output",
            "_view_module_version": "1.0.0",
            "_view_name": "OutputView",
            "layout": "IPY_MODEL_71ff35a10bb646918b06b517ad95d7b8",
            "msg_id": "",
            "outputs": [
              {
                "output_type": "display_data",
                "data": {
                  "text/plain": "Working... \u001b[38;2;114;156;31m━━━━━━━━━━━━━━━━━━━━━━━━━━━━━━━━━━━━━━━━\u001b[0m \u001b[35m100%\u001b[0m \u001b[33m0:00:30\u001b[0m\n",
                  "text/html": "<pre style=\"white-space:pre;overflow-x:auto;line-height:normal;font-family:Menlo,'DejaVu Sans Mono',consolas,'Courier New',monospace\">Working... <span style=\"color: #729c1f; text-decoration-color: #729c1f\">━━━━━━━━━━━━━━━━━━━━━━━━━━━━━━━━━━━━━━━━</span> <span style=\"color: #800080; text-decoration-color: #800080\">100%</span> <span style=\"color: #808000; text-decoration-color: #808000\">0:00:30</span>\n</pre>\n"
                },
                "metadata": {}
              }
            ]
          }
        },
        "71ff35a10bb646918b06b517ad95d7b8": {
          "model_module": "@jupyter-widgets/base",
          "model_name": "LayoutModel",
          "model_module_version": "1.2.0",
          "state": {
            "_model_module": "@jupyter-widgets/base",
            "_model_module_version": "1.2.0",
            "_model_name": "LayoutModel",
            "_view_count": null,
            "_view_module": "@jupyter-widgets/base",
            "_view_module_version": "1.2.0",
            "_view_name": "LayoutView",
            "align_content": null,
            "align_items": null,
            "align_self": null,
            "border": null,
            "bottom": null,
            "display": null,
            "flex": null,
            "flex_flow": null,
            "grid_area": null,
            "grid_auto_columns": null,
            "grid_auto_flow": null,
            "grid_auto_rows": null,
            "grid_column": null,
            "grid_gap": null,
            "grid_row": null,
            "grid_template_areas": null,
            "grid_template_columns": null,
            "grid_template_rows": null,
            "height": null,
            "justify_content": null,
            "justify_items": null,
            "left": null,
            "margin": null,
            "max_height": null,
            "max_width": null,
            "min_height": null,
            "min_width": null,
            "object_fit": null,
            "object_position": null,
            "order": null,
            "overflow": null,
            "overflow_x": null,
            "overflow_y": null,
            "padding": null,
            "right": null,
            "top": null,
            "visibility": null,
            "width": null
          }
        },
        "16fdb424c9774233be52ef101955b373": {
          "model_module": "@jupyter-widgets/output",
          "model_name": "OutputModel",
          "model_module_version": "1.0.0",
          "state": {
            "_dom_classes": [],
            "_model_module": "@jupyter-widgets/output",
            "_model_module_version": "1.0.0",
            "_model_name": "OutputModel",
            "_view_count": null,
            "_view_module": "@jupyter-widgets/output",
            "_view_module_version": "1.0.0",
            "_view_name": "OutputView",
            "layout": "IPY_MODEL_d2f2e939ab864f4294c4207a50d105fe",
            "msg_id": "",
            "outputs": [
              {
                "output_type": "display_data",
                "data": {
                  "text/plain": "Working... \u001b[38;2;114;156;31m━━━━━━━━━━━━━━━━━━━━━━━━━━━━━━━━━━━━━━━━\u001b[0m \u001b[35m100%\u001b[0m \u001b[33m0:00:34\u001b[0m\n",
                  "text/html": "<pre style=\"white-space:pre;overflow-x:auto;line-height:normal;font-family:Menlo,'DejaVu Sans Mono',consolas,'Courier New',monospace\">Working... <span style=\"color: #729c1f; text-decoration-color: #729c1f\">━━━━━━━━━━━━━━━━━━━━━━━━━━━━━━━━━━━━━━━━</span> <span style=\"color: #800080; text-decoration-color: #800080\">100%</span> <span style=\"color: #808000; text-decoration-color: #808000\">0:00:34</span>\n</pre>\n"
                },
                "metadata": {}
              }
            ]
          }
        },
        "d2f2e939ab864f4294c4207a50d105fe": {
          "model_module": "@jupyter-widgets/base",
          "model_name": "LayoutModel",
          "model_module_version": "1.2.0",
          "state": {
            "_model_module": "@jupyter-widgets/base",
            "_model_module_version": "1.2.0",
            "_model_name": "LayoutModel",
            "_view_count": null,
            "_view_module": "@jupyter-widgets/base",
            "_view_module_version": "1.2.0",
            "_view_name": "LayoutView",
            "align_content": null,
            "align_items": null,
            "align_self": null,
            "border": null,
            "bottom": null,
            "display": null,
            "flex": null,
            "flex_flow": null,
            "grid_area": null,
            "grid_auto_columns": null,
            "grid_auto_flow": null,
            "grid_auto_rows": null,
            "grid_column": null,
            "grid_gap": null,
            "grid_row": null,
            "grid_template_areas": null,
            "grid_template_columns": null,
            "grid_template_rows": null,
            "height": null,
            "justify_content": null,
            "justify_items": null,
            "left": null,
            "margin": null,
            "max_height": null,
            "max_width": null,
            "min_height": null,
            "min_width": null,
            "object_fit": null,
            "object_position": null,
            "order": null,
            "overflow": null,
            "overflow_x": null,
            "overflow_y": null,
            "padding": null,
            "right": null,
            "top": null,
            "visibility": null,
            "width": null
          }
        },
        "f7b7911755f34486b8c4ab2a70a02930": {
          "model_module": "@jupyter-widgets/output",
          "model_name": "OutputModel",
          "model_module_version": "1.0.0",
          "state": {
            "_dom_classes": [],
            "_model_module": "@jupyter-widgets/output",
            "_model_module_version": "1.0.0",
            "_model_name": "OutputModel",
            "_view_count": null,
            "_view_module": "@jupyter-widgets/output",
            "_view_module_version": "1.0.0",
            "_view_name": "OutputView",
            "layout": "IPY_MODEL_29236ddbc6554b1499682ff66f41ddb4",
            "msg_id": "",
            "outputs": [
              {
                "output_type": "display_data",
                "data": {
                  "text/plain": "Working... \u001b[38;2;114;156;31m━━━━━━━━━━━━━━━━━━━━━━━━━━━━━━━━━━━━━━━━\u001b[0m \u001b[35m100%\u001b[0m \u001b[33m0:00:39\u001b[0m\n",
                  "text/html": "<pre style=\"white-space:pre;overflow-x:auto;line-height:normal;font-family:Menlo,'DejaVu Sans Mono',consolas,'Courier New',monospace\">Working... <span style=\"color: #729c1f; text-decoration-color: #729c1f\">━━━━━━━━━━━━━━━━━━━━━━━━━━━━━━━━━━━━━━━━</span> <span style=\"color: #800080; text-decoration-color: #800080\">100%</span> <span style=\"color: #808000; text-decoration-color: #808000\">0:00:39</span>\n</pre>\n"
                },
                "metadata": {}
              }
            ]
          }
        },
        "29236ddbc6554b1499682ff66f41ddb4": {
          "model_module": "@jupyter-widgets/base",
          "model_name": "LayoutModel",
          "model_module_version": "1.2.0",
          "state": {
            "_model_module": "@jupyter-widgets/base",
            "_model_module_version": "1.2.0",
            "_model_name": "LayoutModel",
            "_view_count": null,
            "_view_module": "@jupyter-widgets/base",
            "_view_module_version": "1.2.0",
            "_view_name": "LayoutView",
            "align_content": null,
            "align_items": null,
            "align_self": null,
            "border": null,
            "bottom": null,
            "display": null,
            "flex": null,
            "flex_flow": null,
            "grid_area": null,
            "grid_auto_columns": null,
            "grid_auto_flow": null,
            "grid_auto_rows": null,
            "grid_column": null,
            "grid_gap": null,
            "grid_row": null,
            "grid_template_areas": null,
            "grid_template_columns": null,
            "grid_template_rows": null,
            "height": null,
            "justify_content": null,
            "justify_items": null,
            "left": null,
            "margin": null,
            "max_height": null,
            "max_width": null,
            "min_height": null,
            "min_width": null,
            "object_fit": null,
            "object_position": null,
            "order": null,
            "overflow": null,
            "overflow_x": null,
            "overflow_y": null,
            "padding": null,
            "right": null,
            "top": null,
            "visibility": null,
            "width": null
          }
        },
        "4bcb88a41e3444ec8af097a09890551a": {
          "model_module": "@jupyter-widgets/output",
          "model_name": "OutputModel",
          "model_module_version": "1.0.0",
          "state": {
            "_dom_classes": [],
            "_model_module": "@jupyter-widgets/output",
            "_model_module_version": "1.0.0",
            "_model_name": "OutputModel",
            "_view_count": null,
            "_view_module": "@jupyter-widgets/output",
            "_view_module_version": "1.0.0",
            "_view_name": "OutputView",
            "layout": "IPY_MODEL_4edca084b20244948ed27a6c1446491e",
            "msg_id": "",
            "outputs": [
              {
                "output_type": "display_data",
                "data": {
                  "text/plain": "Working... \u001b[38;2;114;156;31m━━━━━━━━━━━━━━━━━━━━━━━━━━━━━━━━━━━━━━━━\u001b[0m \u001b[35m100%\u001b[0m \u001b[33m0:00:41\u001b[0m\n",
                  "text/html": "<pre style=\"white-space:pre;overflow-x:auto;line-height:normal;font-family:Menlo,'DejaVu Sans Mono',consolas,'Courier New',monospace\">Working... <span style=\"color: #729c1f; text-decoration-color: #729c1f\">━━━━━━━━━━━━━━━━━━━━━━━━━━━━━━━━━━━━━━━━</span> <span style=\"color: #800080; text-decoration-color: #800080\">100%</span> <span style=\"color: #808000; text-decoration-color: #808000\">0:00:41</span>\n</pre>\n"
                },
                "metadata": {}
              }
            ]
          }
        },
        "4edca084b20244948ed27a6c1446491e": {
          "model_module": "@jupyter-widgets/base",
          "model_name": "LayoutModel",
          "model_module_version": "1.2.0",
          "state": {
            "_model_module": "@jupyter-widgets/base",
            "_model_module_version": "1.2.0",
            "_model_name": "LayoutModel",
            "_view_count": null,
            "_view_module": "@jupyter-widgets/base",
            "_view_module_version": "1.2.0",
            "_view_name": "LayoutView",
            "align_content": null,
            "align_items": null,
            "align_self": null,
            "border": null,
            "bottom": null,
            "display": null,
            "flex": null,
            "flex_flow": null,
            "grid_area": null,
            "grid_auto_columns": null,
            "grid_auto_flow": null,
            "grid_auto_rows": null,
            "grid_column": null,
            "grid_gap": null,
            "grid_row": null,
            "grid_template_areas": null,
            "grid_template_columns": null,
            "grid_template_rows": null,
            "height": null,
            "justify_content": null,
            "justify_items": null,
            "left": null,
            "margin": null,
            "max_height": null,
            "max_width": null,
            "min_height": null,
            "min_width": null,
            "object_fit": null,
            "object_position": null,
            "order": null,
            "overflow": null,
            "overflow_x": null,
            "overflow_y": null,
            "padding": null,
            "right": null,
            "top": null,
            "visibility": null,
            "width": null
          }
        },
        "16cd4ec257564d61b28d16700ca626c7": {
          "model_module": "@jupyter-widgets/output",
          "model_name": "OutputModel",
          "model_module_version": "1.0.0",
          "state": {
            "_dom_classes": [],
            "_model_module": "@jupyter-widgets/output",
            "_model_module_version": "1.0.0",
            "_model_name": "OutputModel",
            "_view_count": null,
            "_view_module": "@jupyter-widgets/output",
            "_view_module_version": "1.0.0",
            "_view_name": "OutputView",
            "layout": "IPY_MODEL_bae00b9ba6bb44df88193b18a9c1f4d4",
            "msg_id": "",
            "outputs": [
              {
                "output_type": "display_data",
                "data": {
                  "text/plain": "Working... \u001b[38;2;114;156;31m━━━━━━━━━━━━━━━━━━━━━━━━━━━━━━━━━━━━━━━━\u001b[0m \u001b[35m100%\u001b[0m \u001b[33m0:00:46\u001b[0m\n",
                  "text/html": "<pre style=\"white-space:pre;overflow-x:auto;line-height:normal;font-family:Menlo,'DejaVu Sans Mono',consolas,'Courier New',monospace\">Working... <span style=\"color: #729c1f; text-decoration-color: #729c1f\">━━━━━━━━━━━━━━━━━━━━━━━━━━━━━━━━━━━━━━━━</span> <span style=\"color: #800080; text-decoration-color: #800080\">100%</span> <span style=\"color: #808000; text-decoration-color: #808000\">0:00:46</span>\n</pre>\n"
                },
                "metadata": {}
              }
            ]
          }
        },
        "bae00b9ba6bb44df88193b18a9c1f4d4": {
          "model_module": "@jupyter-widgets/base",
          "model_name": "LayoutModel",
          "model_module_version": "1.2.0",
          "state": {
            "_model_module": "@jupyter-widgets/base",
            "_model_module_version": "1.2.0",
            "_model_name": "LayoutModel",
            "_view_count": null,
            "_view_module": "@jupyter-widgets/base",
            "_view_module_version": "1.2.0",
            "_view_name": "LayoutView",
            "align_content": null,
            "align_items": null,
            "align_self": null,
            "border": null,
            "bottom": null,
            "display": null,
            "flex": null,
            "flex_flow": null,
            "grid_area": null,
            "grid_auto_columns": null,
            "grid_auto_flow": null,
            "grid_auto_rows": null,
            "grid_column": null,
            "grid_gap": null,
            "grid_row": null,
            "grid_template_areas": null,
            "grid_template_columns": null,
            "grid_template_rows": null,
            "height": null,
            "justify_content": null,
            "justify_items": null,
            "left": null,
            "margin": null,
            "max_height": null,
            "max_width": null,
            "min_height": null,
            "min_width": null,
            "object_fit": null,
            "object_position": null,
            "order": null,
            "overflow": null,
            "overflow_x": null,
            "overflow_y": null,
            "padding": null,
            "right": null,
            "top": null,
            "visibility": null,
            "width": null
          }
        },
        "d79186584c5849e3aaa660a7a564911a": {
          "model_module": "@jupyter-widgets/output",
          "model_name": "OutputModel",
          "model_module_version": "1.0.0",
          "state": {
            "_dom_classes": [],
            "_model_module": "@jupyter-widgets/output",
            "_model_module_version": "1.0.0",
            "_model_name": "OutputModel",
            "_view_count": null,
            "_view_module": "@jupyter-widgets/output",
            "_view_module_version": "1.0.0",
            "_view_name": "OutputView",
            "layout": "IPY_MODEL_4f47e9fae8904b439e4a5b4162a3958e",
            "msg_id": "",
            "outputs": [
              {
                "output_type": "display_data",
                "data": {
                  "text/plain": "Working... \u001b[38;2;114;156;31m━━━━━━━━━━━━━━━━━━━━━━━━━━━━━━━━━━━━━━━━\u001b[0m \u001b[35m100%\u001b[0m \u001b[33m0:00:53\u001b[0m\n",
                  "text/html": "<pre style=\"white-space:pre;overflow-x:auto;line-height:normal;font-family:Menlo,'DejaVu Sans Mono',consolas,'Courier New',monospace\">Working... <span style=\"color: #729c1f; text-decoration-color: #729c1f\">━━━━━━━━━━━━━━━━━━━━━━━━━━━━━━━━━━━━━━━━</span> <span style=\"color: #800080; text-decoration-color: #800080\">100%</span> <span style=\"color: #808000; text-decoration-color: #808000\">0:00:53</span>\n</pre>\n"
                },
                "metadata": {}
              }
            ]
          }
        },
        "4f47e9fae8904b439e4a5b4162a3958e": {
          "model_module": "@jupyter-widgets/base",
          "model_name": "LayoutModel",
          "model_module_version": "1.2.0",
          "state": {
            "_model_module": "@jupyter-widgets/base",
            "_model_module_version": "1.2.0",
            "_model_name": "LayoutModel",
            "_view_count": null,
            "_view_module": "@jupyter-widgets/base",
            "_view_module_version": "1.2.0",
            "_view_name": "LayoutView",
            "align_content": null,
            "align_items": null,
            "align_self": null,
            "border": null,
            "bottom": null,
            "display": null,
            "flex": null,
            "flex_flow": null,
            "grid_area": null,
            "grid_auto_columns": null,
            "grid_auto_flow": null,
            "grid_auto_rows": null,
            "grid_column": null,
            "grid_gap": null,
            "grid_row": null,
            "grid_template_areas": null,
            "grid_template_columns": null,
            "grid_template_rows": null,
            "height": null,
            "justify_content": null,
            "justify_items": null,
            "left": null,
            "margin": null,
            "max_height": null,
            "max_width": null,
            "min_height": null,
            "min_width": null,
            "object_fit": null,
            "object_position": null,
            "order": null,
            "overflow": null,
            "overflow_x": null,
            "overflow_y": null,
            "padding": null,
            "right": null,
            "top": null,
            "visibility": null,
            "width": null
          }
        },
        "014ac1e0a86c49df8c6dccfa1ac72b9e": {
          "model_module": "@jupyter-widgets/output",
          "model_name": "OutputModel",
          "model_module_version": "1.0.0",
          "state": {
            "_dom_classes": [],
            "_model_module": "@jupyter-widgets/output",
            "_model_module_version": "1.0.0",
            "_model_name": "OutputModel",
            "_view_count": null,
            "_view_module": "@jupyter-widgets/output",
            "_view_module_version": "1.0.0",
            "_view_name": "OutputView",
            "layout": "IPY_MODEL_7dbe3928b28e4b5cb615273f32561441",
            "msg_id": "",
            "outputs": [
              {
                "output_type": "display_data",
                "data": {
                  "text/plain": "Working... \u001b[38;2;114;156;31m━━━━━━━━━━━━━━━━━━━━━━━━━━━━━━━━━━━━━━━━\u001b[0m \u001b[35m100%\u001b[0m \u001b[33m0:00:54\u001b[0m\n",
                  "text/html": "<pre style=\"white-space:pre;overflow-x:auto;line-height:normal;font-family:Menlo,'DejaVu Sans Mono',consolas,'Courier New',monospace\">Working... <span style=\"color: #729c1f; text-decoration-color: #729c1f\">━━━━━━━━━━━━━━━━━━━━━━━━━━━━━━━━━━━━━━━━</span> <span style=\"color: #800080; text-decoration-color: #800080\">100%</span> <span style=\"color: #808000; text-decoration-color: #808000\">0:00:54</span>\n</pre>\n"
                },
                "metadata": {}
              }
            ]
          }
        },
        "7dbe3928b28e4b5cb615273f32561441": {
          "model_module": "@jupyter-widgets/base",
          "model_name": "LayoutModel",
          "model_module_version": "1.2.0",
          "state": {
            "_model_module": "@jupyter-widgets/base",
            "_model_module_version": "1.2.0",
            "_model_name": "LayoutModel",
            "_view_count": null,
            "_view_module": "@jupyter-widgets/base",
            "_view_module_version": "1.2.0",
            "_view_name": "LayoutView",
            "align_content": null,
            "align_items": null,
            "align_self": null,
            "border": null,
            "bottom": null,
            "display": null,
            "flex": null,
            "flex_flow": null,
            "grid_area": null,
            "grid_auto_columns": null,
            "grid_auto_flow": null,
            "grid_auto_rows": null,
            "grid_column": null,
            "grid_gap": null,
            "grid_row": null,
            "grid_template_areas": null,
            "grid_template_columns": null,
            "grid_template_rows": null,
            "height": null,
            "justify_content": null,
            "justify_items": null,
            "left": null,
            "margin": null,
            "max_height": null,
            "max_width": null,
            "min_height": null,
            "min_width": null,
            "object_fit": null,
            "object_position": null,
            "order": null,
            "overflow": null,
            "overflow_x": null,
            "overflow_y": null,
            "padding": null,
            "right": null,
            "top": null,
            "visibility": null,
            "width": null
          }
        },
        "319eacd3d2ab4feba939564a02e76587": {
          "model_module": "@jupyter-widgets/output",
          "model_name": "OutputModel",
          "model_module_version": "1.0.0",
          "state": {
            "_dom_classes": [],
            "_model_module": "@jupyter-widgets/output",
            "_model_module_version": "1.0.0",
            "_model_name": "OutputModel",
            "_view_count": null,
            "_view_module": "@jupyter-widgets/output",
            "_view_module_version": "1.0.0",
            "_view_name": "OutputView",
            "layout": "IPY_MODEL_c64e8b984a8f483d9ae18a6c00106622",
            "msg_id": "",
            "outputs": [
              {
                "output_type": "display_data",
                "data": {
                  "text/plain": "Working... \u001b[38;2;114;156;31m━━━━━━━━━━━━━━━━━━━━━━━━━━━━━━━━━━━━━━━━\u001b[0m \u001b[35m100%\u001b[0m \u001b[33m0:01:00\u001b[0m\n",
                  "text/html": "<pre style=\"white-space:pre;overflow-x:auto;line-height:normal;font-family:Menlo,'DejaVu Sans Mono',consolas,'Courier New',monospace\">Working... <span style=\"color: #729c1f; text-decoration-color: #729c1f\">━━━━━━━━━━━━━━━━━━━━━━━━━━━━━━━━━━━━━━━━</span> <span style=\"color: #800080; text-decoration-color: #800080\">100%</span> <span style=\"color: #808000; text-decoration-color: #808000\">0:01:00</span>\n</pre>\n"
                },
                "metadata": {}
              }
            ]
          }
        },
        "c64e8b984a8f483d9ae18a6c00106622": {
          "model_module": "@jupyter-widgets/base",
          "model_name": "LayoutModel",
          "model_module_version": "1.2.0",
          "state": {
            "_model_module": "@jupyter-widgets/base",
            "_model_module_version": "1.2.0",
            "_model_name": "LayoutModel",
            "_view_count": null,
            "_view_module": "@jupyter-widgets/base",
            "_view_module_version": "1.2.0",
            "_view_name": "LayoutView",
            "align_content": null,
            "align_items": null,
            "align_self": null,
            "border": null,
            "bottom": null,
            "display": null,
            "flex": null,
            "flex_flow": null,
            "grid_area": null,
            "grid_auto_columns": null,
            "grid_auto_flow": null,
            "grid_auto_rows": null,
            "grid_column": null,
            "grid_gap": null,
            "grid_row": null,
            "grid_template_areas": null,
            "grid_template_columns": null,
            "grid_template_rows": null,
            "height": null,
            "justify_content": null,
            "justify_items": null,
            "left": null,
            "margin": null,
            "max_height": null,
            "max_width": null,
            "min_height": null,
            "min_width": null,
            "object_fit": null,
            "object_position": null,
            "order": null,
            "overflow": null,
            "overflow_x": null,
            "overflow_y": null,
            "padding": null,
            "right": null,
            "top": null,
            "visibility": null,
            "width": null
          }
        },
        "5eacec7590a24f86a4fcd9a525b5e173": {
          "model_module": "@jupyter-widgets/output",
          "model_name": "OutputModel",
          "model_module_version": "1.0.0",
          "state": {
            "_dom_classes": [],
            "_model_module": "@jupyter-widgets/output",
            "_model_module_version": "1.0.0",
            "_model_name": "OutputModel",
            "_view_count": null,
            "_view_module": "@jupyter-widgets/output",
            "_view_module_version": "1.0.0",
            "_view_name": "OutputView",
            "layout": "IPY_MODEL_35cebe3fb7794d6aa93fcf488b9a3999",
            "msg_id": "",
            "outputs": [
              {
                "output_type": "display_data",
                "data": {
                  "text/plain": "Working... \u001b[38;2;114;156;31m━━━━━━━━━━━━━━━━━━━━━━━━━━━━━━━━━━━━━━━━\u001b[0m \u001b[35m100%\u001b[0m \u001b[33m0:01:03\u001b[0m\n",
                  "text/html": "<pre style=\"white-space:pre;overflow-x:auto;line-height:normal;font-family:Menlo,'DejaVu Sans Mono',consolas,'Courier New',monospace\">Working... <span style=\"color: #729c1f; text-decoration-color: #729c1f\">━━━━━━━━━━━━━━━━━━━━━━━━━━━━━━━━━━━━━━━━</span> <span style=\"color: #800080; text-decoration-color: #800080\">100%</span> <span style=\"color: #808000; text-decoration-color: #808000\">0:01:03</span>\n</pre>\n"
                },
                "metadata": {}
              }
            ]
          }
        },
        "35cebe3fb7794d6aa93fcf488b9a3999": {
          "model_module": "@jupyter-widgets/base",
          "model_name": "LayoutModel",
          "model_module_version": "1.2.0",
          "state": {
            "_model_module": "@jupyter-widgets/base",
            "_model_module_version": "1.2.0",
            "_model_name": "LayoutModel",
            "_view_count": null,
            "_view_module": "@jupyter-widgets/base",
            "_view_module_version": "1.2.0",
            "_view_name": "LayoutView",
            "align_content": null,
            "align_items": null,
            "align_self": null,
            "border": null,
            "bottom": null,
            "display": null,
            "flex": null,
            "flex_flow": null,
            "grid_area": null,
            "grid_auto_columns": null,
            "grid_auto_flow": null,
            "grid_auto_rows": null,
            "grid_column": null,
            "grid_gap": null,
            "grid_row": null,
            "grid_template_areas": null,
            "grid_template_columns": null,
            "grid_template_rows": null,
            "height": null,
            "justify_content": null,
            "justify_items": null,
            "left": null,
            "margin": null,
            "max_height": null,
            "max_width": null,
            "min_height": null,
            "min_width": null,
            "object_fit": null,
            "object_position": null,
            "order": null,
            "overflow": null,
            "overflow_x": null,
            "overflow_y": null,
            "padding": null,
            "right": null,
            "top": null,
            "visibility": null,
            "width": null
          }
        },
        "1ba13b7ce7214cdfa623584ddef16e9b": {
          "model_module": "@jupyter-widgets/output",
          "model_name": "OutputModel",
          "model_module_version": "1.0.0",
          "state": {
            "_dom_classes": [],
            "_model_module": "@jupyter-widgets/output",
            "_model_module_version": "1.0.0",
            "_model_name": "OutputModel",
            "_view_count": null,
            "_view_module": "@jupyter-widgets/output",
            "_view_module_version": "1.0.0",
            "_view_name": "OutputView",
            "layout": "IPY_MODEL_7d9740abf0df4f52b4e599cdc1821928",
            "msg_id": "",
            "outputs": [
              {
                "output_type": "display_data",
                "data": {
                  "text/plain": "Working... \u001b[38;2;114;156;31m━━━━━━━━━━━━━━━━━━━━━━━━━━━━━━━━━━━━━━━━\u001b[0m \u001b[35m100%\u001b[0m \u001b[33m0:01:10\u001b[0m\n",
                  "text/html": "<pre style=\"white-space:pre;overflow-x:auto;line-height:normal;font-family:Menlo,'DejaVu Sans Mono',consolas,'Courier New',monospace\">Working... <span style=\"color: #729c1f; text-decoration-color: #729c1f\">━━━━━━━━━━━━━━━━━━━━━━━━━━━━━━━━━━━━━━━━</span> <span style=\"color: #800080; text-decoration-color: #800080\">100%</span> <span style=\"color: #808000; text-decoration-color: #808000\">0:01:10</span>\n</pre>\n"
                },
                "metadata": {}
              }
            ]
          }
        },
        "7d9740abf0df4f52b4e599cdc1821928": {
          "model_module": "@jupyter-widgets/base",
          "model_name": "LayoutModel",
          "model_module_version": "1.2.0",
          "state": {
            "_model_module": "@jupyter-widgets/base",
            "_model_module_version": "1.2.0",
            "_model_name": "LayoutModel",
            "_view_count": null,
            "_view_module": "@jupyter-widgets/base",
            "_view_module_version": "1.2.0",
            "_view_name": "LayoutView",
            "align_content": null,
            "align_items": null,
            "align_self": null,
            "border": null,
            "bottom": null,
            "display": null,
            "flex": null,
            "flex_flow": null,
            "grid_area": null,
            "grid_auto_columns": null,
            "grid_auto_flow": null,
            "grid_auto_rows": null,
            "grid_column": null,
            "grid_gap": null,
            "grid_row": null,
            "grid_template_areas": null,
            "grid_template_columns": null,
            "grid_template_rows": null,
            "height": null,
            "justify_content": null,
            "justify_items": null,
            "left": null,
            "margin": null,
            "max_height": null,
            "max_width": null,
            "min_height": null,
            "min_width": null,
            "object_fit": null,
            "object_position": null,
            "order": null,
            "overflow": null,
            "overflow_x": null,
            "overflow_y": null,
            "padding": null,
            "right": null,
            "top": null,
            "visibility": null,
            "width": null
          }
        },
        "998f302b12144dd3a861741775083901": {
          "model_module": "@jupyter-widgets/output",
          "model_name": "OutputModel",
          "model_module_version": "1.0.0",
          "state": {
            "_dom_classes": [],
            "_model_module": "@jupyter-widgets/output",
            "_model_module_version": "1.0.0",
            "_model_name": "OutputModel",
            "_view_count": null,
            "_view_module": "@jupyter-widgets/output",
            "_view_module_version": "1.0.0",
            "_view_name": "OutputView",
            "layout": "IPY_MODEL_c7b5b19bc2bd43d287cf450ee9b07354",
            "msg_id": "",
            "outputs": [
              {
                "output_type": "display_data",
                "data": {
                  "text/plain": "Working... \u001b[38;2;114;156;31m━━━━━━━━━━━━━━━━━━━━━━━━━━━━━━━━━━━━━━━━\u001b[0m \u001b[35m100%\u001b[0m \u001b[33m0:01:13\u001b[0m\n",
                  "text/html": "<pre style=\"white-space:pre;overflow-x:auto;line-height:normal;font-family:Menlo,'DejaVu Sans Mono',consolas,'Courier New',monospace\">Working... <span style=\"color: #729c1f; text-decoration-color: #729c1f\">━━━━━━━━━━━━━━━━━━━━━━━━━━━━━━━━━━━━━━━━</span> <span style=\"color: #800080; text-decoration-color: #800080\">100%</span> <span style=\"color: #808000; text-decoration-color: #808000\">0:01:13</span>\n</pre>\n"
                },
                "metadata": {}
              }
            ]
          }
        },
        "c7b5b19bc2bd43d287cf450ee9b07354": {
          "model_module": "@jupyter-widgets/base",
          "model_name": "LayoutModel",
          "model_module_version": "1.2.0",
          "state": {
            "_model_module": "@jupyter-widgets/base",
            "_model_module_version": "1.2.0",
            "_model_name": "LayoutModel",
            "_view_count": null,
            "_view_module": "@jupyter-widgets/base",
            "_view_module_version": "1.2.0",
            "_view_name": "LayoutView",
            "align_content": null,
            "align_items": null,
            "align_self": null,
            "border": null,
            "bottom": null,
            "display": null,
            "flex": null,
            "flex_flow": null,
            "grid_area": null,
            "grid_auto_columns": null,
            "grid_auto_flow": null,
            "grid_auto_rows": null,
            "grid_column": null,
            "grid_gap": null,
            "grid_row": null,
            "grid_template_areas": null,
            "grid_template_columns": null,
            "grid_template_rows": null,
            "height": null,
            "justify_content": null,
            "justify_items": null,
            "left": null,
            "margin": null,
            "max_height": null,
            "max_width": null,
            "min_height": null,
            "min_width": null,
            "object_fit": null,
            "object_position": null,
            "order": null,
            "overflow": null,
            "overflow_x": null,
            "overflow_y": null,
            "padding": null,
            "right": null,
            "top": null,
            "visibility": null,
            "width": null
          }
        },
        "aefa3fec4a494daa96a4b72bf7c2ddb0": {
          "model_module": "@jupyter-widgets/output",
          "model_name": "OutputModel",
          "model_module_version": "1.0.0",
          "state": {
            "_dom_classes": [],
            "_model_module": "@jupyter-widgets/output",
            "_model_module_version": "1.0.0",
            "_model_name": "OutputModel",
            "_view_count": null,
            "_view_module": "@jupyter-widgets/output",
            "_view_module_version": "1.0.0",
            "_view_name": "OutputView",
            "layout": "IPY_MODEL_15919e6deed64061afa0a894d115e094",
            "msg_id": "",
            "outputs": [
              {
                "output_type": "display_data",
                "data": {
                  "text/plain": "Working... \u001b[38;2;114;156;31m━━━━━━━━━━━━━━━━━━━━━━━━━━━━━━━━━━━━━━━━\u001b[0m \u001b[35m100%\u001b[0m \u001b[33m0:01:20\u001b[0m\n",
                  "text/html": "<pre style=\"white-space:pre;overflow-x:auto;line-height:normal;font-family:Menlo,'DejaVu Sans Mono',consolas,'Courier New',monospace\">Working... <span style=\"color: #729c1f; text-decoration-color: #729c1f\">━━━━━━━━━━━━━━━━━━━━━━━━━━━━━━━━━━━━━━━━</span> <span style=\"color: #800080; text-decoration-color: #800080\">100%</span> <span style=\"color: #808000; text-decoration-color: #808000\">0:01:20</span>\n</pre>\n"
                },
                "metadata": {}
              }
            ]
          }
        },
        "15919e6deed64061afa0a894d115e094": {
          "model_module": "@jupyter-widgets/base",
          "model_name": "LayoutModel",
          "model_module_version": "1.2.0",
          "state": {
            "_model_module": "@jupyter-widgets/base",
            "_model_module_version": "1.2.0",
            "_model_name": "LayoutModel",
            "_view_count": null,
            "_view_module": "@jupyter-widgets/base",
            "_view_module_version": "1.2.0",
            "_view_name": "LayoutView",
            "align_content": null,
            "align_items": null,
            "align_self": null,
            "border": null,
            "bottom": null,
            "display": null,
            "flex": null,
            "flex_flow": null,
            "grid_area": null,
            "grid_auto_columns": null,
            "grid_auto_flow": null,
            "grid_auto_rows": null,
            "grid_column": null,
            "grid_gap": null,
            "grid_row": null,
            "grid_template_areas": null,
            "grid_template_columns": null,
            "grid_template_rows": null,
            "height": null,
            "justify_content": null,
            "justify_items": null,
            "left": null,
            "margin": null,
            "max_height": null,
            "max_width": null,
            "min_height": null,
            "min_width": null,
            "object_fit": null,
            "object_position": null,
            "order": null,
            "overflow": null,
            "overflow_x": null,
            "overflow_y": null,
            "padding": null,
            "right": null,
            "top": null,
            "visibility": null,
            "width": null
          }
        }
      }
    }
  },
  "nbformat": 4,
  "nbformat_minor": 5
}